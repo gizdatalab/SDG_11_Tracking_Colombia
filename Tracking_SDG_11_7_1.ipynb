{
  "nbformat": 4,
  "nbformat_minor": 0,
  "metadata": {
    "colab": {
      "name": "Tracking_SDG_11_7_1.ipynb",
      "provenance": [],
      "toc_visible": true,
      "authorship_tag": "ABX9TyOD142OmMjG4ikb4SDhpG3m",
      "include_colab_link": true
    },
    "kernelspec": {
      "name": "python3",
      "display_name": "Python 3"
    },
    "language_info": {
      "name": "python"
    }
  },
  "cells": [
    {
      "cell_type": "markdown",
      "metadata": {
        "id": "view-in-github",
        "colab_type": "text"
      },
      "source": [
        "<a href=\"https://colab.research.google.com/github/gizdatalab/SGD_11_Tracking_Colombia/blob/main/Tracking_SDG_11_7_1.ipynb\" target=\"_parent\"><img src=\"https://colab.research.google.com/assets/colab-badge.svg\" alt=\"Open In Colab\"/></a>"
      ]
    },
    {
      "cell_type": "markdown",
      "metadata": {
        "id": "W1byMlskKv7F"
      },
      "source": [
        "# Prerequiaries to execute GEE Code"
      ]
    },
    {
      "cell_type": "code",
      "metadata": {
        "id": "VnaIpYxRKrqD"
      },
      "source": [
        "%%capture\n",
        "!pip install  geemap\n",
        "!pip install folium\n",
        "#!pip install ipyleaflet"
      ],
      "execution_count": 1,
      "outputs": []
    },
    {
      "cell_type": "code",
      "metadata": {
        "colab": {
          "base_uri": "https://localhost:8080/"
        },
        "id": "XY30Bj5rK0P7",
        "outputId": "4624a10d-5d0d-421c-d997-cbaa6eda88eb"
      },
      "source": [
        "!earthengine authenticate "
      ],
      "execution_count": 2,
      "outputs": [
        {
          "output_type": "stream",
          "text": [
            "WARNING:tensorflow:From /usr/local/lib/python3.7/dist-packages/tensorflow/python/compat/v2_compat.py:96: disable_resource_variables (from tensorflow.python.ops.variable_scope) is deprecated and will be removed in a future version.\n",
            "Instructions for updating:\n",
            "non-resource variables are not supported in the long term\n",
            "To authorize access needed by Earth Engine, open the following URL in a web browser and follow the instructions. If the web browser does not start automatically, please manually browse the URL below.\n",
            "\n",
            "    https://accounts.google.com/o/oauth2/auth?client_id=517222506229-vsmmajv00ul0bs7p89v5m89qs8eb9359.apps.googleusercontent.com&scope=https%3A%2F%2Fwww.googleapis.com%2Fauth%2Fearthengine+https%3A%2F%2Fwww.googleapis.com%2Fauth%2Fdevstorage.full_control&redirect_uri=urn%3Aietf%3Awg%3Aoauth%3A2.0%3Aoob&response_type=code&code_challenge=mS6ni46hkcgoZ4L2gD97sQslgyDK9dzB9WTs9lSLcT4&code_challenge_method=S256\n",
            "\n",
            "The authorization workflow will generate a code, which you should paste in the box below. \n",
            "Enter verification code: 4/1AY0e-g5aRnWvseCsnwccBRHZX6gQtvaSVfDI1VB7JEZGSZ2BhwliCadY3Nc\n",
            "\n",
            "Successfully saved authorization token.\n"
          ],
          "name": "stdout"
        }
      ]
    },
    {
      "cell_type": "code",
      "metadata": {
        "id": "IIiMua5sKrhj"
      },
      "source": [
        "# Import, authenticate and initialize the Earth Engine library.\n",
        "import ee\n",
        "import numpy as np\n",
        "import geemap\n",
        "try:\n",
        "    ee.Initialize()\n",
        "except Exception as e:\n",
        "    ee.Authenticate()\n",
        "    ee.Initialize()"
      ],
      "execution_count": 3,
      "outputs": []
    },
    {
      "cell_type": "markdown",
      "metadata": {
        "id": "mHJ6Iwi4Jivn"
      },
      "source": [
        "# Goal 11: Make cities and human settlements inclusive, safe, resilient and sustainable\n",
        "Target 11.7: By 2030, provide universal access to safe, inclusive and accessible, green and public spaces, in particular for women and children, older persons and persons with disabilities\n",
        "# Indicator 11.7.1: Average share of the built-up area of cities that is open space for public use for all, by sex, age and persons with disabilities \n",
        "\n",
        "https://unstats.un.org/sdgs/metadata/files/Metadata-11-07-01.pdf"
      ]
    },
    {
      "cell_type": "markdown",
      "metadata": {
        "id": "sjRnzyszJi3R"
      },
      "source": [
        "## Definition and concepts:\n",
        "Indicator 11.7.1 has several interesting concepts that required global consultations and consensus. These\n",
        "include; built-up area, cities, open spaces for public use, etc. As a custodian agency, UN-Habitat has\n",
        "worked on these concepts along with several other partners.\n"
      ]
    },
    {
      "cell_type": "markdown",
      "metadata": {
        "id": "f9yVV9jVJi8o"
      },
      "source": [
        "### a) City \n",
        "A range of accepted definitions of the “city” exist, from those based on population\n",
        "data and extent of the built-up area to those that are based solely on administrative\n",
        "boundaries. These definitions vary within and between nations, complicating the task\n",
        "of international reporting for the SDGs. Definitions of cities, metropolitan areas and\n",
        "urban agglomerations also vary depending on legal, administrative, political, economic\n",
        "or cultural criteria in the respective countries and regions. Since 2016UN-Habitat and\n",
        "partners organized global consultations and discussions to narrow down the set of\n",
        "meaningful definitions that would be helpful for the global monitoring and reporting\n",
        "process. Following consultations with 86 member states, the United Nations Statistical\n",
        "Commission, in its 51st Session (March 2020) endorsed the Degree of Urbanisation\n",
        "(DEGURBA) as a workable method to delineate cities, urban and rural areas for\n",
        "international statistical comparisons. 1 This definition combines population size and\n",
        "population density thresholds to classify the entire territory of a country along the\n",
        "urban-rural continuum, and captures the full extent of a city, including the dense\n",
        "neighbourhoods beyond the boundary of the central municipality. DEGURBA is applied\n",
        "in a two-step process: First, 1 km2 grid cells are classified based on population density,\n",
        "contiguity and population size. Subsequently, local units are classified as urban or rural\n",
        "based on the type of grid cells in which majority of their population resides. For the\n",
        "computation of indicator 11.7.1, countries are encouraged to adopt the degree of\n",
        "urbanisation to define the analysis area (city or urban area)."
      ]
    },
    {
      "cell_type": "markdown",
      "metadata": {
        "id": "Bq9RIekaKGTI"
      },
      "source": [
        "### b) Built-up area of cities: \n",
        "Conventionally, built up areas of cities are areas occupied by\n",
        "buildings and other artificial surfaces. For indicator 11.7.1, built up areas, as the\n",
        "indicator denominator has the same meaning as “city” (see definition of city above).\n",
        "Public space: The Global Public Space toolkit defines Public Space as all places that\n",
        "are publicly owned or of public use, accessible and enjoyable by all, for free and\n",
        "without a profit motive, categorized into streets, open spaces and public facilities.\n",
        "###Public space \n",
        "in general is defined as the meeting or gathering places that exist\n",
        "outside the home and workplace that are generally accessible by members of the\n",
        "public, and which foster resident interaction and opportunities for contact and\n",
        "proximity. This definition implies a higher level of community interaction and places\n",
        "a focus on public involvement rather than public ownership or stewardship. For the\n",
        "purpose of monitoring and reporting on indicator 11.7.1, public space is defined as\n",
        "all places of public use, accessible by all, and comprises open public space and\n",
        "streets. "
      ]
    },
    {
      "cell_type": "markdown",
      "metadata": {
        "id": "1-YjeOKqKQqm"
      },
      "source": [
        "###c) Open public space: \n",
        "is any open piece of land that is undeveloped or land with no\n",
        "buildings (or other built structures) that is accessible to the public without charge, and\n",
        "provides recreational areas for residents and helps to enhance the beauty and\n",
        "environmental quality of neighbourhoods. UN-Habitat recognizes that different cities\n",
        "have different types of open public spaces, which vary in both size and typology. Based\n",
        "on the size of both soft and hard surfaces, open public spaces are broadly classified into\n",
        "six categories: national/metropolitan open spaces, regional/larger city open spaces,\n",
        "district/city open spaces, neighbourhood open spaces, local/pocket open spaces and\n",
        "linear open spaces. Classification of open public space by typology is described by the\n",
        "function of the space and can include: green public areas, riparian reserves, parks and\n",
        "urban forests, playground, square, plazas, waterfronts, sports field, community\n",
        "gardens, parklets and pocket parks. "
      ]
    },
    {
      "cell_type": "markdown",
      "metadata": {
        "id": "_Je_PeqaKWGL"
      },
      "source": [
        "### d) Potential open public space: \n",
        "the identification of open public spaces across cities can\n",
        "be implemented through, among other sources, analysis of high to very high resolution\n",
        "satellite imagery, from base-maps provided by different organizations (eg\n",
        "OpenStreetMap, Esri, etc) or as crowd-sourced and volunteered data. While these\n",
        "sources provide important baseline data for indicator 11.7.1, some of the identifiable\n",
        "spaces may not meet the criteria of being “accessible to the public without charge”.\n",
        "The term “potential open public space” is thus used to refer to open public spaces\n",
        "which are extracted from the above-mentioned sources (based on their spatial\n",
        "character), but which are not yet validated to confirm if they are accessible to the\n",
        "public without charge. "
      ]
    },
    {
      "cell_type": "markdown",
      "metadata": {
        "id": "gsZl25giKbVv"
      },
      "source": [
        "### e) Streets \n",
        "are defined thoroughfares that are based inside urban areas, towns, cities and\n",
        "neighbourhoods most commonly lined with houses or buildings used by pedestrians or\n",
        "vehicles in order to go from one place to another in the city, interact and to earn a\n",
        "livelihood. The main purpose of a street is facilitating movement and enabling public\n",
        "interaction. The following elements are considered as streets space: Streets, avenues\n",
        "and boulevards, pavements, passages and galleries, Bicycle paths, sidewalks, traffic\n",
        "island, tramways and roundabouts. Elements excluded from street space include plots (either built-up), open space blocks, railways, paved space within parking lots and\n",
        "airports and individual industries."
      ]
    },
    {
      "cell_type": "markdown",
      "metadata": {
        "id": "_w71MEWzKjXh"
      },
      "source": [
        "### f) Land allocated to streets\n",
        " refers to the total area of the city/urban area that is occupied\n",
        "by all forms of streets (as defined above). This indicator only includes streets available\n",
        "at the time of data collection and excludes proposed networks.\n"
      ]
    },
    {
      "cell_type": "markdown",
      "metadata": {
        "id": "1wpWU8BVKpJR"
      },
      "source": [
        "For more details and illustrations on the definition of the different types of open spaces considered for\n",
        "indicator 11.7.1 see SDG 11.7.1 step by step training module\n",
        "(https://unhabitat.org/sites/default/files/2020/07/indicator_11.7.1_training_module_public_space.pdf).\n"
      ]
    },
    {
      "cell_type": "code",
      "metadata": {
        "id": "R-n86vIfJ7Fw"
      },
      "source": [
        "\n",
        "# Area of interest (AOI)\n",
        "ADM_NAME = 'Santafe De Bogota D.c.';\n",
        "\n",
        "\n",
        "# Define the observation period, start year and end year\n",
        "start = 2000;\n",
        "end = 2015;\n",
        "difference = ee.Number(end).subtract(ee.Number(start));\n",
        "\n",
        "\n",
        "# define \"typical\" (e.g. average) street widths (in meters) for different type of roads\n",
        "widthResidantial = 5;\n",
        "widthOtherRoads = 8;\n",
        "\n",
        "\n",
        "# Parameters for the Sentinel-2 images that are used to proxy \"green\" public open spaces\n",
        "START_DATE = ee.Date('2015-01-01');\n",
        "END_DATE = ee.Date('2016-12-31');\n",
        "\n",
        "\n",
        "# maximum tolerable clou probability, pixels that have a cloud probability higher than this value will be masked\n",
        "MAX_CLOUD_PROBABILITY = 15; \n",
        "\n",
        "\n",
        "#Threshold that defines \"vegetation\" or \"green\" public spaces, note that the values are scaled: NDVI * 10000\n",
        "THRES = 1500; # e.g. 1500 would be an NDVI value of 0.15\n",
        "\n",
        "\n",
        "# Give the pixel size when converting vectors to rasters\n",
        "pixSize = 5;"
      ],
      "execution_count": 4,
      "outputs": []
    },
    {
      "cell_type": "code",
      "metadata": {
        "id": "2DJhFTndL-71"
      },
      "source": [
        "#************************************************************************************************************\n",
        "# Load and filter pre-existing data sets, NO USER INPUT REQUIRE, ONLY CHANGE WITH CARE\n",
        "#*************************************************************************************************************/\n",
        "\n",
        "# Second level administrative units from FAO\n",
        "adminArea = ee.FeatureCollection(\"FAO/GAUL/2015/level2\").filter(ee.Filter.eq(\"ADM2_NAME\", ADM_NAME));\n",
        "\n",
        "\n",
        "#***********************************************************************************************************\n",
        "# Step-1: Identify the built-up area\n",
        "#*************************************************************************************************************/\n",
        "\n",
        "# Built-up area from the Global Human Settlement Layer of the JRC\n",
        "builtUpGHSL = ee.Image(\"JRC/GHSL/P2016/BUILT_LDSMT_GLOBE_V1\").select('built').clip(adminArea);\n",
        "#// select the Multitemporal built-up presence layer\n",
        "                        \n",
        "\n",
        "\n",
        "# get the area that was built-up in 2000 from the \"Multitemporal built-up presence\" layer = past period                \n",
        "TotalBuiltUpStart = builtUpGHSL.gt(3).updateMask(builtUpGHSL.gt(3)).multiply(ee.Image.pixelArea().divide(10000)) #hectares\n",
        "#//.lt(6).updateMask(builtUpGHSL.lt(6))\n",
        "\n",
        "# get the area that was built-up in 2015 from the \"Multitemporal built-up presence\" layer = recent period\n",
        "TotalBuiltUpEnd = builtUpGHSL.gt(2).updateMask(builtUpGHSL.gt(2)).multiply(ee.Image.pixelArea().divide(10000)) #hectares;\n",
        "\n"
      ],
      "execution_count": 5,
      "outputs": []
    },
    {
      "cell_type": "code",
      "metadata": {
        "id": "EhsWk4-jQOSE"
      },
      "source": [
        ""
      ],
      "execution_count": null,
      "outputs": []
    },
    {
      "cell_type": "code",
      "metadata": {
        "colab": {
          "base_uri": "https://localhost:8080/",
          "height": 129
        },
        "id": "eUDI7dAYMllI",
        "outputId": "4d640af3-abcc-4882-b33a-9ca0cd277319"
      },
      "source": [
        "#/************************************************************************************************************\n",
        "#Step-2: Identify the street area from OSM data\n",
        "#*************************************************************************************************************/\n",
        "\n",
        "# Select individiual road types using the OSM \"fclass\" field\n",
        "residentialRoads = OSM_lines.filterBounds(adminArea).filter(ee.Filter.eq('highway', 'residential'));\n",
        "\n",
        "\n",
        "# Create a list of filters to get different attributes\n",
        "filterPrim = ee.Filter.stringContains('highway', 'primary');\n",
        "filterSecon = ee.Filter.stringContains('highway', 'second');\n",
        "filterTert = ee.Filter.stringContains('highway', 'terti');\n",
        "\n",
        "\n",
        "# Create a joint filter\n",
        "listOfFilters = ee.Filter.Or(filterPrim, filterSecon, filterTert)\n",
        "\n",
        "\n",
        "# filter by boundaries and apply the joint filter\n",
        "otherRoads = OSM_lines.filterBounds(adminArea).filter(listOfFilters);\n",
        "\n",
        "# little helper function to apply buffers, create a nested function to allow several arguments\n",
        "d\n",
        "def bufferFunction(bufferDist):\n",
        "    return function (feature){\n",
        "        return feature.buffer(bufferDist).set('FID', 1) # // set a dummy attribute \"FID\"\n",
        "    };\n",
        "\n",
        "\n",
        "\n",
        "# Create buffers around OSM street geometries to create polygons / raster of the street area\n",
        "areaResidentialRoads = residentialRoads.map(bufferFunction(ee.Number(widthResidantial).divide(2)))\\\n",
        "                                            .reduceToImage(['FID'], ee.Reducer.firstNonNull())\\\n",
        "                                            .reproject('epsg:4326',null,pixSize)\\\n",
        "                                            .clip(adminArea);\n",
        "\n",
        "\n",
        "areaOtherRoads = otherRoads.map(bufferFunction(ee.Number(widthOtherRoads).divide(2)))\\\n",
        "                                .reduceToImage(['FID'], ee.Reducer.firstNonNull())\\\n",
        "                                .reproject('epsg:4326',null,pixSize)\\\n",
        "                                .clip(adminArea);\n",
        "\n",
        "\n",
        "\n"
      ],
      "execution_count": 8,
      "outputs": [
        {
          "output_type": "error",
          "ename": "SyntaxError",
          "evalue": "ignored",
          "traceback": [
            "\u001b[0;36m  File \u001b[0;32m\"<ipython-input-8-5f8c4e2f6e2c>\"\u001b[0;36m, line \u001b[0;32m24\u001b[0m\n\u001b[0;31m    return function (feature){\u001b[0m\n\u001b[0m                             ^\u001b[0m\n\u001b[0;31mSyntaxError\u001b[0m\u001b[0;31m:\u001b[0m invalid syntax\n"
          ]
        }
      ]
    },
    {
      "cell_type": "code",
      "metadata": {
        "id": "vw4HtxLHOdcf"
      },
      "source": [
        ""
      ],
      "execution_count": null,
      "outputs": []
    }
  ]
}