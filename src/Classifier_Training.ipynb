{
  "cells": [
    {
      "cell_type": "markdown",
      "metadata": {
        "id": "view-in-github",
        "colab_type": "text"
      },
      "source": [
        "<a href=\"https://colab.research.google.com/github/gizdatalab/SDG_11_Tracking_Colombia/blob/main/src/Classifier_Training.ipynb\" target=\"_parent\"><img src=\"https://colab.research.google.com/assets/colab-badge.svg\" alt=\"Open In Colab\"/></a>"
      ]
    },
    {
      "cell_type": "markdown",
      "source": [
        "# Installations"
      ],
      "metadata": {
        "id": "4kcDZma6dZGq"
      }
    },
    {
      "cell_type": "code",
      "execution_count": null,
      "metadata": {
        "id": "9kCiZKcnjKQz"
      },
      "outputs": [],
      "source": [
        "%%capture\n",
        "! pip install datasets transformers sentencepiece huggingface_hub\n",
        "! apt install git-lfs\n",
        "! pip install -U albumentations\n",
        "! pip install sentence-transformers\n",
        "! pip install optuna"
      ]
    },
    {
      "cell_type": "code",
      "source": [
        "from google.colab import drive\n",
        "drive.mount('/content/drive')"
      ],
      "metadata": {
        "colab": {
          "base_uri": "https://localhost:8080/"
        },
        "id": "Er2b_k5sxc4A",
        "outputId": "caf8328e-480b-4e68-a3d6-41eafa69c3ce"
      },
      "execution_count": null,
      "outputs": [
        {
          "output_type": "stream",
          "name": "stdout",
          "text": [
            "Mounted at /content/drive\n"
          ]
        }
      ]
    },
    {
      "cell_type": "markdown",
      "metadata": {
        "id": "mlaIZxM9jJ6f"
      },
      "source": [
        "To be able to share your model with the community there are a few more steps to follow.\n",
        "\n",
        "First you have to store your authentication token from the Hugging Face website (sign up if you haven't already!) then execute the following cell and input your username and password:"
      ]
    },
    {
      "cell_type": "code",
      "execution_count": null,
      "metadata": {
        "id": "PdTqjaIvTg-g"
      },
      "outputs": [],
      "source": [
        "!git config --global credential.helper store"
      ]
    },
    {
      "cell_type": "code",
      "execution_count": null,
      "metadata": {
        "id": "lk956I0ByT0J",
        "colab": {
          "base_uri": "https://localhost:8080/",
          "height": 145,
          "referenced_widgets": [
            "a7a8cb3b87dc45ab83306491b6a94f9a",
            "b3ab82d70fc04fcf91935bd7c5a80aa9",
            "d6227f17b9b84d2cb3761ce774676ca3",
            "94ebcfb3f90c4be5a6c2d26eb1855de5",
            "afaa2b04b8b6482d8c8983436049163c",
            "5541635681c44227b280c3f20cd564d3",
            "56627cce8c004407a0d25764d848986c",
            "48bdc70ec68342b39e833f844ae6fed3",
            "96366fb3b7c04ea28f25fd9d598c5ff9",
            "06767ad74863486caabd83433784b3d0",
            "6f2273f0411149de9e3eb92783339616",
            "ed89b19dbbfd4cf5892179cfc130293a",
            "4aba67812a9443ed84f350669abb2049",
            "2ef3e358d6224ac492e3adef7914cdae",
            "735b1ad897e2428fbc148739532e41b9",
            "1b5f734a36194793964d059f4057e6e5",
            "c3cf1369112d4383a7f64f54ac16893a",
            "77baf0a94f6142b78b3de22e8f3c4c25",
            "0fcabf381615449abfd939d146a9060c",
            "f581dc28301148bcb2783561c31c7b4c",
            "f9d394ab51d04e258f2674f588dd736e",
            "344edd6b2e8f4a2da37e543d1eaf7dd6",
            "d4e05008e0a8437dae4b553fcfe839ba",
            "73c0ad8c11544029967610d6e44ca8bc",
            "883b7e5dc050419d8b8fda29674b6a54",
            "bceb3234f2714d5482b76d798b90ff9d",
            "580ff035756342f9811ffadc4c476de1",
            "addb971137024e989d21c733557d0d46",
            "8aae1319ea5d4f6fb8842ff43cde1671",
            "4d32b86183e24cce9f942ced8841b99d",
            "50222457700d4ebb9c9bd1156136d0b8",
            "073c1423dcd1492da943407f2b78d0df"
          ]
        },
        "outputId": "d0bab4d8-7881-410c-8260-fc32aa087f44"
      },
      "outputs": [
        {
          "output_type": "display_data",
          "data": {
            "text/plain": [
              "VBox(children=(HTML(value='<center> <img\\nsrc=https://huggingface.co/front/assets/huggingface_logo-noborder.sv…"
            ],
            "application/vnd.jupyter.widget-view+json": {
              "version_major": 2,
              "version_minor": 0,
              "model_id": "a7a8cb3b87dc45ab83306491b6a94f9a"
            }
          },
          "metadata": {}
        }
      ],
      "source": [
        "from huggingface_hub import notebook_login\n",
        "notebook_login()"
      ]
    },
    {
      "cell_type": "markdown",
      "source": [
        "# Load Packages"
      ],
      "metadata": {
        "id": "It7WUIfSnLnR"
      }
    },
    {
      "cell_type": "code",
      "source": [
        "import torch\n",
        "from pathlib import Path\n",
        "import datasets\n",
        "from datasets import load_dataset\n",
        "from transformers import (AutoTokenizer, AutoModelForSequenceClassification, \n",
        "                          PreTrainedModel, BertModel, BertForSequenceClassification,RobertaForSequenceClassification,\n",
        "                          TrainingArguments, Trainer, TrainerCallback)\n",
        "from transformers.modeling_outputs import SequenceClassifierOutput\n",
        "import torch.optim as optim\n",
        "# # Setting up the device for GPU usage\n",
        "from torch import cuda\n",
        "device = 'cuda' if cuda.is_available() else 'cpu'\n",
        "import numpy as np\n",
        "import pandas as pd\n",
        "import sklearn.metrics as skm\n",
        "import os\n",
        "from sklearn.metrics import mean_absolute_error, accuracy_score,confusion_matrix,f1_score"
      ],
      "metadata": {
        "id": "tvTLT_nT-OlQ"
      },
      "execution_count": null,
      "outputs": []
    },
    {
      "cell_type": "markdown",
      "metadata": {
        "id": "Drcw9oC2yn_e"
      },
      "source": [
        "# Dataset\n",
        "\n",
        "* https://huggingface.co/docs/datasets/load_hub\n",
        "\n",
        "There are two ways provided below for loading the data  1. In-memory(pandas) 2. External source (using transformers dataset)"
      ]
    },
    {
      "cell_type": "markdown",
      "source": [
        "### from Pandas"
      ],
      "metadata": {
        "id": "jtqHuqtq-Bo_"
      }
    },
    {
      "cell_type": "code",
      "source": [
        "sector_dir = '/content/drive/MyDrive/Colab Notebooks/giz/policyData/sector_data/'"
      ],
      "metadata": {
        "id": "Pd-sRQo596YC"
      },
      "execution_count": null,
      "outputs": []
    },
    {
      "cell_type": "code",
      "source": [
        "df = pd.read_json(sector_dir + \"train_val_1.json\")\n",
        "\n",
        "# renaming the columns because later the tokenizer will need it\n",
        "df = df.rename(columns = {'sector_label':'labels', 'context':'text'})\n",
        "# if data has column to identify for train-val\n",
        "df_train = df[df.split == 'train']\n",
        "df_val = df[df.split == 'val']\n",
        "\n",
        "# in case of hyper-parameter search it is good to reduce the training set \n",
        "df_train = df_train.sample(frac = 0.85)"
      ],
      "metadata": {
        "id": "jKTC626d91Vf"
      },
      "execution_count": null,
      "outputs": []
    },
    {
      "cell_type": "code",
      "source": [
        "# we need datasets format to work with\n",
        "train_ds = datasets.Dataset.from_pandas(df_train)\n",
        "val_ds =  datasets.Dataset.from_pandas(df_val)\n",
        "train_ds = train_ds.shuffle(seed=7)\n",
        "val_ds = val_ds.shuffle(seed=7)"
      ],
      "metadata": {
        "id": "icrIEVb3Zb5f"
      },
      "execution_count": null,
      "outputs": []
    },
    {
      "cell_type": "code",
      "source": [
        "print(\"trianing data size:\",train_ds.num_rows)\n",
        "print(\"val data size:\", val_ds.num_rows)"
      ],
      "metadata": {
        "colab": {
          "base_uri": "https://localhost:8080/"
        },
        "id": "AhT8AhEs-XlV",
        "outputId": "77fbdddc-6c35-4ebf-b57c-ee55d671e098"
      },
      "execution_count": null,
      "outputs": [
        {
          "output_type": "stream",
          "name": "stdout",
          "text": [
            "trianing data size: 1178\n",
            "val data size: 606\n"
          ]
        }
      ]
    },
    {
      "cell_type": "markdown",
      "source": [
        "## Load Dataset"
      ],
      "metadata": {
        "id": "3QBcXQNP-yke"
      }
    },
    {
      "cell_type": "code",
      "source": [
        "sector_dir = '/content/drive/MyDrive/Colab Notebooks/giz/policyData/sector_data/'"
      ],
      "metadata": {
        "id": "Y5TD1ekL_WQC"
      },
      "execution_count": null,
      "outputs": []
    },
    {
      "cell_type": "code",
      "source": [
        "import datasets\n",
        "from datasets import load_dataset\n",
        "dataset = load_dataset(\"json\", data_files={\"train\": sector_dir + \"train_val_1.json\"})\n",
        "dataset = dataset.shuffle(seed=7)\n",
        "dataset = dataset['train'].rename_column(\"sector_label\", \"labels\")\n",
        "dataset = dataset.rename_column(\"context\", \"text\")\n",
        "dataset = dataset.train_test_split(test_size =0.10)"
      ],
      "metadata": {
        "colab": {
          "base_uri": "https://localhost:8080/",
          "referenced_widgets": [
            "fd5a527112be43c89a0f440551de5255",
            "f99fbabd968c41aebfa276bee92e1a8f",
            "f0d707f917fc4a86a045cad493e2c986",
            "4ed3d637d6644daca20beb591ed236f9",
            "f07b241da35d4575976e5658519d83ee",
            "cadf14bf2cd846c9b659ccc0b21c8f91",
            "3dfde0ea27c348cda600f58adc86ff1e",
            "66ed5650c42e4674bdeae4f74db4d26f",
            "97677aef1af04e86aab6c6e39352ad6c",
            "e541c917499e458eb1118de7d96e916b",
            "06fcb6b0c5354005979c7c384536a553",
            "a15e5befef4d412b8a794f1633a27583",
            "4a440037a36a414591016e03694e782d",
            "dd185a0b5eb54699b7359a31b7b50446",
            "2d5a1ec1bcab4b569689de211d13df25",
            "a0d8d57e7b364f42a8c2ca898cc83645",
            "4b143cc84b9147b48c75c9ac1959397e",
            "fcccbf5682e24ae9a442a5f1df790038",
            "0e7c9a00af464af9b78be80bb1398aed",
            "4d50aab0800144bc83a49a0d4a66445d",
            "b25dcbc7e16648ea8543766eca271444",
            "f27749680bcd4b3d86105858f14b927f",
            "06204dd036b94c748307e922e9e8bc1e",
            "51bcfe47ad1340cd83a3988d229e2e13",
            "a69ea4d62a1648ee9ab169a1e555725f",
            "8551db1f2bfb4e3dbb6c7291c7395ed0",
            "e8c0af002e0e45d18094791fb5197a21",
            "c01925b590cc41f59abc13062845ea4b",
            "7ee31faf84764a58b579867c409ddf48",
            "15762e77ff2147a8b3b68b217259549b",
            "4037796b478a4b9f8e0421b8d7bb0f2d",
            "10cca608aa1445369f94fb37bb4595eb",
            "5a70af5a0ab9457493f8bd8ea1f58acf",
            "1b52f194c4744e6f98eeda3cb514f956",
            "9676729bc55c4375beede1199ec5ebc0",
            "6f70621d49e24a41bad834df8ef9d2d5",
            "07cf52264c5a45e8b86f1252a2e4628c",
            "e78421462d844d4ea3f75631ab4501af",
            "4a8d2869ce8f430ea502fc8a6ed05bcc",
            "8d180dbffa344001a9e9af3109de9faf",
            "03a5f30aba4c422ca5e442d5eef3b204",
            "7764b7423f3e48ed88174aa19e5dab88",
            "2b6f91a5d4e94ed1af3e35a06d9c8d4d",
            "e2614fd4d22b4373a53ae45ab8e7d992"
          ]
        },
        "id": "VhUIfcps_HHv",
        "outputId": "086ea3ed-4519-4978-b695-18f2f8068875"
      },
      "execution_count": null,
      "outputs": [
        {
          "output_type": "stream",
          "name": "stdout",
          "text": [
            "Downloading and preparing dataset json/default to /root/.cache/huggingface/datasets/json/default-f7dcfce4f8edd77b/0.0.0/fe5dd6ea2639a6df622901539cb550cf8797e5a6b2dd7af1cf934bed8e233e6e...\n"
          ]
        },
        {
          "output_type": "display_data",
          "data": {
            "text/plain": [
              "Downloading data files:   0%|          | 0/1 [00:00<?, ?it/s]"
            ],
            "application/vnd.jupyter.widget-view+json": {
              "version_major": 2,
              "version_minor": 0,
              "model_id": "fd5a527112be43c89a0f440551de5255"
            }
          },
          "metadata": {}
        },
        {
          "output_type": "display_data",
          "data": {
            "text/plain": [
              "Extracting data files:   0%|          | 0/1 [00:00<?, ?it/s]"
            ],
            "application/vnd.jupyter.widget-view+json": {
              "version_major": 2,
              "version_minor": 0,
              "model_id": "a15e5befef4d412b8a794f1633a27583"
            }
          },
          "metadata": {}
        },
        {
          "output_type": "display_data",
          "data": {
            "text/plain": [
              "Generating train split: 0 examples [00:00, ? examples/s]"
            ],
            "application/vnd.jupyter.widget-view+json": {
              "version_major": 2,
              "version_minor": 0,
              "model_id": "06204dd036b94c748307e922e9e8bc1e"
            }
          },
          "metadata": {}
        },
        {
          "output_type": "stream",
          "name": "stdout",
          "text": [
            "Dataset json downloaded and prepared to /root/.cache/huggingface/datasets/json/default-f7dcfce4f8edd77b/0.0.0/fe5dd6ea2639a6df622901539cb550cf8797e5a6b2dd7af1cf934bed8e233e6e. Subsequent calls will reuse this data.\n"
          ]
        },
        {
          "output_type": "display_data",
          "data": {
            "text/plain": [
              "  0%|          | 0/1 [00:00<?, ?it/s]"
            ],
            "application/vnd.jupyter.widget-view+json": {
              "version_major": 2,
              "version_minor": 0,
              "model_id": "1b52f194c4744e6f98eeda3cb514f956"
            }
          },
          "metadata": {}
        }
      ]
    },
    {
      "cell_type": "code",
      "source": [
        "dataset"
      ],
      "metadata": {
        "colab": {
          "base_uri": "https://localhost:8080/"
        },
        "id": "zzlVBFcA_mft",
        "outputId": "326d4542-1b33-45bf-e96d-4c09bb538296"
      },
      "execution_count": null,
      "outputs": [
        {
          "output_type": "execute_result",
          "data": {
            "text/plain": [
              "DatasetDict({\n",
              "    train: Dataset({\n",
              "        features: ['text', 'Document', 'sector_list', 'Document_name', 'country_count', 'doc_count', 'sector_tuple', 'country', 'labels', 'Agriculture', 'Buildings', 'Coastal Zone', 'Disaster Risk Management (DRM)', 'Economy-wide', 'Energy', 'Environment', 'Health', 'Industries', 'LULUCF/Forestry', 'Social Development', 'Transport', 'Urban', 'Waste', 'Water', 'set0', 'set1', 'set2', 'set3', 'INDC', 'First NDC', 'Second NDC', 'Revised First NDC', 'split'],\n",
              "        num_rows: 7615\n",
              "    })\n",
              "    test: Dataset({\n",
              "        features: ['text', 'Document', 'sector_list', 'Document_name', 'country_count', 'doc_count', 'sector_tuple', 'country', 'labels', 'Agriculture', 'Buildings', 'Coastal Zone', 'Disaster Risk Management (DRM)', 'Economy-wide', 'Energy', 'Environment', 'Health', 'Industries', 'LULUCF/Forestry', 'Social Development', 'Transport', 'Urban', 'Waste', 'Water', 'set0', 'set1', 'set2', 'set3', 'INDC', 'First NDC', 'Second NDC', 'Revised First NDC', 'split'],\n",
              "        num_rows: 847\n",
              "    })\n",
              "})"
            ]
          },
          "metadata": {},
          "execution_count": 3
        }
      ]
    },
    {
      "cell_type": "code",
      "source": [
        "print(\"trianing data size:\",dataset['train'].num_rows)\n",
        "print(\"val data size:\", dataset['test'].num_rows)"
      ],
      "metadata": {
        "colab": {
          "base_uri": "https://localhost:8080/"
        },
        "id": "UVgNWr31_SQX",
        "outputId": "c18b07de-c265-477f-8bcb-e7117e398e97"
      },
      "execution_count": null,
      "outputs": [
        {
          "output_type": "stream",
          "name": "stdout",
          "text": [
            "trianing data size: 7615\n",
            "val data size: 847\n"
          ]
        }
      ]
    },
    {
      "cell_type": "code",
      "source": [
        "sectors = ['Agriculture', 'Buildings','Coastal Zone', 'Disaster Risk Management (DRM)',\n",
        "       'Economy-wide', 'Energy', 'Environment', 'Health', 'Industries',\n",
        "       'LULUCF/Forestry', 'Social Development', 'Transport', 'Urban', 'Waste',\n",
        "       'Water']"
      ],
      "metadata": {
        "id": "cFFsowMd99DZ"
      },
      "execution_count": null,
      "outputs": []
    },
    {
      "cell_type": "markdown",
      "source": [
        "From the Sector Classification we will keep the only rows which have answers as it means that that some response was detected for those contexts and hence the Sector label might be correct.\n"
      ],
      "metadata": {
        "id": "9UyCIWSoQJJV"
      }
    },
    {
      "cell_type": "markdown",
      "source": [
        "# Multi_label Classification\n",
        "\n",
        "The sub-sections here will give a walk through important components of training that we might need. \n",
        "\n",
        "\n",
        "Resources - Colab notebooks and Code\n",
        "\n",
        "\n",
        "*   https://github.com/abhimishra91/transformers-tutorials/blob/master/transformers_multi_label_classification.ipynb\n",
        "*   https://github.com/akaver/nlp2019-final/blob/master/BertForMultiLabelSequenceClassification.py\n",
        "* https://discuss.huggingface.co/t/fine-tune-for-multiclass-or-multilabel-multiclass/4035/8\n",
        "*  https://colab.research.google.com/drive/1X7l8pM6t4VLqxQVJ23ssIxmrsc4Kpc5q?usp=sharing#scrollTo=i3DMa8tLvzhq\n",
        "* https://github.com/Dirkster99/PyNotes/blob/master/Transformers/transformers_multi_label_classification.ipynb\n",
        "* https://colab.research.google.com/drive/1aue7x525rKy6yYLqqt-5Ll96qjQvpqS7#scrollTo=u61lCTUu5606\n",
        "\n",
        "* https://github.com/NielsRogge/Transformers-Tutorials/blob/master/BERT/Fine_tuning_BERT_(and_friends)_for_multi_label_text_classification.ipynb\n",
        "\n",
        "\n",
        "[HF- Trainer](https://huggingface.co/docs/transformers/main_classes/trainer)\n",
        "[Trainer Source Code](https://github.com/huggingface/transformers/blob/v4.27.2/src/transformers/trainer_utils.py#L362)"
      ],
      "metadata": {
        "id": "XdBkiI1sBrL0"
      }
    },
    {
      "cell_type": "code",
      "source": [
        "sector_dir = '/content/drive/MyDrive/Colab Notebooks/giz/policyData/sector_data/'\n",
        "\n",
        "# define the list of labels here, if you are working with already trained model\n",
        "# better to check the sequence of labels of your classifiers.\n",
        "sectors = ['Agriculture', 'Buildings','Coastal Zone', 'Disaster Risk Management (DRM)',\n",
        "       'Economy-wide', 'Energy', 'Environment', 'Health', 'Industries',\n",
        "       'LULUCF/Forestry', 'Social Development', 'Transport', 'Urban', 'Waste',\n",
        "       'Water']"
      ],
      "metadata": {
        "id": "E9hEzTvecHg0"
      },
      "execution_count": null,
      "outputs": []
    },
    {
      "cell_type": "code",
      "source": [
        "label_names = sectors \n",
        "id2label = {idx:label for idx, label in enumerate(label_names)}\n",
        "label2id = {label:idx for idx, label in enumerate(label_names)}\n",
        "num_labels = len(sectors)\n",
        "id2label"
      ],
      "metadata": {
        "colab": {
          "base_uri": "https://localhost:8080/"
        },
        "id": "AGyZHEmQCk76",
        "outputId": "852b7e91-353e-476d-df56-aef26a2bbbf3"
      },
      "execution_count": null,
      "outputs": [
        {
          "output_type": "execute_result",
          "data": {
            "text/plain": [
              "{0: 'Agriculture',\n",
              " 1: 'Buildings',\n",
              " 2: 'Coastal Zone',\n",
              " 3: 'Disaster Risk Management (DRM)',\n",
              " 4: 'Economy-wide',\n",
              " 5: 'Energy',\n",
              " 6: 'Environment',\n",
              " 7: 'Health',\n",
              " 8: 'Industries',\n",
              " 9: 'LULUCF/Forestry',\n",
              " 10: 'Social Development',\n",
              " 11: 'Transport',\n",
              " 12: 'Urban',\n",
              " 13: 'Waste',\n",
              " 14: 'Water'}"
            ]
          },
          "metadata": {},
          "execution_count": 7
        }
      ]
    },
    {
      "cell_type": "markdown",
      "source": [
        "## Metrics"
      ],
      "metadata": {
        "id": "d9q0dnv4rEFl"
      }
    },
    {
      "cell_type": "code",
      "source": [
        "# Define the compute metrics as per requirements\n",
        "# in case of  imbalanced data we need to look at  precision,recall,f1\n",
        "def get_predictions(y_pred, y_true, thresh=0.5, sigmoid=True): \n",
        "    y_pred = torch.from_numpy(y_pred)\n",
        "    y_true = torch.from_numpy(y_true)\n",
        "    if sigmoid: \n",
        "      y_pred = y_pred.sigmoid()\n",
        "      y_pred = (y_pred > thresh)\n",
        "    report = skm.classification_report(y_true, y_pred, output_dict=True)\n",
        "    df_report = pd.DataFrame(report).transpose()\n",
        "    return {\"Precision_micro\": df_report.loc['micro avg']['precision'],\n",
        "            \"Precision_weighted\": df_report.loc['weighted avg']['precision'],\n",
        "            \"Precision_samples\": df_report.loc['samples avg']['precision'],\n",
        "            \"Recall_micro\": df_report.loc['micro avg']['recall'],\n",
        "            \"Recall_weighted\": df_report.loc['weighted avg']['recall'],\n",
        "            \"Recall_samples\": df_report.loc['samples avg']['recall'],\n",
        "            \"F1-Score\":df_report.loc['samples avg']['f1-score'],\n",
        "            \"accuracy\": skm.accuracy_score(y_true, y_pred)}\n",
        "\n",
        "def compute_metrics(eval_pred):\n",
        "    predictions, labels = eval_pred\n",
        "    return get_predictions(predictions, labels)"
      ],
      "metadata": {
        "id": "642QWYHG4zl1"
      },
      "execution_count": null,
      "outputs": []
    },
    {
      "cell_type": "markdown",
      "source": [
        "## Sentence Transformer\n",
        "\n",
        "Always prefer Sentence Transofrmers over the simple Bert models\n",
        "\n",
        "1.   https://huggingface.co/blog/classification-use-cases\n",
        "2.   https://www.sbert.net/docs/pretrained_models.html\n",
        "\n"
      ],
      "metadata": {
        "id": "Ftj99_qUwG55"
      }
    },
    {
      "cell_type": "code",
      "source": [
        "# define the model checkpoint\n",
        "model_checkpoint = \"sentence-transformers/all-mpnet-base-v2\"\n",
        "\n",
        "# problem_type, is not needed in tokenizer but keeping it for conformity\n",
        "# https://huggingface.co/docs/transformers/main_classes/configuration?highlight=multi_label_classification#transformers.PretrainedConfig \n",
        "tokenizer = AutoTokenizer.from_pretrained(model_checkpoint,problem_type=\"multi_label_classification\")"
      ],
      "metadata": {
        "id": "y_ceSXWP4FPk"
      },
      "execution_count": null,
      "outputs": []
    },
    {
      "cell_type": "markdown",
      "source": [
        "### Tokenization"
      ],
      "metadata": {
        "id": "6lzWksA3OZup"
      }
    },
    {
      "cell_type": "code",
      "source": [
        "import datasets\n",
        "\n",
        "cols = train_ds.column_names\n",
        "cols.remove(\"labels\")\n",
        "print('Training data:',train_ds.num_rows)\n",
        "print('Validation data:',val_ds.num_rows)\n"
      ],
      "metadata": {
        "colab": {
          "base_uri": "https://localhost:8080/"
        },
        "id": "mOa4g59NwQ9_",
        "outputId": "40f9dced-e5bf-4ded-8ecd-7421292b0726"
      },
      "execution_count": null,
      "outputs": [
        {
          "output_type": "stream",
          "name": "stdout",
          "text": [
            "Training data: 1178\n",
            "Validation data: 606\n"
          ]
        }
      ]
    },
    {
      "cell_type": "code",
      "source": [
        "# Need to tokenize the data using the tokenizer of the model\n",
        "def tokenize_and_encode(examples):\n",
        "    return tokenizer(examples[\"text\"], padding=\"max_length\", truncation=True,\n",
        "                        max_length=384)    "
      ],
      "metadata": {
        "id": "LlfnAz_44SXa"
      },
      "execution_count": null,
      "outputs": []
    },
    {
      "cell_type": "code",
      "source": [
        "train_tokenized = train_ds.map(tokenize_and_encode, batched=True, remove_columns= cols)\n",
        "val_tokenized = val_ds.map(tokenize_and_encode, batched=True, remove_columns= cols)"
      ],
      "metadata": {
        "id": "gQvSEzd-wNha",
        "colab": {
          "base_uri": "https://localhost:8080/",
          "height": 17,
          "referenced_widgets": [
            "a68dcfd921a34fc199ebe5c6593a63ae",
            "77100463184d467cbbb8417fc127cbae",
            "f09317c25b934f8b8193f95b5de1cb71",
            "d515f2fd331e47189d22314b54908a5b",
            "a8202dfd2c164824bee53fa451a7b4b4",
            "aa5de923b84a451abc0f6adc94d9970b",
            "f9f32ffb328847eca9c005128ea05c93",
            "85f8b0162fff4a3f988c588fb8bf80c2",
            "3afb5151ebd0499889630d907e545cdd",
            "638e715812b34872a36fd9928986dd81",
            "ba8bc8a98dfc4e2ba82eeaed4fdaf1e8",
            "66834b758247457792142e06cb8c0051",
            "ff69b704419246ebb4d4426678bde0c7",
            "16cbd275650b41c992c1fece6dc12f4a",
            "773df498ae5d4cd8952aad57cd63f406",
            "5265d91715954acf9bb4a811c6ca221a",
            "7a814ca65c8549639023c21c64367425",
            "9a514740c7b54ec78dc1efc1c934529c",
            "1726acce00ba49d8a6b6727bd936e3bb",
            "e1144d8d968c4d0092a0e93c34bee775",
            "2d8af7b56c10445f81881b7a5206bda5",
            "9f01255998e04737b557868d47a768ee"
          ]
        },
        "outputId": "508fee22-41a3-4253-8955-cd4e513749bd"
      },
      "execution_count": null,
      "outputs": [
        {
          "output_type": "display_data",
          "data": {
            "text/plain": [
              "Map:   0%|          | 0/1178 [00:00<?, ? examples/s]"
            ],
            "application/vnd.jupyter.widget-view+json": {
              "version_major": 2,
              "version_minor": 0,
              "model_id": "a68dcfd921a34fc199ebe5c6593a63ae"
            }
          },
          "metadata": {}
        },
        {
          "output_type": "display_data",
          "data": {
            "text/plain": [
              "Map:   0%|          | 0/606 [00:00<?, ? examples/s]"
            ],
            "application/vnd.jupyter.widget-view+json": {
              "version_major": 2,
              "version_minor": 0,
              "model_id": "66834b758247457792142e06cb8c0051"
            }
          },
          "metadata": {}
        }
      ]
    },
    {
      "cell_type": "code",
      "source": [
        "# need this to avoid error due to type mismatch\n",
        "# https://discuss.pytorch.org/t/multi-label-binary-classification-result-type-float-cant-be-cast-to-the-desired-output-type-long/117915/3\n",
        "train_tokenized.set_format(\"torch\")\n",
        "train_tokenized = (train_tokenized\n",
        "          .map(lambda x : {\"float_labels\": x[\"labels\"].to(torch.float)}, remove_columns=[\"labels\"])\n",
        "          .rename_column(\"float_labels\", \"labels\"))"
      ],
      "metadata": {
        "colab": {
          "base_uri": "https://localhost:8080/",
          "height": 17,
          "referenced_widgets": [
            "d83eaaccd95e40fcb49d5eee01c2af58",
            "8d4a2b1dd1da450697857b5b7c4a229f",
            "909b0d079a514c87a19396f6576aaf98",
            "95eab323b67d498184c6dfe3630d9a7b",
            "c12f430c519042ad838e5ed14ac665b0",
            "40e1c3ea89dc42a592b267b042eff76e",
            "d060410b2c1e448abc0975fd2db13534",
            "82df681f7f7c4e179f0b4bde76f0bc3d",
            "6273455f7d324f03bef3422f144b4e3e",
            "c2edfe5476b14bba9cf1229e65c38e9c",
            "da26715d442e4565bba6d7f811ab25b1"
          ]
        },
        "id": "pF_LERhK4nSL",
        "outputId": "cc8a0b71-bd8b-464c-cba3-74cd82456329"
      },
      "execution_count": null,
      "outputs": [
        {
          "output_type": "display_data",
          "data": {
            "text/plain": [
              "Map:   0%|          | 0/1178 [00:00<?, ? examples/s]"
            ],
            "application/vnd.jupyter.widget-view+json": {
              "version_major": 2,
              "version_minor": 0,
              "model_id": "d83eaaccd95e40fcb49d5eee01c2af58"
            }
          },
          "metadata": {}
        }
      ]
    },
    {
      "cell_type": "code",
      "source": [
        "val_tokenized.set_format(\"torch\")\n",
        "val_tokenized = (val_tokenized\n",
        "          .map(lambda x : {\"float_labels\": x[\"labels\"].to(torch.float)}, remove_columns=[\"labels\"])\n",
        "          .rename_column(\"float_labels\", \"labels\"))"
      ],
      "metadata": {
        "colab": {
          "base_uri": "https://localhost:8080/",
          "height": 17,
          "referenced_widgets": [
            "fa909fc82dcb4c5a962e0073af97d269",
            "1ee619d33d324c62b7189058bada6eba",
            "54334e18ed1b4a7fb3e166d11aefb2c1",
            "724bf75e0a894278a8d63f974c649786",
            "b8c9caad92fe4f59b8af5adcd85aa8cc",
            "eadc0dc29a9d411dac10ba499c1bcebd",
            "8e67e4cffb82454cad020521f9f6a7ce",
            "ffe5e8fe68154f88a48f13e5724618df",
            "145d951dd7da42c8acdd8da23983b35e",
            "70889f6bba1a4776a9e42cda456e6cdb",
            "aba17536643c43159d66bd60303a3683"
          ]
        },
        "id": "coRk50Fb4qYo",
        "outputId": "3c6207bb-b14c-41ac-ccbe-38d0a263f206"
      },
      "execution_count": null,
      "outputs": [
        {
          "output_type": "display_data",
          "data": {
            "text/plain": [
              "Map:   0%|          | 0/606 [00:00<?, ? examples/s]"
            ],
            "application/vnd.jupyter.widget-view+json": {
              "version_major": 2,
              "version_minor": 0,
              "model_id": "fa909fc82dcb4c5a962e0073af97d269"
            }
          },
          "metadata": {}
        }
      ]
    },
    {
      "cell_type": "markdown",
      "source": [
        "\n",
        "\n",
        "1.   https://towardsdatascience.com/this-thing-called-weight-decay-a7cd4bcfccab\n",
        "2. https://pytorch.org/docs/stable/generated/torch.nn.BCEWithLogitsLoss.html\n",
        "\n"
      ],
      "metadata": {
        "id": "szhUrzirVVkx"
      }
    },
    {
      "cell_type": "code",
      "source": [
        "model = AutoModelForSequenceClassification.from_pretrained(model_checkpoint, \n",
        "            id2label = id2label,label2id = label2id,num_labels=num_labels,\n",
        "            problem_type=\"multi_label_classification\").to('cuda')\n",
        "batch_size = 8\n",
        "num_train_epochs = 5\n",
        "\n",
        "\n",
        "args = TrainingArguments(\n",
        "    \"mpnet-multilabel-sector-classifier_hpsearch\",\n",
        "    evaluation_strategy = \"epoch\",\n",
        "    save_strategy = \"epoch\",\n",
        "    logging_strategy=\"epoch\",\n",
        "    learning_rate=8e-5,\n",
        "    per_device_train_batch_size=batch_size,\n",
        "    per_device_eval_batch_size=batch_size,\n",
        "    num_train_epochs=num_train_epochs,\n",
        "    weight_decay=0.02,\n",
        "    lr_scheduler_type = \"linear\",\n",
        "    # push_to_hub=True,\n",
        "    # fp16 = True,\n",
        "    warmup_steps = 200,\n",
        ")\n",
        "multi_trainer =  Trainer(\n",
        "    model,\n",
        "    args,\n",
        "    train_dataset=train_tokenized,\n",
        "    eval_dataset=val_tokenized,\n",
        "    compute_metrics=compute_metrics,\n",
        "    tokenizer=tokenizer)\n",
        "\n",
        "multi_trainer.evaluate()"
      ],
      "metadata": {
        "id": "80LbHBYb4_QM"
      },
      "execution_count": null,
      "outputs": []
    },
    {
      "cell_type": "code",
      "source": [
        "multi_trainer.train()"
      ],
      "metadata": {
        "id": "kyQgF06y5R2l"
      },
      "execution_count": null,
      "outputs": []
    },
    {
      "cell_type": "code",
      "source": [
        "predictions= multi_trainer.predict(val_tokenized)\n",
        "pred,labels,_ = predictions\n",
        "y_pred = torch.from_numpy(pred)\n",
        "y_true = torch.from_numpy(labels)\n",
        "y_prob = y_pred.sigmoid()\n",
        "thresh = 0.4\n",
        "y_pred = (y_prob>thresh).bool()"
      ],
      "metadata": {
        "colab": {
          "base_uri": "https://localhost:8080/",
          "height": 73
        },
        "id": "SOP_R-6n-ePh",
        "outputId": "f021981a-d399-41f5-970c-23447e00a531"
      },
      "execution_count": null,
      "outputs": [
        {
          "output_type": "display_data",
          "data": {
            "text/plain": [
              "<IPython.core.display.HTML object>"
            ],
            "text/html": []
          },
          "metadata": {}
        },
        {
          "output_type": "stream",
          "name": "stderr",
          "text": [
            "/usr/local/lib/python3.9/dist-packages/sklearn/metrics/_classification.py:1344: UndefinedMetricWarning: Precision and F-score are ill-defined and being set to 0.0 in samples with no predicted labels. Use `zero_division` parameter to control this behavior.\n",
            "  _warn_prf(average, modifier, msg_start, len(result))\n"
          ]
        }
      ]
    },
    {
      "cell_type": "code",
      "source": [
        "import sklearn.metrics as skm\n",
        "import pandas as pd\n",
        "\n",
        "cm = skm.multilabel_confusion_matrix(y_true, y_pred)\n",
        "print(cm)\n",
        "print( skm.classification_report(y_true,y_pred))\n",
        "report = skm.classification_report(y_true, y_pred, output_dict=True)\n",
        "df_report = pd.DataFrame(report).transpose()"
      ],
      "metadata": {
        "id": "g59y4EU1-oky"
      },
      "execution_count": null,
      "outputs": []
    },
    {
      "cell_type": "code",
      "source": [
        "model = AutoModelForSequenceClassification.from_pretrained(model_checkpoint, \n",
        "            id2label = id2label,label2id = label2id,num_labels=num_labels,\n",
        "            problem_type=\"multi_label_classification\").to('cuda')\n",
        "batch_size = 8\n",
        "num_train_epochs = 5\n",
        "\n",
        "\n",
        "args = TrainingArguments(\n",
        "    \"mpnet-multilabel-sector-classifier_32_cosine\",\n",
        "    evaluation_strategy = \"epoch\",\n",
        "    save_strategy = \"epoch\",\n",
        "    logging_strategy=\"epoch\",\n",
        "    learning_rate=7e-5,\n",
        "    per_device_train_batch_size=batch_size,\n",
        "    per_device_eval_batch_size=batch_size,\n",
        "    num_train_epochs=num_train_epochs,\n",
        "    weight_decay=0.02,\n",
        "    lr_scheduler_type = \"linear\",\n",
        "    # push_to_hub=True,\n",
        "    # fp16 = True,\n",
        "    warmup_steps = 200,\n",
        ")\n",
        "\n",
        "multi_trainer =  Trainer(\n",
        "    model,\n",
        "    args,\n",
        "    train_dataset=train_tokenized,\n",
        "    eval_dataset=val_tokenized,\n",
        "    compute_metrics=compute_metrics,\n",
        "    tokenizer=tokenizer)\n",
        "\n",
        "multi_trainer.evaluate()"
      ],
      "metadata": {
        "id": "b8mJdRYEbXNv"
      },
      "execution_count": null,
      "outputs": []
    },
    {
      "cell_type": "code",
      "source": [
        "multi_trainer.train()"
      ],
      "metadata": {
        "id": "ZRo9oMdgcLc1"
      },
      "execution_count": null,
      "outputs": []
    },
    {
      "cell_type": "code",
      "source": [
        "predictions= multi_trainer.predict(val_tokenized)\n",
        "pred,labels,_ = predictions\n",
        "y_pred = torch.from_numpy(pred)\n",
        "y_true = torch.from_numpy(labels)\n",
        "y_prob = y_pred.sigmoid()\n",
        "thresh = 0.5\n",
        "y_pred = (y_prob>thresh).bool()"
      ],
      "metadata": {
        "colab": {
          "base_uri": "https://localhost:8080/",
          "height": 110
        },
        "id": "jcuFnIJYf9bi",
        "outputId": "9909ac03-0e96-41df-94e2-76f4d3c6a3e4"
      },
      "execution_count": null,
      "outputs": [
        {
          "output_type": "display_data",
          "data": {
            "text/plain": [
              "<IPython.core.display.HTML object>"
            ],
            "text/html": []
          },
          "metadata": {}
        },
        {
          "output_type": "stream",
          "name": "stderr",
          "text": [
            "/usr/local/lib/python3.9/dist-packages/sklearn/metrics/_classification.py:1344: UndefinedMetricWarning: Precision and F-score are ill-defined and being set to 0.0 in labels with no predicted samples. Use `zero_division` parameter to control this behavior.\n",
            "  _warn_prf(average, modifier, msg_start, len(result))\n",
            "/usr/local/lib/python3.9/dist-packages/sklearn/metrics/_classification.py:1344: UndefinedMetricWarning: Precision and F-score are ill-defined and being set to 0.0 in samples with no predicted labels. Use `zero_division` parameter to control this behavior.\n",
            "  _warn_prf(average, modifier, msg_start, len(result))\n"
          ]
        }
      ]
    },
    {
      "cell_type": "code",
      "source": [
        "import sklearn.metrics as skm\n",
        "import pandas as pd\n",
        "\n",
        "cm = skm.multilabel_confusion_matrix(y_true, y_pred)\n",
        "print(cm)\n",
        "print( skm.classification_report(y_true,y_pred))\n",
        "report = skm.classification_report(y_true, y_pred, output_dict=True)\n",
        "df_report = pd.DataFrame(report).transpose()"
      ],
      "metadata": {
        "id": "7fndsWcmgBzS"
      },
      "execution_count": null,
      "outputs": []
    },
    {
      "cell_type": "markdown",
      "source": [
        "## Hyper-parameter search\n",
        "\n",
        "*  https://discuss.huggingface.co/t/using-hyperparameter-search-in-trainer/785/34?page=3\n",
        "*   https://github.com/huggingface/blog/blob/main/ray-tune.md\n",
        "*  https://github.com/huggingface/transformers/pull/6576\n",
        "\n",
        "\n"
      ],
      "metadata": {
        "id": "Xb_vECQIaOq0"
      }
    },
    {
      "cell_type": "code",
      "source": [
        "def model_init():\n",
        "    return AutoModelForSequenceClassification.from_pretrained(model_checkpoint, \n",
        "                                        return_dict=True, num_labels=num_labels,\n",
        "            problem_type=\"multi_label_classification\" )\n",
        "\n",
        "\n",
        "# define the space parameters and range to explore from\n",
        "def my_hp_space_optuna(trial):    \n",
        "    return {\n",
        "        \"learning_rate\": trial.suggest_float(\"learning_rate\", 2e-5, 1e-4, log=True),\n",
        "        \"warmup_steps\":  trial.suggest_float(\"warmup_steps\", 100, 500, step=100),\n",
        "        \"weight_decay\":  trial.suggest_float(\"weight_decay\", 1e-4, 1e-1),\n",
        "        \"per_device_train_batch_size\": trial.suggest_categorical(\"per_device_train_batch_size\", [3, 8, 16]),\n",
        "        \"gradient_accumulation_steps\": trial.suggest_categorical(\"gradient_accumulation_steps\" ,[1,2]),\n",
        "    }\n",
        "\n",
        "\n",
        "# Define the compute metrics as per requirements\n",
        "# here we have imbalanced data so using F1\n",
        "def get_predictions(y_pred, y_true, thresh=0.5, sigmoid=True): \n",
        "    y_pred = torch.from_numpy(y_pred)\n",
        "    y_true = torch.from_numpy(y_true)\n",
        "    if sigmoid: \n",
        "      y_pred = y_pred.sigmoid()\n",
        "      y_pred = (y_pred > thresh)\n",
        "    report = skm.classification_report(y_true, y_pred, output_dict=True)\n",
        "    df_report = pd.DataFrame(report).transpose()\n",
        "    return {\"F1-Score\":df_report.loc['samples avg']['f1-score']}\n",
        "    #         \"Precision_micro\": df_report.loc['micro avg']['precision'],\n",
        "    # #         \"Precision_weighted\": df_report.loc['weighted avg']['precision'],\n",
        "    # #         \"Precision_samples\": df_report.loc['samples avg']['precision'],\n",
        "    # #         \"Recall_micro\": df_report.loc['micro avg']['recall'],\n",
        "    # #         \"Recall_weighted\": df_report.loc['weighted avg']['recall'],\n",
        "    # #         \"Recall_samples\": df_report.loc['samples avg']['recall'],\n",
        "    #         \"F1-Score\":df_report.loc['samples avg']['f1-score'],\n",
        "    #         \"accuracy\": skm.accuracy_score(y_true, y_pred)}\n",
        "\n",
        "def compute_metrics(eval_pred):\n",
        "    predictions, labels = eval_pred\n",
        "    return get_predictions(predictions, labels)\n",
        "\n",
        "\n",
        "class MemorySaverCallback(TrainerCallback):\n",
        "    \"A callback that deletes the folder in which checkpoints are saved, to save memory\"\n",
        "    def __init__(self, run_name):\n",
        "        super(MemorySaverCallback, self).__init__()\n",
        "        self.run_name = run_name\n",
        "\n",
        "    def on_train_begin(self, args, state, control, **kwargs):\n",
        "        print(\"Removing dirs...\")\n",
        "        if os.path.isdir(f'./{self.run_name}'):\n",
        "            import shutil\n",
        "            shutil.rmtree(f'./{self.run_name}')\n",
        "        else:\n",
        "            print(\"\\n\\nDirectory does not exists\")\n",
        "\n",
        "# def my_objective(metrics):\n",
        "#     return metrics[\"eval_f1\"]"
      ],
      "metadata": {
        "id": "ndhTvPuZoQZ8"
      },
      "execution_count": null,
      "outputs": []
    },
    {
      "cell_type": "code",
      "source": [
        "batch_size = 8\n",
        "# this epochs value will be used for all trials\n",
        "num_train_epochs = 3\n",
        "\n",
        "# repo/folder name in local directory, where model files will be saved\n",
        "RUN_NAME = \"mpnet-multilabel-sector-classifier_hpsearch\"\n",
        "\n",
        "args = TrainingArguments(\n",
        "    RUN_NAME,\n",
        "    evaluation_strategy = \"epoch\",\n",
        "    save_strategy=\"no\",\n",
        "    logging_strategy=\"steps\",\n",
        "    logging_steps=1,\n",
        "    overwrite_output_dir=True,\n",
        "    learning_rate=8e-5,\n",
        "    per_device_train_batch_size=batch_size,\n",
        "    per_device_eval_batch_size=batch_size,\n",
        "    num_train_epochs=num_train_epochs,\n",
        "    weight_decay=0.02,\n",
        "    lr_scheduler_type = \"linear\",\n",
        "    gradient_accumulation_steps = 1,\n",
        "    warmup_steps = 200,\n",
        ")\n"
      ],
      "metadata": {
        "id": "dGRnpRaf5bBc"
      },
      "execution_count": null,
      "outputs": []
    },
    {
      "cell_type": "code",
      "source": [
        "multi_trainer = Trainer(\n",
        "    model_init=model_init,\n",
        "    args=args, \n",
        "    # remember to keep the training set small to avoid long runtime\n",
        "    # as we are doing only parameter search\n",
        "    train_dataset=train_tokenized,\n",
        "    eval_dataset=val_tokenized,\n",
        "    compute_metrics=compute_metrics,\n",
        "    callbacks=[MemorySaverCallback(RUN_NAME)]\n",
        ")"
      ],
      "metadata": {
        "id": "9AuPAIqL6nKJ"
      },
      "execution_count": null,
      "outputs": []
    },
    {
      "cell_type": "code",
      "source": [
        "best_run = multi_trainer.hyperparameter_search(n_trials=10, direction=\"maximize\",\n",
        "                                               hp_space=my_hp_space_optuna,)"
      ],
      "metadata": {
        "id": "BT5iMQYqtLi7"
      },
      "execution_count": null,
      "outputs": []
    },
    {
      "cell_type": "markdown",
      "source": [
        "## Class weights\n",
        "\n",
        "This subsection deals with using the class weights for the imbalanced data\n",
        "\n",
        "\n",
        "*   https://pytorch.org/docs/stable/generated/torch.nn.BCEWithLogitsLoss.html\n",
        "*   https://discuss.pytorch.org/t/weights-in-bcewithlogitsloss/27452\n",
        "*   https://discuss.pytorch.org/t/pos-weight-and-weight-parameters-in-bcewithlogitsloss/130651/5\n",
        "*   https://discuss.pytorch.org/t/multi-label-multi-class-class-imbalance/37573/10\n",
        "\n"
      ],
      "metadata": {
        "id": "m6vqko3elwaF"
      }
    },
    {
      "cell_type": "code",
      "source": [
        "for i,sector in enumerate(sectors):\n",
        "    # df_train[sector] = df_train.apply(lambda x: x['sector_label'][i], axis =1)\n",
        "    print(i,\".\",sector, \":\", sum(df_train[sector]))\n",
        "\n",
        "positive_weights = {}\n",
        "negative_weights = {}\n",
        "for sector in sectors:\n",
        "    positive_weights[sector] = df_train.shape[0]/(2*np.count_nonzero(df_train[sector]==1))\n",
        "    negative_weights[sector] = df_train.shape[0]/(2*np.count_nonzero(df_train[sector]==0))\n",
        "print(positive_weights)\n",
        "print(negative_weights)"
      ],
      "metadata": {
        "colab": {
          "base_uri": "https://localhost:8080/"
        },
        "id": "1ZhjOKNjmC46",
        "outputId": "d0594572-4e58-4146-adc5-237070b3cea8"
      },
      "execution_count": null,
      "outputs": [
        {
          "output_type": "stream",
          "name": "stdout",
          "text": [
            "0 . Agriculture : 1748\n",
            "1 . Buildings : 108\n",
            "2 . Coastal Zone : 396\n",
            "3 . Disaster Risk Management (DRM) : 447\n",
            "4 . Economy-wide : 447\n",
            "5 . Energy : 1889\n",
            "6 . Environment : 591\n",
            "7 . Health : 421\n",
            "8 . Industries : 270\n",
            "9 . LULUCF/Forestry : 1135\n",
            "10 . Social Development : 326\n",
            "11 . Transport : 651\n",
            "12 . Urban : 294\n",
            "13 . Waste : 398\n",
            "14 . Water : 965\n",
            "{'Agriculture': 2.2471395881006866, 'Buildings': 36.370370370370374, 'Coastal Zone': 9.919191919191919, 'Disaster Risk Management (DRM)': 8.787472035794183, 'Economy-wide': 8.787472035794183, 'Energy': 2.0794070937003704, 'Environment': 6.646362098138748, 'Health': 9.330166270783849, 'Industries': 14.548148148148147, 'LULUCF/Forestry': 3.4607929515418503, 'Social Development': 12.049079754601227, 'Transport': 6.033794162826421, 'Urban': 13.360544217687075, 'Waste': 9.869346733668342, 'Water': 4.070466321243523}\n",
            "{'Agriculture': 0.6430910281597905, 'Buildings': 0.5069695405265875, 'Coastal Zone': 0.5265415549597855, 'Disaster Risk Management (DRM)': 0.530166014306924, 'Economy-wide': 0.530166014306924, 'Energy': 0.6582872465225407, 'Environment': 0.5406744666207846, 'Health': 0.5283120376597176, 'Industries': 0.5177959398892698, 'LULUCF/Forestry': 0.5844368397559887, 'Social Development': 0.5216467463479416, 'Transport': 0.545176960444136, 'Urban': 0.519439301772018, 'Waste': 0.5266827567712523, 'Water': 0.5700188651864752}\n"
          ]
        }
      ]
    },
    {
      "cell_type": "markdown",
      "source": [
        "`pos_weight > 1 will increase the recall while pos_weight < 1 will increase the precision.`"
      ],
      "metadata": {
        "id": "37QlURiSyb72"
      }
    },
    {
      "cell_type": "code",
      "source": [
        "# as we dont want to miss anything (high recall) we use positive weights calculated above.\n",
        "pos_weights = list(positive_weights.values())\n",
        "\n",
        "# If using GPU we need to place all required data on else there will be error\n",
        "posweights = torch.FloatTensor(pos_weights).to(device)"
      ],
      "metadata": {
        "id": "Cuurep-EmpYF"
      },
      "execution_count": null,
      "outputs": []
    },
    {
      "cell_type": "code",
      "source": [
        "# for class weights we need to use Custom Multi-Label Trainer\n",
        "# In multi-label problem we will be using Binary Cross Entropy loss with \n",
        "# sigmoid layer on top rather than softmax.\n",
        "class MultilabelTrainer(Trainer):\n",
        "    def compute_loss(self, model, inputs, return_outputs=False):\n",
        "        labels = inputs.pop(\"labels\")\n",
        "        outputs = model(**inputs)\n",
        "        logits = outputs.logits\n",
        "        loss_fct = torch.nn.BCEWithLogitsLoss(pos_weight=posweights)\n",
        "        loss = loss_fct(logits.view(-1, self.model.config.num_labels), \n",
        "                        labels.float().view(-1, self.model.config.num_labels))\n",
        "        return (loss, outputs) if return_outputs else loss\n"
      ],
      "metadata": {
        "id": "nUyPbsRlmeGy"
      },
      "execution_count": null,
      "outputs": []
    },
    {
      "cell_type": "code",
      "source": [
        "model = AutoModelForSequenceClassification.from_pretrained(model_checkpoint, \n",
        "            id2label = id2label,label2id = label2id,num_labels=num_labels,\n",
        "            problem_type=\"multi_label_classification\").to(device)\n",
        "batch_size = 8\n",
        "num_train_epochs = 8\n",
        "\n",
        "\n",
        "args = TrainingArguments(\n",
        "    \"mpnet-multilabel-sector-classifier_8_cosine\",\n",
        "    evaluation_strategy = \"epoch\",\n",
        "    save_strategy = \"epoch\",\n",
        "    logging_strategy=\"epoch\",\n",
        "    learning_rate=1e-5,\n",
        "    per_device_train_batch_size=batch_size,\n",
        "    per_device_eval_batch_size=batch_size,\n",
        "    num_train_epochs=num_train_epochs,\n",
        "    weight_decay=0.01,\n",
        "    lr_scheduler_type = \"linear\",\n",
        "    # push_to_hub=True,\n",
        "    # fp16 = True,\n",
        "    warmup_steps = 200,\n",
        ")\n",
        "\n",
        "multi_trainer =  MultilabelTrainer(\n",
        "    model,\n",
        "    args,\n",
        "    train_dataset=train_tokenized,\n",
        "    eval_dataset=val_tokenized,\n",
        "    compute_metrics=compute_metrics,\n",
        "    tokenizer=tokenizer)\n",
        "\n",
        "multi_trainer.evaluate()"
      ],
      "metadata": {
        "id": "NPeq_O4Om8eb"
      },
      "execution_count": null,
      "outputs": []
    },
    {
      "cell_type": "code",
      "source": [
        "multi_trainer.train()"
      ],
      "metadata": {
        "id": "rEUpU1pInrg5"
      },
      "execution_count": null,
      "outputs": []
    },
    {
      "cell_type": "code",
      "source": [
        "predictions= multi_trainer.predict(val_tokenized)\n",
        "pred,labels,_ = predictions\n",
        "y_pred = torch.from_numpy(pred)\n",
        "y_true = torch.from_numpy(labels)\n",
        "y_prob = y_pred.sigmoid()\n",
        "thresh = 0.5\n",
        "y_pred = (y_prob>thresh).bool()"
      ],
      "metadata": {
        "colab": {
          "base_uri": "https://localhost:8080/",
          "height": 73
        },
        "id": "ORlqii19zzTc",
        "outputId": "48783069-f047-4658-9207-3dbc1ae45a27"
      },
      "execution_count": null,
      "outputs": [
        {
          "output_type": "display_data",
          "data": {
            "text/plain": [
              "<IPython.core.display.HTML object>"
            ],
            "text/html": []
          },
          "metadata": {}
        },
        {
          "output_type": "stream",
          "name": "stderr",
          "text": [
            "/usr/local/lib/python3.9/dist-packages/sklearn/metrics/_classification.py:1344: UndefinedMetricWarning: Precision and F-score are ill-defined and being set to 0.0 in samples with no predicted labels. Use `zero_division` parameter to control this behavior.\n",
            "  _warn_prf(average, modifier, msg_start, len(result))\n"
          ]
        }
      ]
    },
    {
      "cell_type": "code",
      "source": [
        "import sklearn.metrics as skm\n",
        "import pandas as pd\n",
        "\n",
        "cm = skm.multilabel_confusion_matrix(y_true, y_pred)\n",
        "print(cm)\n",
        "print( skm.classification_report(y_true,y_pred))\n",
        "report = skm.classification_report(y_true, y_pred, output_dict=True)\n",
        "df_report = pd.DataFrame(report).transpose()"
      ],
      "metadata": {
        "id": "FTqVzP-pz4WX"
      },
      "execution_count": null,
      "outputs": []
    },
    {
      "cell_type": "markdown",
      "source": [
        "## Upsampling (augmentation)\n",
        "\n",
        "We will be using the simple Sentence Shuffling from albumentations library. In this exaple i.e sector_data there are different Sectors categorized as:\n",
        "\n",
        "`set0 = ['Agriculture','Energy']`  count ~ 2000\n",
        "\n",
        "`set1 = ['LULUCF/Forestry','Water','Environment']`  ~2000 >count > 1000\n",
        "\n",
        "`set2 = ['Coastal Zone','Disaster Risk Management (DRM)','Economy-wide',\n",
        "        'Health','Social Development','Transport','Urban','Waste']` ~500\n",
        "        \n",
        "`set3 = ['Industries','Buildings']` count < 500 `\n",
        "\n",
        "We need these categorization so that we can do upsampling for these less represented classes.\n"
      ],
      "metadata": {
        "id": "m6VerO7zD-j9"
      }
    },
    {
      "cell_type": "code",
      "source": [
        "df_train.columns"
      ],
      "metadata": {
        "colab": {
          "base_uri": "https://localhost:8080/"
        },
        "id": "A3DhA9QY5D9e",
        "outputId": "348a8ad0-6b21-4ae4-a500-29161596cbb9"
      },
      "execution_count": null,
      "outputs": [
        {
          "output_type": "execute_result",
          "data": {
            "text/plain": [
              "Index(['text', 'Document', 'sector_list', 'Document_name', 'country_count',\n",
              "       'doc_count', 'sector_tuple', 'country', 'labels', 'Agriculture',\n",
              "       'Buildings', 'Coastal Zone', 'Disaster Risk Management (DRM)',\n",
              "       'Economy-wide', 'Energy', 'Environment', 'Health', 'Industries',\n",
              "       'LULUCF/Forestry', 'Social Development', 'Transport', 'Urban', 'Waste',\n",
              "       'Water', 'set0', 'set1', 'set2', 'set3', 'INDC', 'First NDC',\n",
              "       'Second NDC', 'Revised First NDC', 'split'],\n",
              "      dtype='object')"
            ]
          },
          "metadata": {},
          "execution_count": 10
        }
      ]
    },
    {
      "cell_type": "code",
      "source": [
        "for i,sector in enumerate(sectors):\n",
        "    # df_train[sector] = df_train.apply(lambda x: x['sector_label'][i], axis =1)\n",
        "    print(i,\".\",sector, \":\", sum(df_train[sector]))"
      ],
      "metadata": {
        "colab": {
          "base_uri": "https://localhost:8080/"
        },
        "id": "NziPtYtRAGn_",
        "outputId": "95ccb5ce-0395-450e-9564-f9973c97f8a5"
      },
      "execution_count": null,
      "outputs": [
        {
          "output_type": "stream",
          "name": "stdout",
          "text": [
            "0 . Agriculture : 1748\n",
            "1 . Buildings : 108\n",
            "2 . Coastal Zone : 396\n",
            "3 . Disaster Risk Management (DRM) : 447\n",
            "4 . Economy-wide : 447\n",
            "5 . Energy : 1889\n",
            "6 . Environment : 591\n",
            "7 . Health : 421\n",
            "8 . Industries : 270\n",
            "9 . LULUCF/Forestry : 1135\n",
            "10 . Social Development : 326\n",
            "11 . Transport : 651\n",
            "12 . Urban : 294\n",
            "13 . Waste : 398\n",
            "14 . Water : 965\n"
          ]
        }
      ]
    },
    {
      "cell_type": "code",
      "source": [
        "# upsampling_sectors = ['Buildings', 'Coastal Zone', 'Disaster Risk Management (DRM)',\n",
        "#        'Economy-wide', 'Health', 'Industries','Social Development', 'Urban', 'Waste']\n",
        "\n",
        "# df_train['upsampling'] = df_train.apply(lambda x: np.sum([True if val in upsampling_sectors \n",
        "#                            else False  for val in x['sector_tuple']]), axis = 1)"
      ],
      "metadata": {
        "id": "L6QT1AiQAPFv"
      },
      "execution_count": null,
      "outputs": []
    },
    {
      "cell_type": "code",
      "source": [
        "train_examples  = len(df)\n",
        "print('Set0 examples:', round(len(df[df.set0 >0])/train_examples,2))\n",
        "print('Set1 examples:', round(len(df[df.set1 >0])/train_examples,2))\n",
        "print('Set2 examples:', round(len(df[df.set2 >0])/train_examples,2))\n",
        "print('Set3 examples:', round(len(df[df.set3 >0])/train_examples,2))"
      ],
      "metadata": {
        "colab": {
          "base_uri": "https://localhost:8080/"
        },
        "id": "wRl9FYVTSuGm",
        "outputId": "dcbebfb0-8b07-4ca6-ce87-2acd65068863"
      },
      "execution_count": null,
      "outputs": [
        {
          "output_type": "stream",
          "name": "stdout",
          "text": [
            "Set0 examples: 0.45\n",
            "Set1 examples: 0.32\n",
            "Set2 examples: 0.4\n",
            "Set3 examples: 0.05\n"
          ]
        }
      ]
    },
    {
      "cell_type": "code",
      "source": [
        "set1 = df_train[df_train.set1 > 0]\n",
        "print(len(set1))\n",
        "set2 = df_train[df_train.set2 > 0]\n",
        "print(len(set2))\n",
        "set3 = df_train[df_train.set3 > 0]\n",
        "print(len(set3))\n",
        "set2not01 = df_train[(df_train.set0 == 0) & (df_train.set1 == 0) & (df_train.set2 !=0)]\n",
        "print(len(set2not01))"
      ],
      "metadata": {
        "colab": {
          "base_uri": "https://localhost:8080/"
        },
        "id": "91Rf4o1BTHF6",
        "outputId": "c7d062c8-b1c3-4fdd-8049-42ef8ffc65c1"
      },
      "execution_count": null,
      "outputs": [
        {
          "output_type": "stream",
          "name": "stdout",
          "text": [
            "2545\n",
            "3188\n",
            "371\n",
            "2153\n"
          ]
        }
      ]
    },
    {
      "cell_type": "code",
      "source": [
        "import random\n",
        "import re\n",
        "import pandas as pd\n",
        "from nltk import sent_tokenize\n",
        "import nltk\n",
        "nltk.download('punkt')\n",
        "from tqdm import tqdm\n",
        "from albumentations.core.transforms_interface import DualTransform, BasicTransform"
      ],
      "metadata": {
        "colab": {
          "base_uri": "https://localhost:8080/"
        },
        "id": "b2b_c610VVsG",
        "outputId": "3b49d6a2-043e-465d-954d-1c2ebd536110"
      },
      "execution_count": null,
      "outputs": [
        {
          "output_type": "stream",
          "name": "stderr",
          "text": [
            "[nltk_data] Downloading package punkt to /root/nltk_data...\n",
            "[nltk_data]   Package punkt is already up-to-date!\n"
          ]
        }
      ]
    },
    {
      "cell_type": "code",
      "source": [
        "class NLPTransform(BasicTransform):\n",
        "    \"\"\" Transform for nlp task.\"\"\"\n",
        "    LANGS = {\n",
        "        'en': 'english',\n",
        "        'it': 'italian', \n",
        "        'fr': 'french', \n",
        "        'es': 'spanish',\n",
        "        'tr': 'turkish', \n",
        "        'ru': 'russian',\n",
        "        'pt': 'portuguese'\n",
        "    }\n",
        "\n",
        "    @property\n",
        "    def targets(self):\n",
        "        return {\"data\": self.apply}\n",
        "    \n",
        "    def update_params(self, params, **kwargs):\n",
        "        if hasattr(self, \"interpolation\"):\n",
        "            params[\"interpolation\"] = self.interpolation\n",
        "        if hasattr(self, \"fill_value\"):\n",
        "            params[\"fill_value\"] = self.fill_value\n",
        "        return params\n",
        "\n",
        "    def get_sentences(self, text, lang='en'):\n",
        "        return sent_tokenize(text, self.LANGS.get(lang, 'english'))\n",
        "\n",
        "class ShuffleSentencesTransform(NLPTransform):\n",
        "    \"\"\" Do shuffle by sentence \"\"\"\n",
        "    def __init__(self, always_apply=False, p=0.5):\n",
        "        super(ShuffleSentencesTransform, self).__init__(always_apply, p)\n",
        "\n",
        "    def apply(self, data, **params):\n",
        "        text, lang = data\n",
        "        sentences = self.get_sentences(text, lang)\n",
        "        random.shuffle(sentences)\n",
        "        return ' '.join(sentences), lang"
      ],
      "metadata": {
        "id": "J2iw4iRfVaty"
      },
      "execution_count": null,
      "outputs": []
    },
    {
      "cell_type": "code",
      "source": [
        "def augment_data(p_values, df):\n",
        "    # p-value : fraction of sentences which will be swapped \n",
        "    # (should be a list of float values)\n",
        "    placeholder = {}\n",
        "    for p_val in p_values:\n",
        "        transform = ShuffleSentencesTransform(p=p_val)\n",
        "        lang = 'en'\n",
        "        df['augmented_text_{}'.format(p_val)] = df.apply(lambda x: transform(data= (x['text'],lang))['data'][0], axis=1)\n",
        "        placeholder[p_val] = df[['augmented_text_{}'.format(p_val),'labels']]\n",
        "    # augmented_data = pd.DataFrame()\n",
        "\n",
        "    for p_val in p_values:\n",
        "      placeholder[p_val] = placeholder[p_val].rename(columns = {'augmented_text_{}'.format(p_val):'text'})\n",
        "    \n",
        "    \n",
        "    augmented_data = pd.concat(list(placeholder.values()))\n",
        "    print(len(augmented_data))\n",
        "\n",
        "    augmented_data = pd.concat([augmented_data, df[['text','labels']]])\n",
        "    augmented_data = augmented_data.drop_duplicates(subset = ['text'])\n",
        "    # augemnted_data = pd.concat([aug])\n",
        "    return augmented_data\n"
      ],
      "metadata": {
        "id": "aolDvNr-YGW3"
      },
      "execution_count": null,
      "outputs": []
    },
    {
      "cell_type": "code",
      "source": [
        "set3_augmented  = augment_data([0.7,0.8,0.9,0.95,0.99,1.0],set3)\n",
        "set3_augmented.info()"
      ],
      "metadata": {
        "id": "eXPIEfajWPk2"
      },
      "execution_count": null,
      "outputs": []
    },
    {
      "cell_type": "code",
      "source": [
        "set2_augmented  = augment_data([0.8,1.0],set2not01)\n",
        "set2_augmented.info()"
      ],
      "metadata": {
        "id": "AUuOpIMXa6rU"
      },
      "execution_count": null,
      "outputs": []
    },
    {
      "cell_type": "code",
      "source": [
        "df_train_augmented = pd.concat([df_train[['text','labels']],set2_augmented,set3_augmented])\n",
        "df_train_augmented  = df_train_augmented.drop_duplicates(subset = ['text'])\n",
        "print(len(df_train_augmented))\n",
        "for i,sector in enumerate(sectors):\n",
        "    df_train_augmented[sector] = df_train_augmented.apply(lambda x: x['labels'][i], axis =1)\n",
        "    print(i,\".\",sector, \":\", np.sum(df_train_augmented[sector]))"
      ],
      "metadata": {
        "colab": {
          "base_uri": "https://localhost:8080/"
        },
        "id": "wx0xl1w1a2_x",
        "outputId": "051f76ac-e25f-47a7-80c2-aba63d02f1d9"
      },
      "execution_count": null,
      "outputs": [
        {
          "output_type": "stream",
          "name": "stdout",
          "text": [
            "12122\n",
            "0 . Agriculture : 1823\n",
            "1 . Buildings : 476\n",
            "2 . Coastal Zone : 663\n",
            "3 . Disaster Risk Management (DRM) : 824\n",
            "4 . Economy-wide : 834\n",
            "5 . Energy : 2289\n",
            "6 . Environment : 601\n",
            "7 . Health : 813\n",
            "8 . Industries : 1303\n",
            "9 . LULUCF/Forestry : 1212\n",
            "10 . Social Development : 530\n",
            "11 . Transport : 1431\n",
            "12 . Urban : 521\n",
            "13 . Waste : 918\n",
            "14 . Water : 966\n"
          ]
        }
      ]
    },
    {
      "cell_type": "code",
      "source": [
        "train_ds = datasets.Dataset.from_pandas(df_train_augmented)\n",
        "val_ds =  datasets.Dataset.from_pandas(df_val)\n",
        "train_ds = train_ds.shuffle(seed=7)\n",
        "val_ds = val_ds.shuffle(seed=7)\n",
        "\n",
        "import datasets\n",
        "\n",
        "cols = train_ds.column_names\n",
        "cols.remove(\"labels\")\n",
        "print('Training data:',train_ds.num_rows)\n",
        "print('Validation data:',val_ds.num_rows)\n",
        "\n",
        "model_checkpoint = \"sentence-transformers/all-mpnet-base-v2\"\n",
        "tokenizer = AutoTokenizer.from_pretrained(model_checkpoint,problem_type=\"multi_label_classification\")\n",
        "\n",
        "train_tokenized = train_ds.map(tokenize_and_encode, batched=True, remove_columns= cols)\n",
        "val_tokenized = val_ds.map(tokenize_and_encode, batched=True, remove_columns= cols)"
      ],
      "metadata": {
        "colab": {
          "base_uri": "https://localhost:8080/",
          "height": 53,
          "referenced_widgets": [
            "24a51921dfe444f1a17b5b54089065ba",
            "ce00080b5f994ba28723f215b31e1266",
            "586ce89e5b294eb6b0c763be37443772",
            "3467fc412e074b1896c2971b3927a3be",
            "f94bd43d5de54131a0754d604285b1b0",
            "0e2369e2a0b14dce9fdc86bf3c43ac13",
            "b490224a88dd4596af78d563fd64e3eb",
            "eb8da3a52fc04c5198221adffb821471",
            "0ba3b15c410a4d30a504465e18e4c6ae",
            "9e1956b5beeb418297bf061bf3827406",
            "1ff8ec46e6a8434c8e5c2bf855778942",
            "468c9e6e05ec41eabaa94d0049be1a44",
            "406d0e9f5ca94191a3f33345a08750dd",
            "cf087edd76094ce3bf303250cacad5b1",
            "9f2587c96fd446a1aaa03df50708b49c",
            "da4cded921444679b3345c1f6d71fc41",
            "5d1f78bf71bc4d58a3e8d013d2336b3c",
            "947b52b94ffe420e949a3ccec2a2c22f",
            "a76557a3c33a4688aa4b8c802f901176",
            "ddd7a3d2072b45fbab0ca94f1bc390ac",
            "cbd4f6a28fdc483e951d15cf33cdf1d8",
            "38fd9f2e37ef4816a249e59c3faba936"
          ]
        },
        "id": "8Ezy9NJmXopQ",
        "outputId": "9dbeab74-f837-4ff0-a4f1-c47083a3a2ad"
      },
      "execution_count": null,
      "outputs": [
        {
          "output_type": "stream",
          "name": "stdout",
          "text": [
            "Training data: 12122\n",
            "Validation data: 606\n"
          ]
        },
        {
          "output_type": "display_data",
          "data": {
            "text/plain": [
              "Map:   0%|          | 0/12122 [00:00<?, ? examples/s]"
            ],
            "application/vnd.jupyter.widget-view+json": {
              "version_major": 2,
              "version_minor": 0,
              "model_id": "24a51921dfe444f1a17b5b54089065ba"
            }
          },
          "metadata": {}
        },
        {
          "output_type": "display_data",
          "data": {
            "text/plain": [
              "Map:   0%|          | 0/606 [00:00<?, ? examples/s]"
            ],
            "application/vnd.jupyter.widget-view+json": {
              "version_major": 2,
              "version_minor": 0,
              "model_id": "468c9e6e05ec41eabaa94d0049be1a44"
            }
          },
          "metadata": {}
        }
      ]
    },
    {
      "cell_type": "code",
      "source": [
        "# need this to avoid error due to type mismatch\n",
        "train_tokenized.set_format(\"torch\")\n",
        "train_tokenized = (train_tokenized\n",
        "          .map(lambda x : {\"float_labels\": x[\"labels\"].to(torch.float)}, remove_columns=[\"labels\"])\n",
        "          .rename_column(\"float_labels\", \"labels\"))\n",
        "\n",
        "val_tokenized.set_format(\"torch\")\n",
        "val_tokenized = (val_tokenized\n",
        "          .map(lambda x : {\"float_labels\": x[\"labels\"].to(torch.float)}, remove_columns=[\"labels\"])\n",
        "          .rename_column(\"float_labels\", \"labels\"))"
      ],
      "metadata": {
        "colab": {
          "base_uri": "https://localhost:8080/",
          "height": 17,
          "referenced_widgets": [
            "17a19cb157d14f789d3c01a26eac23ec",
            "a44dfd5edcb44df89f0054d16d5378e1",
            "5f0cd734e53f48619b099023ea0d878a",
            "475078c0208b4bfabc54e6eafb397ac2",
            "16cad8027293430f8956135b02df315b",
            "b429fec0bf754be3b473713970d2d99b",
            "8cf29b81de764932b995210f6a5b340b",
            "08d0b5730b5b4dd09a8cae747a4ddcac",
            "d6d4fa5ada394384a99b0a80ef557704",
            "677a1e844dae47a1bb33687e0b09b2d3",
            "71038d33de794be09d7765229dd4e87c",
            "44d764b931f445229a9d5cf2d4a0efb4",
            "3f7e66ab02934c69961e4591a38cec23",
            "ec5580177b644ac6b35aa2dfc4490926",
            "0c07c68938d14f70ac9dc912259605b2",
            "3616dca67498466e925cdd0ff34be252",
            "7b2b383c269446ba818276a08db58688",
            "ca2acd3a33c2403780ed7341d402c86b",
            "d82a2365114b48e6aea6f5c0d0827079",
            "f01700d65c0c4ff7b1d94d7427c323a2",
            "3e9f15302b4546498398dca02b389112",
            "599429c5b57f46a592530b951a1fb2c6"
          ]
        },
        "id": "hwEF1pd6ww1l",
        "outputId": "e7c71745-9057-4cf6-c978-4bf0913281ef"
      },
      "execution_count": null,
      "outputs": [
        {
          "output_type": "display_data",
          "data": {
            "text/plain": [
              "Map:   0%|          | 0/12122 [00:00<?, ? examples/s]"
            ],
            "application/vnd.jupyter.widget-view+json": {
              "version_major": 2,
              "version_minor": 0,
              "model_id": "17a19cb157d14f789d3c01a26eac23ec"
            }
          },
          "metadata": {}
        },
        {
          "output_type": "display_data",
          "data": {
            "text/plain": [
              "Map:   0%|          | 0/606 [00:00<?, ? examples/s]"
            ],
            "application/vnd.jupyter.widget-view+json": {
              "version_major": 2,
              "version_minor": 0,
              "model_id": "44d764b931f445229a9d5cf2d4a0efb4"
            }
          },
          "metadata": {}
        }
      ]
    },
    {
      "cell_type": "code",
      "source": [
        "for i,sector in enumerate(sectors):\n",
        "    # df_train[sector] = df_train.apply(lambda x: x['sector_label'][i], axis =1)\n",
        "    print(i,\".\",sector, \":\", sum(df_train_augmented[sector]))\n",
        "\n",
        "positive_weights = {}\n",
        "negative_weights = {}\n",
        "for sector in sectors:\n",
        "    positive_weights[sector] = df_train_augmented.shape[0]/(2*np.count_nonzero(df_train_augmented[sector]==1))\n",
        "    negative_weights[sector] = df_train_augmented.shape[0]/(2*np.count_nonzero(df_train_augmented[sector]==0))\n",
        "print(positive_weights)\n",
        "print(negative_weights)"
      ],
      "metadata": {
        "colab": {
          "base_uri": "https://localhost:8080/"
        },
        "id": "sCJ-5TtkxGTQ",
        "outputId": "157bd5cf-2f11-4779-eec4-4f54f35980d0"
      },
      "execution_count": null,
      "outputs": [
        {
          "output_type": "stream",
          "name": "stdout",
          "text": [
            "0 . Agriculture : 1834\n",
            "1 . Buildings : 512\n",
            "2 . Coastal Zone : 660\n",
            "3 . Disaster Risk Management (DRM) : 820\n",
            "4 . Economy-wide : 842\n",
            "5 . Energy : 2327\n",
            "6 . Environment : 599\n",
            "7 . Health : 825\n",
            "8 . Industries : 1429\n",
            "9 . LULUCF/Forestry : 1222\n",
            "10 . Social Development : 525\n",
            "11 . Transport : 1435\n",
            "12 . Urban : 533\n",
            "13 . Waste : 934\n",
            "14 . Water : 966\n",
            "{'Agriculture': 3.351145038167939, 'Buildings': 12.00390625, 'Coastal Zone': 9.312121212121212, 'Disaster Risk Management (DRM)': 7.495121951219512, 'Economy-wide': 7.2992874109263655, 'Energy': 2.6411688869789427, 'Environment': 10.26043405676127, 'Health': 7.449696969696969, 'Industries': 4.3009097270818755, 'LULUCF/Forestry': 5.029459901800327, 'Social Development': 11.706666666666667, 'Transport': 4.282926829268293, 'Urban': 11.53095684803002, 'Waste': 6.580299785867238, 'Water': 6.36231884057971}\n",
            "{'Agriculture': 0.5876840696117804, 'Buildings': 0.5217317487266554, 'Coastal Zone': 0.5283700137551581, 'Disaster Risk Management (DRM)': 0.5357391910739191, 'Economy-wide': 0.5367685589519651, 'Energy': 0.6167586552935274, 'Environment': 0.5256136149833234, 'Health': 0.5359727914886195, 'Industries': 0.5657737273313082, 'LULUCF/Forestry': 0.5551942186088528, 'Social Development': 0.5223081499107673, 'Transport': 0.56608639587363, 'Urban': 0.5226634917935199, 'Waste': 0.5411163937312907, 'Water': 0.5426452410383189}\n"
          ]
        }
      ]
    },
    {
      "cell_type": "code",
      "source": [
        "pos_weights = list(positive_weights.values())\n",
        "posweights = torch.FloatTensor(pos_weights).to('cuda')\n",
        "\n",
        "# for class weights we need to use \n",
        "class MultilabelTrainer(Trainer):\n",
        "    def compute_loss(self, model, inputs, return_outputs=False):\n",
        "        labels = inputs.pop(\"labels\")\n",
        "        outputs = model(**inputs)\n",
        "        logits = outputs.logits\n",
        "        loss_fct = torch.nn.BCEWithLogitsLoss()\n",
        "        loss = loss_fct(logits.view(-1, self.model.config.num_labels), \n",
        "                        labels.float().view(-1, self.model.config.num_labels))\n",
        "        return (loss, outputs) if return_outputs else loss\n",
        "\n",
        "model = AutoModelForSequenceClassification.from_pretrained(model_checkpoint, \n",
        "            id2label = id2label,label2id = label2id,num_labels=num_labels,\n",
        "            problem_type=\"multi_label_classification\").to('cuda')\n",
        "batch_size = 8\n",
        "num_train_epochs = 5\n",
        "\n",
        "\n",
        "args = TrainingArguments(\n",
        "    \"mpnet-multilabel-sector-classifier_8_linear\",\n",
        "    evaluation_strategy = \"epoch\",\n",
        "    save_strategy = \"epoch\",\n",
        "    logging_strategy=\"epoch\",\n",
        "    learning_rate=5e-5,\n",
        "    per_device_train_batch_size=batch_size,\n",
        "    per_device_eval_batch_size=batch_size,\n",
        "    num_train_epochs=num_train_epochs,\n",
        "    weight_decay=0.1,\n",
        "    lr_scheduler_type = \"linear\",\n",
        "    # push_to_hub=True,\n",
        "    # fp16 = True,\n",
        "    warmup_steps = 200,\n",
        ")\n",
        "\n",
        "multi_trainer =  MultilabelTrainer(\n",
        "    model,\n",
        "    args,\n",
        "    train_dataset=train_tokenized,\n",
        "    eval_dataset=val_tokenized,\n",
        "    compute_metrics=compute_metrics,\n",
        "    tokenizer=tokenizer)\n",
        "\n",
        "multi_trainer.evaluate()\n"
      ],
      "metadata": {
        "id": "YS61yrawxsQB"
      },
      "execution_count": null,
      "outputs": []
    },
    {
      "cell_type": "code",
      "source": [
        "multi_trainer.train()"
      ],
      "metadata": {
        "id": "SvP8GV8Iyzld"
      },
      "execution_count": null,
      "outputs": []
    },
    {
      "cell_type": "code",
      "source": [
        "predictions= multi_trainer.predict(val_tokenized)\n",
        "pred,labels,_ = predictions\n",
        "y_pred = torch.from_numpy(pred)\n",
        "y_true = torch.from_numpy(labels)\n",
        "y_prob = y_pred.sigmoid()\n",
        "thresh = 0.5\n",
        "y_pred = (y_prob>thresh).bool()"
      ],
      "metadata": {
        "id": "F7Kc7K-HPCHY"
      },
      "execution_count": null,
      "outputs": []
    },
    {
      "cell_type": "code",
      "source": [
        "import sklearn.metrics as skm\n",
        "import pandas as pd\n",
        "\n",
        "cm = skm.multilabel_confusion_matrix(y_true, y_pred)\n",
        "print(cm)\n",
        "print( skm.classification_report(y_true,y_pred))\n",
        "report = skm.classification_report(y_true, y_pred, output_dict=True)\n",
        "df_report = pd.DataFrame(report).transpose()"
      ],
      "metadata": {
        "id": "0WePznZrPIjj"
      },
      "execution_count": null,
      "outputs": []
    },
    {
      "cell_type": "markdown",
      "source": [
        "# Data Augmentation\n",
        "\n",
        "\n",
        "\n",
        "*   https://neptune.ai/blog/data-augmentation-nlp\n",
        "*   https://towardsdatascience.com/nlp-data-augmentation-using-transformers-89a44a993bab\n",
        "* https://medium.com/the-owl/imbalanced-multilabel-image-classification-using-keras-fbd8c60d7a4b\n",
        "*   https://github.com/google-research/uda\n",
        "\n",
        "\n"
      ],
      "metadata": {
        "id": "QsUqKXcP_3yx"
      }
    },
    {
      "cell_type": "markdown",
      "source": [
        "### Albumentations\n",
        "\n",
        "*   https://www.kaggle.com/code/shonenkov/nlp-albumentations/notebook\n",
        "*   https://github.com/albumentations-team/albumentations#installation\n",
        "\n"
      ],
      "metadata": {
        "id": "01D9SyMK__bl"
      }
    },
    {
      "cell_type": "code",
      "source": [
        "!pip install -U albumentations"
      ],
      "metadata": {
        "id": "ONLBPbAv-9ou"
      },
      "execution_count": null,
      "outputs": []
    },
    {
      "cell_type": "code",
      "source": [
        "import random\n",
        "import re\n",
        "import pandas as pd\n",
        "from nltk import sent_tokenize\n",
        "import nltk\n",
        "nltk.download('punkt')\n",
        "from tqdm import tqdm\n",
        "from albumentations.core.transforms_interface import DualTransform, BasicTransform"
      ],
      "metadata": {
        "colab": {
          "base_uri": "https://localhost:8080/"
        },
        "id": "JleELWfG_qmy",
        "outputId": "525ada83-a546-4dbe-a500-6508e8faf485"
      },
      "execution_count": null,
      "outputs": [
        {
          "output_type": "stream",
          "name": "stderr",
          "text": [
            "[nltk_data] Downloading package punkt to /root/nltk_data...\n",
            "[nltk_data]   Unzipping tokenizers/punkt.zip.\n"
          ]
        }
      ]
    },
    {
      "cell_type": "code",
      "source": [
        "class NLPTransform(BasicTransform):\n",
        "    \"\"\" Transform for nlp task.\"\"\"\n",
        "    LANGS = {\n",
        "        'en': 'english',\n",
        "        'it': 'italian', \n",
        "        'fr': 'french', \n",
        "        'es': 'spanish',\n",
        "        'tr': 'turkish', \n",
        "        'ru': 'russian',\n",
        "        'pt': 'portuguese'\n",
        "    }\n",
        "\n",
        "    @property\n",
        "    def targets(self):\n",
        "        return {\"data\": self.apply}\n",
        "    \n",
        "    def update_params(self, params, **kwargs):\n",
        "        if hasattr(self, \"interpolation\"):\n",
        "            params[\"interpolation\"] = self.interpolation\n",
        "        if hasattr(self, \"fill_value\"):\n",
        "            params[\"fill_value\"] = self.fill_value\n",
        "        return params\n",
        "\n",
        "    def get_sentences(self, text, lang='en'):\n",
        "        return sent_tokenize(text, self.LANGS.get(lang, 'english'))"
      ],
      "metadata": {
        "id": "oYcGae-u_2ra"
      },
      "execution_count": null,
      "outputs": []
    },
    {
      "cell_type": "code",
      "source": [
        "class ShuffleSentencesTransform(NLPTransform):\n",
        "    \"\"\" Do shuffle by sentence \"\"\"\n",
        "    def __init__(self, always_apply=False, p=0.5):\n",
        "        super(ShuffleSentencesTransform, self).__init__(always_apply, p)\n",
        "\n",
        "    def apply(self, data, **params):\n",
        "        text, lang = data\n",
        "        sentences = self.get_sentences(text, lang)\n",
        "        random.shuffle(sentences)\n",
        "        return ' '.join(sentences), lang"
      ],
      "metadata": {
        "id": "K_ek0RIDAH7V"
      },
      "execution_count": null,
      "outputs": []
    },
    {
      "cell_type": "code",
      "source": [
        "set1notset0 = sector_data[(sector_data.set0 == 0) & (sector_data.set1 == 1)]\n",
        "set1notset0.info()"
      ],
      "metadata": {
        "colab": {
          "base_uri": "https://localhost:8080/"
        },
        "id": "NpE0truDBmHQ",
        "outputId": "c19d091c-e117-4474-8c8f-8bdc6436e6c1"
      },
      "execution_count": null,
      "outputs": [
        {
          "output_type": "stream",
          "name": "stdout",
          "text": [
            "<class 'pandas.core.frame.DataFrame'>\n",
            "Int64Index: 2947 entries, 3 to 10309\n",
            "Data columns (total 12 columns):\n",
            " #   Column         Non-Null Count  Dtype \n",
            "---  ------         --------------  ----- \n",
            " 0   context        2947 non-null   object\n",
            " 1   sector_list    2947 non-null   object\n",
            " 2   Document_name  2947 non-null   object\n",
            " 3   Countries      2947 non-null   object\n",
            " 4   country_count  2947 non-null   int64 \n",
            " 5   doc_count      2947 non-null   int64 \n",
            " 6   sector_tuple   2947 non-null   object\n",
            " 7   set0           2947 non-null   int64 \n",
            " 8   set1           2947 non-null   int64 \n",
            " 9   set2           2947 non-null   int64 \n",
            " 10  set3           2947 non-null   int64 \n",
            " 11  set4           2947 non-null   int64 \n",
            "dtypes: int64(7), object(5)\n",
            "memory usage: 299.3+ KB\n"
          ]
        }
      ]
    },
    {
      "cell_type": "code",
      "source": [
        "transform = ShuffleSentencesTransform(p=0.3)\n",
        "lang = 'en'\n",
        "set1notset0['augmented_data'] = set1notset0.apply(lambda x: transform(data= (x['context'],lang))['data'][0], axis=1)"
      ],
      "metadata": {
        "id": "oZAOv7KTet5Q"
      },
      "execution_count": null,
      "outputs": []
    },
    {
      "cell_type": "markdown",
      "source": [
        "### NLP Aug\n",
        "\n",
        "\n",
        "*   https://github.com/makcedward/nlpaug/blob/master/example/textual_augmenter.ipynb\n",
        "*   https://github.com/makcedward/nlpaug\n",
        "\n"
      ],
      "metadata": {
        "id": "vqd8emxCkyQq"
      }
    },
    {
      "cell_type": "code",
      "source": [
        "! pip install numpy requests nlpaug\n",
        "! pip install torch>=1.6.0 transformers>=4.11.3 sentencepiece"
      ],
      "metadata": {
        "id": "C6UJN4_nkukb"
      },
      "execution_count": null,
      "outputs": []
    },
    {
      "cell_type": "code",
      "source": [
        "import os\n",
        "os.environ[\"model_dir\"] = '../model'\n",
        "\n",
        "import nlpaug.augmenter.char as nac\n",
        "import nlpaug.augmenter.word as naw\n",
        "import nlpaug.augmenter.sentence as nas\n",
        "import nlpaug.flow as nafc\n",
        "\n",
        "from nlpaug.util import Action"
      ],
      "metadata": {
        "id": "KNmxJIszwBit"
      },
      "execution_count": null,
      "outputs": []
    },
    {
      "cell_type": "code",
      "source": [
        "text = 'The quick brown fox jumps over the lazy dog .'\n",
        "print(text)"
      ],
      "metadata": {
        "colab": {
          "base_uri": "https://localhost:8080/"
        },
        "id": "1piu72UIwIyy",
        "outputId": "9be9fae6-335c-4654-9ca1-e5fdc20e6a97"
      },
      "execution_count": null,
      "outputs": [
        {
          "output_type": "stream",
          "name": "stdout",
          "text": [
            "The quick brown fox jumps over the lazy dog .\n"
          ]
        }
      ]
    },
    {
      "cell_type": "code",
      "source": [
        "aug = naw.ContextualWordEmbsAug(\n",
        "    model_path='bert-base-uncased', action=\"insert\")\n",
        "augmented_text = aug.augment(text)"
      ],
      "metadata": {
        "id": "jiL2NRpYxqAr"
      },
      "execution_count": null,
      "outputs": []
    },
    {
      "cell_type": "code",
      "source": [
        "set2not01 = sector_data[(sector_data.set0 == 0) & (sector_data.set1 == 0) & (sector_data.set2 !=0)]\n",
        "set2not01.info()"
      ],
      "metadata": {
        "id": "wNkCeGme0d0B"
      },
      "execution_count": null,
      "outputs": []
    },
    {
      "cell_type": "code",
      "source": [
        "# list_of_sentences = list(set2not01.context)\n",
        "\n",
        "# list_of_aug_text = []"
      ],
      "metadata": {
        "id": "94VuHEcb5G8Q"
      },
      "execution_count": null,
      "outputs": []
    },
    {
      "cell_type": "code",
      "source": [
        "aug2.augment(list_of_sentences[0])"
      ],
      "metadata": {
        "colab": {
          "base_uri": "https://localhost:8080/"
        },
        "id": "nUe-ZHbt6zyI",
        "outputId": "0b3ff5a1-7146-4be2-9b35-383beb69df21"
      },
      "execution_count": null,
      "outputs": [
        {
          "output_type": "execute_result",
          "data": {
            "text/plain": [
              "['\" 1 ( con ) : improved environmental standards for vehicles : limitation of emissions of certain polluting gases from vehicle emissions. after 2023, that standard obliges manufacturers shall produce cleaner cars, while respecting, in particular, the emission rates of fine particles and nitrogen oxides... thus, from january 2023, all vehicles new individuals and utility vehicles ( of categories m and n ) placed on the moroccan market must comply with the euro 6 standard. ; 2 ( con ) : bonus - malus products : the bonus - malus system aims to encourage the choice of a vehicle for low co2 emissions and to penalize the purchase of the most polluting models. ; 3 ( con ) : eco driving : the adoption of good eco - driving practices aiming to reduce fuel consumption bills and vehicle maintenance costs, pollute the environment less and help improve road design. ; 4 ( con ) : application of performance standards in co2 emissions for new passenger cars and for new light commercial vehicles : this action aims at convergence, with a delay of 10 years in 2030, towards the application of the european regulation establishing performance standards in terms of maximum emissions for new passenger taxis and for new light commercial vehicles. this action would make it possible to drain a greater potential for attenuating co2 emission. \"']"
            ]
          },
          "metadata": {},
          "execution_count": 94
        }
      ]
    },
    {
      "cell_type": "code",
      "source": [
        "aug.augment(list_of_sentences[0])"
      ],
      "metadata": {
        "colab": {
          "base_uri": "https://localhost:8080/"
        },
        "id": "njkEie3g5IdJ",
        "outputId": "a47fc40c-ac54-45e5-87ff-fd3739d250bc"
      },
      "execution_count": null,
      "outputs": [
        {
          "output_type": "execute_result",
          "data": {
            "text/plain": [
              "['\" 1 ( con ) : improved environmental standards for vehicles : limitation of emissions limits of certain polluting gases from vehicle emissions. from 2023, the standard obliges manufacturers to produce cleaner cars, while respecting, as in particular, the emission rates of fine particles and nitrogen oxides... on thus, from january 2023, all vehicles new individuals and utility vehicles ( of categories m and n ) placed on the moroccan market must comply with the euro 6 standard. ; 2 ( con ) : bonus - malus system : the bonus - malus system aims to encourage the choice of a vehicle with low co2 dust emissions and to penalize the purchase of the most polluting models. ; 3 ( con ) : successful eco driving : the adoption of good eco - driving best practices aims to reduce fuel consumption bills and vehicle maintenance costs, pollute the environment emissions less and help improve road safety. ; 4 ( con ) : application of performance standards in co2 emissions for new road passenger cars and for new light commercial vehicles : this action aims at convergence, with a delay of 10 years in 2030, towards the application of the european regulation establishing performance standards in terms of co2 emissions for new passenger vehicles and for new light commercial vehicles. this action would make it possible to again drain a greater potential for attenuating all co2 emissions. \"']"
            ]
          },
          "metadata": {},
          "execution_count": 91
        }
      ]
    },
    {
      "cell_type": "code",
      "source": [
        "aug2 = naw.ContextualWordEmbsAug(\n",
        "    model_path='bert-base-uncased', action=\"substitute\")"
      ],
      "metadata": {
        "id": "O5Sjty_j6wFZ"
      },
      "execution_count": null,
      "outputs": []
    },
    {
      "cell_type": "markdown",
      "source": [
        "# Using K-Fold\n",
        "https://huggingface.co/docs/datasets/loading#slice-splits\n",
        "\n"
      ],
      "metadata": {
        "id": "0FTYpZYdeks7"
      }
    },
    {
      "cell_type": "code",
      "source": [
        "sector_dir = '/content/drive/MyDrive/Colab Notebooks/giz/policyData/sector_data/'\n",
        "import datasets\n",
        "from datasets import load_dataset\n",
        "\n",
        "# creating data slices for K-fold\n",
        "val_ds  = datasets.load_dataset(\"json\", data_files = {\"train\": sector_dir + 'train_val.json'},\n",
        "                              split=[f\"train[{k}%:{k+20}%]\" for k in range(0, 100, 20)])\n",
        "\n",
        "train_ds  = datasets.load_dataset(\"json\",data_files = {\"train\":sector_dir + 'train_val.json'},\n",
        "                              split=[f\"train[:{k}%]+train[{k+20}%:]\" for k in range(0, 100, 20)])"
      ],
      "metadata": {
        "id": "rri6yBTtu-AG"
      },
      "execution_count": null,
      "outputs": []
    },
    {
      "cell_type": "code",
      "source": [
        "splits = len(train_ds)\n",
        "print(splits)\n",
        "model_checkpoint = \"bert-base-uncased\"\n",
        "tokenizer = AutoTokenizer.from_pretrained(model_checkpoint)\n",
        "\n",
        "def tokenize_and_encode(examples):\n",
        "    return tokenizer(examples[\"text\"], padding=\"max_length\", truncation=True,\n",
        "                        max_length=384)"
      ],
      "metadata": {
        "id": "Nvn350vuvmyy"
      },
      "execution_count": null,
      "outputs": []
    },
    {
      "cell_type": "code",
      "source": [
        "print(train_ds[0].column_names,)"
      ],
      "metadata": {
        "colab": {
          "base_uri": "https://localhost:8080/"
        },
        "id": "MdYsApBYwQeU",
        "outputId": "a4f268e5-feaa-4408-a4a4-576269d7ddb8"
      },
      "execution_count": null,
      "outputs": [
        {
          "output_type": "stream",
          "name": "stdout",
          "text": [
            "['context', 'sector_list', 'Document_name', 'country_count', 'doc_count', 'sector_tuple', 'country', 'sector_label', 'Agriculture', 'Buildings', 'Coastal Zone', 'Cross-Cutting Area', 'Disaster Risk Management (DRM)', 'Economy-wide', 'Energy', 'Environment', 'Health', 'Industries', 'LULUCF/Forestry', 'Social Development', 'Transport', 'Urban', 'Waste', 'Water', 'set0', 'set1', 'set2', 'set3', 'INDC', 'First NDC', 'Second NDC', 'Revised First NDC']\n"
          ]
        }
      ]
    },
    {
      "cell_type": "markdown",
      "source": [
        "https://huggingface.co/docs/transformers/main_classes/trainer#trainer"
      ],
      "metadata": {
        "id": "MUdKU92MiFpk"
      }
    },
    {
      "cell_type": "code",
      "source": [
        "class MultilabelTrainer(Trainer):\n",
        "    def compute_loss(self, model, inputs, return_outputs=False):\n",
        "        labels = inputs.pop(\"labels\")\n",
        "        outputs = model(**inputs)\n",
        "        logits = outputs.logits\n",
        "        loss_fct = torch.nn.BCEWithLogitsLoss()\n",
        "        loss = loss_fct(logits.view(-1, self.model.config.num_labels), \n",
        "                        labels.float().view(-1, self.model.config.num_labels))\n",
        "        return (loss, outputs) if return_outputs else loss\n",
        "\n",
        "\n",
        "def get_predictions(y_pred, y_true, thresh=0.5, sigmoid=True): \n",
        "    y_pred = torch.from_numpy(y_pred)\n",
        "    y_true = torch.from_numpy(y_true)\n",
        "    if sigmoid: \n",
        "      y_pred = y_pred.sigmoid()\n",
        "      y_pred = (y_pred > thresh)\n",
        "    # report = skm.classification_report(y_true, y_pred, output_dict=True)\n",
        "    df_report = pd.DataFrame(report).transpose()\n",
        "    return {\"Precision_micro\": df_report.loc['micro avg']['precision'],\n",
        "            \"Precision_weighted\": df_report.loc['weighted avg']['precision'],\n",
        "            \"Precision_samples\": df_report.loc['samples avg']['precision'],\n",
        "            \"Recall_micro\": df_report.loc['micro avg']['recall'],\n",
        "            \"Recall_weighted\": df_report.loc['weighted avg']['recall'],\n",
        "            \"Recall_samples\": df_report.loc['samples avg']['recall'],\n",
        "            \"accuracy\": skm.accuracy_score(y_true, y_pred)}\n",
        "\n",
        "def compute_metrics(eval_pred):\n",
        "    predictions, labels = eval_pred\n",
        "    return get_predictions(predictions, labels)"
      ],
      "metadata": {
        "id": "qsIbTokDyl0V"
      },
      "execution_count": null,
      "outputs": []
    },
    {
      "cell_type": "code",
      "source": [
        "model = AutoModelForSequenceClassification.from_pretrained(model_checkpoint, \n",
        "                              num_labels=num_labels,id2label = id2label,\n",
        "                              label2id = label2id).to('cuda')\n",
        "batch_size = 16\n",
        "#  Each fold will be trianed for 1 epoch\n",
        "num_train_epochs = 1\n",
        "\n",
        "\n",
        "# keeping separate first fold args as this differs from other fold args in terms of\n",
        "# warmup_ratio which is important in start pahse of training\n",
        "# lr_scheduler is 'cosine' and not default 'linear'\n",
        "first_epoch_args = TrainingArguments(\n",
        "    \"bert-multilabel-sector-classifier\",\n",
        "    evaluation_strategy = \"epoch\",\n",
        "    save_strategy = \"epoch\",\n",
        "    logging_strategy=\"epoch\",\n",
        "    lr_scheduler_type = 'cosine',\n",
        "    learning_rate=5e-5,\n",
        "    per_device_train_batch_size=batch_size,\n",
        "    per_device_eval_batch_size=batch_size,\n",
        "    num_train_epochs=num_train_epochs,\n",
        "    weight_decay=0.01,\n",
        "    push_to_hub=True,\n",
        "    # fp16 = True,\n",
        "    warmup_ratio = 0.5,\n",
        ")\n",
        "\n",
        "args = TrainingArguments(\n",
        "    \"bert-multilabel-sector-classifier\",\n",
        "    evaluation_strategy = \"epoch\",\n",
        "    save_strategy = \"epoch\",\n",
        "    logging_strategy=\"epoch\",\n",
        "    lr_scheduler_type = 'cosine',\n",
        "    learning_rate=5e-5,\n",
        "    per_device_train_batch_size=batch_size,\n",
        "    per_device_eval_batch_size=batch_size,\n",
        "    num_train_epochs=num_train_epochs,\n",
        "    weight_decay=0.01,\n",
        "    push_to_hub=True,\n",
        "    # fp16 = True,\n",
        "    # warmup_ratio = 0.01,\n",
        ")"
      ],
      "metadata": {
        "id": "Z1Tw4lhHHlz9"
      },
      "execution_count": null,
      "outputs": []
    },
    {
      "cell_type": "code",
      "source": [
        "from tqdm.autonotebook import tqdm\n",
        "log_results = []\n",
        "for split in tqdm(range(splits)):\n",
        "    train_split = train_ds[split]\n",
        "    val_split = val_ds[split]\n",
        "    train_split  = train_split.rename_column(\"sector_label\", \"labels\")\n",
        "    val_split = val_split.rename_column(\"sector_label\", \"labels\")\n",
        "    train_split  = train_split.rename_column(\"context\", \"text\")\n",
        "    val_split = val_split.rename_column(\"context\", \"text\")\n",
        "    cols = val_split.column_names\n",
        "    cols.remove(\"labels\")  \n",
        "\n",
        "    train_tokenized = train_split.map(tokenize_and_encode, batched=True, remove_columns= cols)\n",
        "    val_tokenized = val_split.map(tokenize_and_encode, batched=True, remove_columns= cols)\n",
        "\n",
        "    if split  == 0:\n",
        "        multi_trainer =  MultilabelTrainer(\n",
        "            model,\n",
        "            args = first_epoch_args,\n",
        "            train_dataset=train_tokenized,\n",
        "            eval_dataset=val_tokenized,\n",
        "            compute_metrics=compute_metrics,\n",
        "            tokenizer=tokenizer)\n",
        "    else:\n",
        "       multi_trainer =  MultilabelTrainer(\n",
        "            model,\n",
        "            args = args,\n",
        "            train_dataset=train_tokenized,\n",
        "            eval_dataset=val_tokenized,\n",
        "            compute_metrics=compute_metrics,\n",
        "            tokenizer=tokenizer)\n",
        "    multi_trainer.train()\n",
        "    # save the logs from each fold.\n",
        "    log_results.append([multi_trainer.state.log_history])"
      ],
      "metadata": {
        "id": "6bVjV_d7ekZy"
      },
      "execution_count": null,
      "outputs": []
    },
    {
      "cell_type": "code",
      "source": [
        "from tqdm.autonotebook import tqdm\n",
        "for split in tqdm(range(splits)):\n",
        "    train_split = train_ds[split]\n",
        "    val_split = val_ds[split]\n",
        "    train_split  = train_split.rename_column(\"sector_label\", \"labels\")\n",
        "    val_split = val_split.rename_column(\"sector_label\", \"labels\")\n",
        "    train_split  = train_split.rename_column(\"context\", \"text\")\n",
        "    val_split = val_split.rename_column(\"context\", \"text\")\n",
        "    cols = val_split.column_names\n",
        "    cols.remove(\"labels\")  \n",
        "\n",
        "    train_tokenized = train_split.map(tokenize_and_encode, batched=True, remove_columns= cols)\n",
        "    val_tokenized = val_split.map(tokenize_and_encode, batched=True, remove_columns= cols)\n",
        "\n",
        "    # if split  == 0:\n",
        "    #     multi_trainer =  MultilabelTrainer(\n",
        "    #         model,\n",
        "    #         args = first_epoch_args,\n",
        "    #         train_dataset=train_tokenized,\n",
        "    #         eval_dataset=val_tokenized,\n",
        "    #         compute_metrics=compute_metrics,\n",
        "    #         tokenizer=tokenizer)\n",
        "    # else:\n",
        "    multi_trainer =  MultilabelTrainer(\n",
        "        model,\n",
        "        args = args,\n",
        "        train_dataset=train_tokenized,\n",
        "        eval_dataset=val_tokenized,\n",
        "        compute_metrics=compute_metrics,\n",
        "        tokenizer=tokenizer)\n",
        "    multi_trainer.train()\n",
        "    # save the logs from each fold.\n",
        "    log_results.append([multi_trainer.state.log_history])"
      ],
      "metadata": {
        "id": "3BIAjD5nuVFK"
      },
      "execution_count": null,
      "outputs": []
    },
    {
      "cell_type": "code",
      "source": [
        "multi_trainer.push_to_hub()"
      ],
      "metadata": {
        "id": "kiOdDgTWt8LG"
      },
      "execution_count": null,
      "outputs": []
    },
    {
      "cell_type": "code",
      "source": [
        "log_results"
      ],
      "metadata": {
        "id": "tCD_PgcXjZat"
      },
      "execution_count": null,
      "outputs": []
    },
    {
      "cell_type": "markdown",
      "source": [
        "# Prediction\n",
        "https://discuss.huggingface.co/t/i-have-trained-my-classifier-now-how-do-i-do-predictions/3625/2"
      ],
      "metadata": {
        "id": "mGpb-axSdl49"
      }
    },
    {
      "cell_type": "markdown",
      "source": [
        "## Predictions using Trainer"
      ],
      "metadata": {
        "id": "XeRpKvtB7IB5"
      }
    },
    {
      "cell_type": "code",
      "source": [
        "test_ds = load_dataset(\"json\", data_files={\"test\": sector_dir + \"test.json\"})\n",
        "test_ds  = test_ds['test']\n",
        "test_ds  = test_ds.rename_column(\"sector_label\", \"labels\")\n",
        "test_ds  = test_ds.rename_column(\"context\", \"text\")\n",
        "cols = test_ds.column_names\n",
        "cols.remove(\"labels\")  \n",
        "test_tokenized = test_ds.map(tokenize_and_encode, batched=True, remove_columns= cols)"
      ],
      "metadata": {
        "id": "X-XhmKydkYlX"
      },
      "execution_count": null,
      "outputs": []
    },
    {
      "cell_type": "code",
      "source": [
        "test_tokenized.set_format(\"torch\")\n",
        "test_tokenized = (test_tokenized\n",
        "          .map(lambda x : {\"float_labels\": x[\"labels\"].to(torch.float)}, remove_columns=[\"labels\"])\n",
        "          .rename_column(\"float_labels\", \"labels\"))\n",
        "multi_trainer.evaluate(test_tokenized)"
      ],
      "metadata": {
        "id": "NwpAsjGskez2"
      },
      "execution_count": null,
      "outputs": []
    },
    {
      "cell_type": "code",
      "source": [
        "multi_trainer.state.log_history"
      ],
      "metadata": {
        "id": "0XJpR3Y5Pout"
      },
      "execution_count": null,
      "outputs": []
    },
    {
      "cell_type": "code",
      "source": [
        "predictions= multi_trainer.predict(val_tokenized)\n",
        "pred,labels,_ = predictions\n",
        "y_pred = torch.from_numpy(pred)\n",
        "y_true = torch.from_numpy(labels)\n",
        "y_prob = y_pred.sigmoid()\n",
        "thresh = 0.5\n",
        "y_pred = (y_prob>thresh).bool()"
      ],
      "metadata": {
        "colab": {
          "base_uri": "https://localhost:8080/",
          "height": 17
        },
        "id": "6n_tfRqBdB-2",
        "outputId": "a9c54503-0eda-43eb-aff8-997e5ab7dc12"
      },
      "execution_count": null,
      "outputs": [
        {
          "output_type": "display_data",
          "data": {
            "text/plain": [
              "<IPython.core.display.HTML object>"
            ],
            "text/html": []
          },
          "metadata": {}
        }
      ]
    },
    {
      "cell_type": "code",
      "source": [
        "y_pred = y_pred.tolist()\n",
        "df_val['pred'] = y_pred\n",
        "df_val['prob'] = list(np.around(np.array(y_prob.tolist()),3))\n",
        "df_val['pred_sectors'] = df_val.apply(lambda x: list(np.array(sectors)[x['pred']]), axis =1)"
      ],
      "metadata": {
        "id": "I7NpyDEQeKhf"
      },
      "execution_count": null,
      "outputs": []
    },
    {
      "cell_type": "code",
      "source": [
        "df_val"
      ],
      "metadata": {
        "id": "AyUbPg65eJDv"
      },
      "execution_count": null,
      "outputs": []
    },
    {
      "cell_type": "code",
      "source": [
        "# multi_trainer.push_to_hub()"
      ],
      "metadata": {
        "id": "2NOExnpqdFSU"
      },
      "execution_count": null,
      "outputs": []
    },
    {
      "cell_type": "code",
      "source": [
        "jsonfile = df_val.to_json(orient=\"records\")\n",
        "import json\n",
        "parsed = json.loads(jsonfile)\n",
        "with open('/content/drive/MyDrive/Colab Notebooks/giz/policyData/climatewatch_ndc/CW_sectorClassification_val_1.json', 'w') as file:\n",
        "    json.dump(parsed, file, indent=4)\n",
        "\n",
        "df_val.to_excel('/content/drive/MyDrive/Colab Notebooks/giz/policyData/climatewatch_ndc/CW_sectorClassification_val_1.xlsx')    "
      ],
      "metadata": {
        "id": "-Dx_HwFSgVJF"
      },
      "execution_count": null,
      "outputs": []
    },
    {
      "cell_type": "code",
      "source": [
        "import sklearn.metrics as skm\n",
        "import pandas as pd\n",
        "\n",
        "cm = skm.multilabel_confusion_matrix(y_true, y_pred)\n",
        "print(cm)\n",
        "print( skm.classification_report(y_true,y_pred))\n",
        "report = skm.classification_report(y_true, y_pred, output_dict=True)\n",
        "df_report = pd.DataFrame(report).transpose()"
      ],
      "metadata": {
        "id": "aitEWZ8ehDje"
      },
      "execution_count": null,
      "outputs": []
    },
    {
      "cell_type": "code",
      "source": [
        "df_report['Sector'] = sectors + [None, None, None, None]\n",
        "df_report = df_report[['Sector','precision','recall','f1-score','support']]\n",
        "df_report"
      ],
      "metadata": {
        "colab": {
          "base_uri": "https://localhost:8080/",
          "height": 676
        },
        "id": "2EpuiOaUhdPz",
        "outputId": "b6bc6003-9f00-40bf-cc83-ee21eef6a2e5"
      },
      "execution_count": null,
      "outputs": [
        {
          "output_type": "execute_result",
          "data": {
            "text/plain": [
              "                                      Sector  precision    recall  f1-score  \\\n",
              "0                                Agriculture   0.738255  0.714286  0.726073   \n",
              "1                                  Buildings   0.000000  0.000000  0.000000   \n",
              "2                               Coastal Zone   0.651163  0.636364  0.643678   \n",
              "3                         Cross-Cutting Area   0.617886  0.490323  0.546763   \n",
              "4             Disaster Risk Management (DRM)   0.666667  0.588235  0.625000   \n",
              "5                               Economy-wide   0.333333  0.023810  0.044444   \n",
              "6                                     Energy   0.913265  0.856459  0.883951   \n",
              "7                                Environment   0.568182  0.403226  0.471698   \n",
              "8                                     Health   0.833333  0.851064  0.842105   \n",
              "9                                 Industries   0.882353  0.652174  0.750000   \n",
              "10                           LULUCF/Forestry   0.788991  0.704918  0.744589   \n",
              "11                        Social Development   0.500000  0.043478  0.080000   \n",
              "12                                 Transport   0.900000  0.807692  0.851351   \n",
              "13                                     Urban   0.550000  0.289474  0.379310   \n",
              "14                                     Waste   0.750000  0.710526  0.729730   \n",
              "15                                     Water   0.671053  0.629630  0.649682   \n",
              "micro avg                               None   0.756867  0.621554  0.682569   \n",
              "macro avg                               None   0.647780  0.525104  0.560523   \n",
              "weighted avg                            None   0.722546  0.621554  0.655923   \n",
              "samples avg                             None   0.696410  0.676291  0.669143   \n",
              "\n",
              "              support  \n",
              "0               154.0  \n",
              "1                 7.0  \n",
              "2                44.0  \n",
              "3               155.0  \n",
              "4                51.0  \n",
              "5                42.0  \n",
              "6               209.0  \n",
              "7                62.0  \n",
              "8                47.0  \n",
              "9                23.0  \n",
              "10              122.0  \n",
              "11               46.0  \n",
              "12               78.0  \n",
              "13               38.0  \n",
              "14               38.0  \n",
              "15               81.0  \n",
              "micro avg      1197.0  \n",
              "macro avg      1197.0  \n",
              "weighted avg   1197.0  \n",
              "samples avg    1197.0  "
            ],
            "text/html": [
              "\n",
              "  <div id=\"df-44d7bbd2-1d4c-4892-9d7c-fdaf6f122c63\">\n",
              "    <div class=\"colab-df-container\">\n",
              "      <div>\n",
              "<style scoped>\n",
              "    .dataframe tbody tr th:only-of-type {\n",
              "        vertical-align: middle;\n",
              "    }\n",
              "\n",
              "    .dataframe tbody tr th {\n",
              "        vertical-align: top;\n",
              "    }\n",
              "\n",
              "    .dataframe thead th {\n",
              "        text-align: right;\n",
              "    }\n",
              "</style>\n",
              "<table border=\"1\" class=\"dataframe\">\n",
              "  <thead>\n",
              "    <tr style=\"text-align: right;\">\n",
              "      <th></th>\n",
              "      <th>Sector</th>\n",
              "      <th>precision</th>\n",
              "      <th>recall</th>\n",
              "      <th>f1-score</th>\n",
              "      <th>support</th>\n",
              "    </tr>\n",
              "  </thead>\n",
              "  <tbody>\n",
              "    <tr>\n",
              "      <th>0</th>\n",
              "      <td>Agriculture</td>\n",
              "      <td>0.738255</td>\n",
              "      <td>0.714286</td>\n",
              "      <td>0.726073</td>\n",
              "      <td>154.0</td>\n",
              "    </tr>\n",
              "    <tr>\n",
              "      <th>1</th>\n",
              "      <td>Buildings</td>\n",
              "      <td>0.000000</td>\n",
              "      <td>0.000000</td>\n",
              "      <td>0.000000</td>\n",
              "      <td>7.0</td>\n",
              "    </tr>\n",
              "    <tr>\n",
              "      <th>2</th>\n",
              "      <td>Coastal Zone</td>\n",
              "      <td>0.651163</td>\n",
              "      <td>0.636364</td>\n",
              "      <td>0.643678</td>\n",
              "      <td>44.0</td>\n",
              "    </tr>\n",
              "    <tr>\n",
              "      <th>3</th>\n",
              "      <td>Cross-Cutting Area</td>\n",
              "      <td>0.617886</td>\n",
              "      <td>0.490323</td>\n",
              "      <td>0.546763</td>\n",
              "      <td>155.0</td>\n",
              "    </tr>\n",
              "    <tr>\n",
              "      <th>4</th>\n",
              "      <td>Disaster Risk Management (DRM)</td>\n",
              "      <td>0.666667</td>\n",
              "      <td>0.588235</td>\n",
              "      <td>0.625000</td>\n",
              "      <td>51.0</td>\n",
              "    </tr>\n",
              "    <tr>\n",
              "      <th>5</th>\n",
              "      <td>Economy-wide</td>\n",
              "      <td>0.333333</td>\n",
              "      <td>0.023810</td>\n",
              "      <td>0.044444</td>\n",
              "      <td>42.0</td>\n",
              "    </tr>\n",
              "    <tr>\n",
              "      <th>6</th>\n",
              "      <td>Energy</td>\n",
              "      <td>0.913265</td>\n",
              "      <td>0.856459</td>\n",
              "      <td>0.883951</td>\n",
              "      <td>209.0</td>\n",
              "    </tr>\n",
              "    <tr>\n",
              "      <th>7</th>\n",
              "      <td>Environment</td>\n",
              "      <td>0.568182</td>\n",
              "      <td>0.403226</td>\n",
              "      <td>0.471698</td>\n",
              "      <td>62.0</td>\n",
              "    </tr>\n",
              "    <tr>\n",
              "      <th>8</th>\n",
              "      <td>Health</td>\n",
              "      <td>0.833333</td>\n",
              "      <td>0.851064</td>\n",
              "      <td>0.842105</td>\n",
              "      <td>47.0</td>\n",
              "    </tr>\n",
              "    <tr>\n",
              "      <th>9</th>\n",
              "      <td>Industries</td>\n",
              "      <td>0.882353</td>\n",
              "      <td>0.652174</td>\n",
              "      <td>0.750000</td>\n",
              "      <td>23.0</td>\n",
              "    </tr>\n",
              "    <tr>\n",
              "      <th>10</th>\n",
              "      <td>LULUCF/Forestry</td>\n",
              "      <td>0.788991</td>\n",
              "      <td>0.704918</td>\n",
              "      <td>0.744589</td>\n",
              "      <td>122.0</td>\n",
              "    </tr>\n",
              "    <tr>\n",
              "      <th>11</th>\n",
              "      <td>Social Development</td>\n",
              "      <td>0.500000</td>\n",
              "      <td>0.043478</td>\n",
              "      <td>0.080000</td>\n",
              "      <td>46.0</td>\n",
              "    </tr>\n",
              "    <tr>\n",
              "      <th>12</th>\n",
              "      <td>Transport</td>\n",
              "      <td>0.900000</td>\n",
              "      <td>0.807692</td>\n",
              "      <td>0.851351</td>\n",
              "      <td>78.0</td>\n",
              "    </tr>\n",
              "    <tr>\n",
              "      <th>13</th>\n",
              "      <td>Urban</td>\n",
              "      <td>0.550000</td>\n",
              "      <td>0.289474</td>\n",
              "      <td>0.379310</td>\n",
              "      <td>38.0</td>\n",
              "    </tr>\n",
              "    <tr>\n",
              "      <th>14</th>\n",
              "      <td>Waste</td>\n",
              "      <td>0.750000</td>\n",
              "      <td>0.710526</td>\n",
              "      <td>0.729730</td>\n",
              "      <td>38.0</td>\n",
              "    </tr>\n",
              "    <tr>\n",
              "      <th>15</th>\n",
              "      <td>Water</td>\n",
              "      <td>0.671053</td>\n",
              "      <td>0.629630</td>\n",
              "      <td>0.649682</td>\n",
              "      <td>81.0</td>\n",
              "    </tr>\n",
              "    <tr>\n",
              "      <th>micro avg</th>\n",
              "      <td>None</td>\n",
              "      <td>0.756867</td>\n",
              "      <td>0.621554</td>\n",
              "      <td>0.682569</td>\n",
              "      <td>1197.0</td>\n",
              "    </tr>\n",
              "    <tr>\n",
              "      <th>macro avg</th>\n",
              "      <td>None</td>\n",
              "      <td>0.647780</td>\n",
              "      <td>0.525104</td>\n",
              "      <td>0.560523</td>\n",
              "      <td>1197.0</td>\n",
              "    </tr>\n",
              "    <tr>\n",
              "      <th>weighted avg</th>\n",
              "      <td>None</td>\n",
              "      <td>0.722546</td>\n",
              "      <td>0.621554</td>\n",
              "      <td>0.655923</td>\n",
              "      <td>1197.0</td>\n",
              "    </tr>\n",
              "    <tr>\n",
              "      <th>samples avg</th>\n",
              "      <td>None</td>\n",
              "      <td>0.696410</td>\n",
              "      <td>0.676291</td>\n",
              "      <td>0.669143</td>\n",
              "      <td>1197.0</td>\n",
              "    </tr>\n",
              "  </tbody>\n",
              "</table>\n",
              "</div>\n",
              "      <button class=\"colab-df-convert\" onclick=\"convertToInteractive('df-44d7bbd2-1d4c-4892-9d7c-fdaf6f122c63')\"\n",
              "              title=\"Convert this dataframe to an interactive table.\"\n",
              "              style=\"display:none;\">\n",
              "        \n",
              "  <svg xmlns=\"http://www.w3.org/2000/svg\" height=\"24px\"viewBox=\"0 0 24 24\"\n",
              "       width=\"24px\">\n",
              "    <path d=\"M0 0h24v24H0V0z\" fill=\"none\"/>\n",
              "    <path d=\"M18.56 5.44l.94 2.06.94-2.06 2.06-.94-2.06-.94-.94-2.06-.94 2.06-2.06.94zm-11 1L8.5 8.5l.94-2.06 2.06-.94-2.06-.94L8.5 2.5l-.94 2.06-2.06.94zm10 10l.94 2.06.94-2.06 2.06-.94-2.06-.94-.94-2.06-.94 2.06-2.06.94z\"/><path d=\"M17.41 7.96l-1.37-1.37c-.4-.4-.92-.59-1.43-.59-.52 0-1.04.2-1.43.59L10.3 9.45l-7.72 7.72c-.78.78-.78 2.05 0 2.83L4 21.41c.39.39.9.59 1.41.59.51 0 1.02-.2 1.41-.59l7.78-7.78 2.81-2.81c.8-.78.8-2.07 0-2.86zM5.41 20L4 18.59l7.72-7.72 1.47 1.35L5.41 20z\"/>\n",
              "  </svg>\n",
              "      </button>\n",
              "      \n",
              "  <style>\n",
              "    .colab-df-container {\n",
              "      display:flex;\n",
              "      flex-wrap:wrap;\n",
              "      gap: 12px;\n",
              "    }\n",
              "\n",
              "    .colab-df-convert {\n",
              "      background-color: #E8F0FE;\n",
              "      border: none;\n",
              "      border-radius: 50%;\n",
              "      cursor: pointer;\n",
              "      display: none;\n",
              "      fill: #1967D2;\n",
              "      height: 32px;\n",
              "      padding: 0 0 0 0;\n",
              "      width: 32px;\n",
              "    }\n",
              "\n",
              "    .colab-df-convert:hover {\n",
              "      background-color: #E2EBFA;\n",
              "      box-shadow: 0px 1px 2px rgba(60, 64, 67, 0.3), 0px 1px 3px 1px rgba(60, 64, 67, 0.15);\n",
              "      fill: #174EA6;\n",
              "    }\n",
              "\n",
              "    [theme=dark] .colab-df-convert {\n",
              "      background-color: #3B4455;\n",
              "      fill: #D2E3FC;\n",
              "    }\n",
              "\n",
              "    [theme=dark] .colab-df-convert:hover {\n",
              "      background-color: #434B5C;\n",
              "      box-shadow: 0px 1px 3px 1px rgba(0, 0, 0, 0.15);\n",
              "      filter: drop-shadow(0px 1px 2px rgba(0, 0, 0, 0.3));\n",
              "      fill: #FFFFFF;\n",
              "    }\n",
              "  </style>\n",
              "\n",
              "      <script>\n",
              "        const buttonEl =\n",
              "          document.querySelector('#df-44d7bbd2-1d4c-4892-9d7c-fdaf6f122c63 button.colab-df-convert');\n",
              "        buttonEl.style.display =\n",
              "          google.colab.kernel.accessAllowed ? 'block' : 'none';\n",
              "\n",
              "        async function convertToInteractive(key) {\n",
              "          const element = document.querySelector('#df-44d7bbd2-1d4c-4892-9d7c-fdaf6f122c63');\n",
              "          const dataTable =\n",
              "            await google.colab.kernel.invokeFunction('convertToInteractive',\n",
              "                                                     [key], {});\n",
              "          if (!dataTable) return;\n",
              "\n",
              "          const docLinkHtml = 'Like what you see? Visit the ' +\n",
              "            '<a target=\"_blank\" href=https://colab.research.google.com/notebooks/data_table.ipynb>data table notebook</a>'\n",
              "            + ' to learn more about interactive tables.';\n",
              "          element.innerHTML = '';\n",
              "          dataTable['output_type'] = 'display_data';\n",
              "          await google.colab.output.renderOutput(dataTable, element);\n",
              "          const docLink = document.createElement('div');\n",
              "          docLink.innerHTML = docLinkHtml;\n",
              "          element.appendChild(docLink);\n",
              "        }\n",
              "      </script>\n",
              "    </div>\n",
              "  </div>\n",
              "  "
            ]
          },
          "metadata": {},
          "execution_count": 49
        }
      ]
    },
    {
      "cell_type": "code",
      "source": [
        "df_report.to_excel('/content/drive/MyDrive/Colab Notebooks/giz/policyData/climatewatch_ndc/CW_sectorClassification_report_27_03.xlsx')    "
      ],
      "metadata": {
        "id": "n7qLjkzrhs_S"
      },
      "execution_count": null,
      "outputs": []
    },
    {
      "cell_type": "markdown",
      "source": [
        "## Prediction on Test (using Pipeline)"
      ],
      "metadata": {
        "id": "CB4a1q9D6tCk"
      }
    },
    {
      "cell_type": "code",
      "source": [
        "test_ds = load_dataset(\"json\", data_files={\"test\": sector_dir + \"test.json\"})"
      ],
      "metadata": {
        "id": "ehic7jaxMxQG"
      },
      "execution_count": null,
      "outputs": []
    },
    {
      "cell_type": "code",
      "source": [
        "from transformers import pipeline\n",
        "model_checkpoint = \"/content/bert-multilabel-sector-classifier_8_cosine_restart\"\n",
        "pipe = pipeline(\"text-classification\", model=model_checkpoint, return_all_scores=True)"
      ],
      "metadata": {
        "id": "yftXqBsWJhmH"
      },
      "execution_count": null,
      "outputs": []
    },
    {
      "cell_type": "code",
      "source": [
        "predictions = pipe(list(test_ds['context']))"
      ],
      "metadata": {
        "id": "7VFATOd7Px_-"
      },
      "execution_count": null,
      "outputs": []
    },
    {
      "cell_type": "code",
      "source": [
        "pred = []\n",
        "for prediction in predictions:\n",
        "    n_classes  = len(prediction)\n",
        "    placeholder = []\n",
        "    for i in range(n_classes):\n",
        "        placeholder.append(prediction[i]['score'])\n",
        "    pred.append(placeholder)\n",
        "pred = np.array(pred)"
      ],
      "metadata": {
        "id": "EcZE9VarQoOz"
      },
      "execution_count": null,
      "outputs": []
    },
    {
      "cell_type": "code",
      "source": [
        "labels = np.array(list(test_ds['sector_label']))"
      ],
      "metadata": {
        "id": "tgPMZVZbU8jQ"
      },
      "execution_count": null,
      "outputs": []
    },
    {
      "cell_type": "code",
      "source": [
        "print(pred.shape)\n",
        "print(labels.shape)"
      ],
      "metadata": {
        "colab": {
          "base_uri": "https://localhost:8080/"
        },
        "id": "jAKK5HDyW1-q",
        "outputId": "f917626c-6815-47d9-dcd0-b3aa7243690f"
      },
      "execution_count": null,
      "outputs": [
        {
          "output_type": "stream",
          "name": "stdout",
          "text": [
            "(1039, 16)\n",
            "(1039, 16)\n"
          ]
        }
      ]
    },
    {
      "cell_type": "code",
      "source": [
        "y_pred = torch.from_numpy(pred)\n",
        "y_true = torch.from_numpy(labels)\n",
        "y_prob = y_pred.sigmoid()\n",
        "thresh = 0.51\n",
        "y_pred = (y_prob>thresh).bool()"
      ],
      "metadata": {
        "id": "ohuDB9uKWJgQ"
      },
      "execution_count": null,
      "outputs": []
    },
    {
      "cell_type": "code",
      "source": [
        "report = skm.classification_report(y_true, y_pred, output_dict=True)\n",
        "df_report = pd.DataFrame(report).transpose()"
      ],
      "metadata": {
        "id": "kEUfSZhvXeJx"
      },
      "execution_count": null,
      "outputs": []
    },
    {
      "cell_type": "code",
      "source": [
        "df_report"
      ],
      "metadata": {
        "colab": {
          "base_uri": "https://localhost:8080/",
          "height": 676
        },
        "id": "tJETrNzjXz4Z",
        "outputId": "5e5468ec-0ef9-4025-c1d7-01d73e8d3100"
      },
      "execution_count": null,
      "outputs": [
        {
          "output_type": "execute_result",
          "data": {
            "text/plain": [
              "              precision    recall  f1-score  support\n",
              "0              0.734266  0.650155  0.689655    323.0\n",
              "1              0.428571  0.333333  0.375000      9.0\n",
              "2              0.530303  0.402299  0.457516     87.0\n",
              "3              0.423077  0.277978  0.335512    277.0\n",
              "4              0.547368  0.412698  0.470588    126.0\n",
              "5              0.336735  0.300000  0.317308    110.0\n",
              "6              0.674242  0.542683  0.601351    164.0\n",
              "7              0.668831  0.425620  0.520202    242.0\n",
              "8              0.797753  0.617391  0.696078    115.0\n",
              "9              0.409091  0.750000  0.529412     12.0\n",
              "10             0.633540  0.490385  0.552846    208.0\n",
              "11             0.424242  0.345679  0.380952     81.0\n",
              "12             0.618421  0.546512  0.580247     86.0\n",
              "13             0.564103  0.411215  0.475676    107.0\n",
              "14             0.633333  0.612903  0.622951     31.0\n",
              "15             0.575342  0.560000  0.567568    150.0\n",
              "micro avg      0.595972  0.472744  0.527254   2128.0\n",
              "macro avg      0.562451  0.479928  0.510804   2128.0\n",
              "weighted avg   0.594485  0.472744  0.524003   2128.0\n",
              "samples avg    0.687369  0.543500  0.562502   2128.0"
            ],
            "text/html": [
              "\n",
              "  <div id=\"df-84bce38f-26a7-4529-b8e1-520fa07ba550\">\n",
              "    <div class=\"colab-df-container\">\n",
              "      <div>\n",
              "<style scoped>\n",
              "    .dataframe tbody tr th:only-of-type {\n",
              "        vertical-align: middle;\n",
              "    }\n",
              "\n",
              "    .dataframe tbody tr th {\n",
              "        vertical-align: top;\n",
              "    }\n",
              "\n",
              "    .dataframe thead th {\n",
              "        text-align: right;\n",
              "    }\n",
              "</style>\n",
              "<table border=\"1\" class=\"dataframe\">\n",
              "  <thead>\n",
              "    <tr style=\"text-align: right;\">\n",
              "      <th></th>\n",
              "      <th>precision</th>\n",
              "      <th>recall</th>\n",
              "      <th>f1-score</th>\n",
              "      <th>support</th>\n",
              "    </tr>\n",
              "  </thead>\n",
              "  <tbody>\n",
              "    <tr>\n",
              "      <th>0</th>\n",
              "      <td>0.734266</td>\n",
              "      <td>0.650155</td>\n",
              "      <td>0.689655</td>\n",
              "      <td>323.0</td>\n",
              "    </tr>\n",
              "    <tr>\n",
              "      <th>1</th>\n",
              "      <td>0.428571</td>\n",
              "      <td>0.333333</td>\n",
              "      <td>0.375000</td>\n",
              "      <td>9.0</td>\n",
              "    </tr>\n",
              "    <tr>\n",
              "      <th>2</th>\n",
              "      <td>0.530303</td>\n",
              "      <td>0.402299</td>\n",
              "      <td>0.457516</td>\n",
              "      <td>87.0</td>\n",
              "    </tr>\n",
              "    <tr>\n",
              "      <th>3</th>\n",
              "      <td>0.423077</td>\n",
              "      <td>0.277978</td>\n",
              "      <td>0.335512</td>\n",
              "      <td>277.0</td>\n",
              "    </tr>\n",
              "    <tr>\n",
              "      <th>4</th>\n",
              "      <td>0.547368</td>\n",
              "      <td>0.412698</td>\n",
              "      <td>0.470588</td>\n",
              "      <td>126.0</td>\n",
              "    </tr>\n",
              "    <tr>\n",
              "      <th>5</th>\n",
              "      <td>0.336735</td>\n",
              "      <td>0.300000</td>\n",
              "      <td>0.317308</td>\n",
              "      <td>110.0</td>\n",
              "    </tr>\n",
              "    <tr>\n",
              "      <th>6</th>\n",
              "      <td>0.674242</td>\n",
              "      <td>0.542683</td>\n",
              "      <td>0.601351</td>\n",
              "      <td>164.0</td>\n",
              "    </tr>\n",
              "    <tr>\n",
              "      <th>7</th>\n",
              "      <td>0.668831</td>\n",
              "      <td>0.425620</td>\n",
              "      <td>0.520202</td>\n",
              "      <td>242.0</td>\n",
              "    </tr>\n",
              "    <tr>\n",
              "      <th>8</th>\n",
              "      <td>0.797753</td>\n",
              "      <td>0.617391</td>\n",
              "      <td>0.696078</td>\n",
              "      <td>115.0</td>\n",
              "    </tr>\n",
              "    <tr>\n",
              "      <th>9</th>\n",
              "      <td>0.409091</td>\n",
              "      <td>0.750000</td>\n",
              "      <td>0.529412</td>\n",
              "      <td>12.0</td>\n",
              "    </tr>\n",
              "    <tr>\n",
              "      <th>10</th>\n",
              "      <td>0.633540</td>\n",
              "      <td>0.490385</td>\n",
              "      <td>0.552846</td>\n",
              "      <td>208.0</td>\n",
              "    </tr>\n",
              "    <tr>\n",
              "      <th>11</th>\n",
              "      <td>0.424242</td>\n",
              "      <td>0.345679</td>\n",
              "      <td>0.380952</td>\n",
              "      <td>81.0</td>\n",
              "    </tr>\n",
              "    <tr>\n",
              "      <th>12</th>\n",
              "      <td>0.618421</td>\n",
              "      <td>0.546512</td>\n",
              "      <td>0.580247</td>\n",
              "      <td>86.0</td>\n",
              "    </tr>\n",
              "    <tr>\n",
              "      <th>13</th>\n",
              "      <td>0.564103</td>\n",
              "      <td>0.411215</td>\n",
              "      <td>0.475676</td>\n",
              "      <td>107.0</td>\n",
              "    </tr>\n",
              "    <tr>\n",
              "      <th>14</th>\n",
              "      <td>0.633333</td>\n",
              "      <td>0.612903</td>\n",
              "      <td>0.622951</td>\n",
              "      <td>31.0</td>\n",
              "    </tr>\n",
              "    <tr>\n",
              "      <th>15</th>\n",
              "      <td>0.575342</td>\n",
              "      <td>0.560000</td>\n",
              "      <td>0.567568</td>\n",
              "      <td>150.0</td>\n",
              "    </tr>\n",
              "    <tr>\n",
              "      <th>micro avg</th>\n",
              "      <td>0.595972</td>\n",
              "      <td>0.472744</td>\n",
              "      <td>0.527254</td>\n",
              "      <td>2128.0</td>\n",
              "    </tr>\n",
              "    <tr>\n",
              "      <th>macro avg</th>\n",
              "      <td>0.562451</td>\n",
              "      <td>0.479928</td>\n",
              "      <td>0.510804</td>\n",
              "      <td>2128.0</td>\n",
              "    </tr>\n",
              "    <tr>\n",
              "      <th>weighted avg</th>\n",
              "      <td>0.594485</td>\n",
              "      <td>0.472744</td>\n",
              "      <td>0.524003</td>\n",
              "      <td>2128.0</td>\n",
              "    </tr>\n",
              "    <tr>\n",
              "      <th>samples avg</th>\n",
              "      <td>0.687369</td>\n",
              "      <td>0.543500</td>\n",
              "      <td>0.562502</td>\n",
              "      <td>2128.0</td>\n",
              "    </tr>\n",
              "  </tbody>\n",
              "</table>\n",
              "</div>\n",
              "      <button class=\"colab-df-convert\" onclick=\"convertToInteractive('df-84bce38f-26a7-4529-b8e1-520fa07ba550')\"\n",
              "              title=\"Convert this dataframe to an interactive table.\"\n",
              "              style=\"display:none;\">\n",
              "        \n",
              "  <svg xmlns=\"http://www.w3.org/2000/svg\" height=\"24px\"viewBox=\"0 0 24 24\"\n",
              "       width=\"24px\">\n",
              "    <path d=\"M0 0h24v24H0V0z\" fill=\"none\"/>\n",
              "    <path d=\"M18.56 5.44l.94 2.06.94-2.06 2.06-.94-2.06-.94-.94-2.06-.94 2.06-2.06.94zm-11 1L8.5 8.5l.94-2.06 2.06-.94-2.06-.94L8.5 2.5l-.94 2.06-2.06.94zm10 10l.94 2.06.94-2.06 2.06-.94-2.06-.94-.94-2.06-.94 2.06-2.06.94z\"/><path d=\"M17.41 7.96l-1.37-1.37c-.4-.4-.92-.59-1.43-.59-.52 0-1.04.2-1.43.59L10.3 9.45l-7.72 7.72c-.78.78-.78 2.05 0 2.83L4 21.41c.39.39.9.59 1.41.59.51 0 1.02-.2 1.41-.59l7.78-7.78 2.81-2.81c.8-.78.8-2.07 0-2.86zM5.41 20L4 18.59l7.72-7.72 1.47 1.35L5.41 20z\"/>\n",
              "  </svg>\n",
              "      </button>\n",
              "      \n",
              "  <style>\n",
              "    .colab-df-container {\n",
              "      display:flex;\n",
              "      flex-wrap:wrap;\n",
              "      gap: 12px;\n",
              "    }\n",
              "\n",
              "    .colab-df-convert {\n",
              "      background-color: #E8F0FE;\n",
              "      border: none;\n",
              "      border-radius: 50%;\n",
              "      cursor: pointer;\n",
              "      display: none;\n",
              "      fill: #1967D2;\n",
              "      height: 32px;\n",
              "      padding: 0 0 0 0;\n",
              "      width: 32px;\n",
              "    }\n",
              "\n",
              "    .colab-df-convert:hover {\n",
              "      background-color: #E2EBFA;\n",
              "      box-shadow: 0px 1px 2px rgba(60, 64, 67, 0.3), 0px 1px 3px 1px rgba(60, 64, 67, 0.15);\n",
              "      fill: #174EA6;\n",
              "    }\n",
              "\n",
              "    [theme=dark] .colab-df-convert {\n",
              "      background-color: #3B4455;\n",
              "      fill: #D2E3FC;\n",
              "    }\n",
              "\n",
              "    [theme=dark] .colab-df-convert:hover {\n",
              "      background-color: #434B5C;\n",
              "      box-shadow: 0px 1px 3px 1px rgba(0, 0, 0, 0.15);\n",
              "      filter: drop-shadow(0px 1px 2px rgba(0, 0, 0, 0.3));\n",
              "      fill: #FFFFFF;\n",
              "    }\n",
              "  </style>\n",
              "\n",
              "      <script>\n",
              "        const buttonEl =\n",
              "          document.querySelector('#df-84bce38f-26a7-4529-b8e1-520fa07ba550 button.colab-df-convert');\n",
              "        buttonEl.style.display =\n",
              "          google.colab.kernel.accessAllowed ? 'block' : 'none';\n",
              "\n",
              "        async function convertToInteractive(key) {\n",
              "          const element = document.querySelector('#df-84bce38f-26a7-4529-b8e1-520fa07ba550');\n",
              "          const dataTable =\n",
              "            await google.colab.kernel.invokeFunction('convertToInteractive',\n",
              "                                                     [key], {});\n",
              "          if (!dataTable) return;\n",
              "\n",
              "          const docLinkHtml = 'Like what you see? Visit the ' +\n",
              "            '<a target=\"_blank\" href=https://colab.research.google.com/notebooks/data_table.ipynb>data table notebook</a>'\n",
              "            + ' to learn more about interactive tables.';\n",
              "          element.innerHTML = '';\n",
              "          dataTable['output_type'] = 'display_data';\n",
              "          await google.colab.output.renderOutput(dataTable, element);\n",
              "          const docLink = document.createElement('div');\n",
              "          docLink.innerHTML = docLinkHtml;\n",
              "          element.appendChild(docLink);\n",
              "        }\n",
              "      </script>\n",
              "    </div>\n",
              "  </div>\n",
              "  "
            ]
          },
          "metadata": {},
          "execution_count": 60
        }
      ]
    },
    {
      "cell_type": "markdown",
      "source": [
        "# Codecarbon\n",
        "*  https://huggingface.co/docs/hub/model-cards-co2\n",
        "*  https://mlco2.github.io/codecarbon/usage.html#"
      ],
      "metadata": {
        "id": "chHMk0cJjvwy"
      }
    },
    {
      "cell_type": "code",
      "source": [
        "from codecarbon import EmissionsTracker\n",
        "\n",
        "tracker = EmissionsTracker()\n",
        "tracker.start()\n",
        "\n",
        "tracker.stop()"
      ],
      "metadata": {
        "id": "CtBldJQji3i6"
      },
      "execution_count": null,
      "outputs": []
    },
    {
      "cell_type": "code",
      "source": [],
      "metadata": {
        "id": "tQuRlT7pi4nq"
      },
      "execution_count": null,
      "outputs": []
    },
    {
      "cell_type": "code",
      "source": [
        "# pred,labels,_ = predictions\n",
        "# y_pred = torch.from_numpy(pred)\n",
        "# y_true = torch.from_numpy(labels)\n",
        "# y_pred = y_pred.sigmoid()\n",
        "# thresh = 0.5\n",
        "# y_pred = (y_pred>thresh).bool()\n",
        "\n",
        "# y_pred = y_pred.tolist()\n",
        "# df_val['pred'] = y_pred\n",
        "# df_val['pred_sectors'] = df_val.apply(lambda x: list(np.array(sectors)[x['pred']]), axis =1)"
      ],
      "metadata": {
        "id": "oEhWvHQPSUaR"
      },
      "execution_count": null,
      "outputs": []
    },
    {
      "cell_type": "code",
      "source": [
        "# df = pd.read_json(sector_dir + \"train_val_1.json\")\n",
        "# df = df.rename(column = {'sector_label','labels', 'context':'text'})\n",
        "# # dataset = load_dataset(\"json\", data_files={\"train\": sector_dir + \"train_val_1.json\"})\n",
        "# dataset = dataset.shuffle(seed=7)\n",
        "# dataset = dataset['train'].rename_column(\"sector_label\", \"labels\")\n",
        "# dataset = dataset.rename_column(\"context\", \"text\")\n",
        "# dataset = dataset.train_test_split(test_size =0.10)"
      ],
      "metadata": {
        "id": "1xwT82WMwF5c"
      },
      "execution_count": null,
      "outputs": []
    }
  ],
  "metadata": {
    "colab": {
      "provenance": [],
      "collapsed_sections": [
        "3QBcXQNP-yke",
        "vqd8emxCkyQq",
        "N3wmEwhVCaf4",
        "8bo9yTYw7tWp",
        "soplc9WJx3nx",
        "5X_W-4po183u"
      ],
      "machine_shape": "hm",
      "toc_visible": true,
      "include_colab_link": true
    },
    "kernelspec": {
      "display_name": "Python 3",
      "name": "python3"
    },
    "language_info": {
      "name": "python"
    },
    "widgets": {
      "application/vnd.jupyter.widget-state+json": {
        "24a51921dfe444f1a17b5b54089065ba": {
          "model_module": "@jupyter-widgets/controls",
          "model_name": "HBoxModel",
          "model_module_version": "1.5.0",
          "state": {
            "_dom_classes": [],
            "_model_module": "@jupyter-widgets/controls",
            "_model_module_version": "1.5.0",
            "_model_name": "HBoxModel",
            "_view_count": null,
            "_view_module": "@jupyter-widgets/controls",
            "_view_module_version": "1.5.0",
            "_view_name": "HBoxView",
            "box_style": "",
            "children": [
              "IPY_MODEL_ce00080b5f994ba28723f215b31e1266",
              "IPY_MODEL_586ce89e5b294eb6b0c763be37443772",
              "IPY_MODEL_3467fc412e074b1896c2971b3927a3be"
            ],
            "layout": "IPY_MODEL_f94bd43d5de54131a0754d604285b1b0"
          }
        },
        "ce00080b5f994ba28723f215b31e1266": {
          "model_module": "@jupyter-widgets/controls",
          "model_name": "HTMLModel",
          "model_module_version": "1.5.0",
          "state": {
            "_dom_classes": [],
            "_model_module": "@jupyter-widgets/controls",
            "_model_module_version": "1.5.0",
            "_model_name": "HTMLModel",
            "_view_count": null,
            "_view_module": "@jupyter-widgets/controls",
            "_view_module_version": "1.5.0",
            "_view_name": "HTMLView",
            "description": "",
            "description_tooltip": null,
            "layout": "IPY_MODEL_0e2369e2a0b14dce9fdc86bf3c43ac13",
            "placeholder": "​",
            "style": "IPY_MODEL_b490224a88dd4596af78d563fd64e3eb",
            "value": "Map:  99%"
          }
        },
        "586ce89e5b294eb6b0c763be37443772": {
          "model_module": "@jupyter-widgets/controls",
          "model_name": "FloatProgressModel",
          "model_module_version": "1.5.0",
          "state": {
            "_dom_classes": [],
            "_model_module": "@jupyter-widgets/controls",
            "_model_module_version": "1.5.0",
            "_model_name": "FloatProgressModel",
            "_view_count": null,
            "_view_module": "@jupyter-widgets/controls",
            "_view_module_version": "1.5.0",
            "_view_name": "ProgressView",
            "bar_style": "",
            "description": "",
            "description_tooltip": null,
            "layout": "IPY_MODEL_eb8da3a52fc04c5198221adffb821471",
            "max": 12122,
            "min": 0,
            "orientation": "horizontal",
            "style": "IPY_MODEL_0ba3b15c410a4d30a504465e18e4c6ae",
            "value": 12122
          }
        },
        "3467fc412e074b1896c2971b3927a3be": {
          "model_module": "@jupyter-widgets/controls",
          "model_name": "HTMLModel",
          "model_module_version": "1.5.0",
          "state": {
            "_dom_classes": [],
            "_model_module": "@jupyter-widgets/controls",
            "_model_module_version": "1.5.0",
            "_model_name": "HTMLModel",
            "_view_count": null,
            "_view_module": "@jupyter-widgets/controls",
            "_view_module_version": "1.5.0",
            "_view_name": "HTMLView",
            "description": "",
            "description_tooltip": null,
            "layout": "IPY_MODEL_9e1956b5beeb418297bf061bf3827406",
            "placeholder": "​",
            "style": "IPY_MODEL_1ff8ec46e6a8434c8e5c2bf855778942",
            "value": " 12000/12122 [00:04&lt;00:00, 2749.12 examples/s]"
          }
        },
        "f94bd43d5de54131a0754d604285b1b0": {
          "model_module": "@jupyter-widgets/base",
          "model_name": "LayoutModel",
          "model_module_version": "1.2.0",
          "state": {
            "_model_module": "@jupyter-widgets/base",
            "_model_module_version": "1.2.0",
            "_model_name": "LayoutModel",
            "_view_count": null,
            "_view_module": "@jupyter-widgets/base",
            "_view_module_version": "1.2.0",
            "_view_name": "LayoutView",
            "align_content": null,
            "align_items": null,
            "align_self": null,
            "border": null,
            "bottom": null,
            "display": null,
            "flex": null,
            "flex_flow": null,
            "grid_area": null,
            "grid_auto_columns": null,
            "grid_auto_flow": null,
            "grid_auto_rows": null,
            "grid_column": null,
            "grid_gap": null,
            "grid_row": null,
            "grid_template_areas": null,
            "grid_template_columns": null,
            "grid_template_rows": null,
            "height": null,
            "justify_content": null,
            "justify_items": null,
            "left": null,
            "margin": null,
            "max_height": null,
            "max_width": null,
            "min_height": null,
            "min_width": null,
            "object_fit": null,
            "object_position": null,
            "order": null,
            "overflow": null,
            "overflow_x": null,
            "overflow_y": null,
            "padding": null,
            "right": null,
            "top": null,
            "visibility": "hidden",
            "width": null
          }
        },
        "0e2369e2a0b14dce9fdc86bf3c43ac13": {
          "model_module": "@jupyter-widgets/base",
          "model_name": "LayoutModel",
          "model_module_version": "1.2.0",
          "state": {
            "_model_module": "@jupyter-widgets/base",
            "_model_module_version": "1.2.0",
            "_model_name": "LayoutModel",
            "_view_count": null,
            "_view_module": "@jupyter-widgets/base",
            "_view_module_version": "1.2.0",
            "_view_name": "LayoutView",
            "align_content": null,
            "align_items": null,
            "align_self": null,
            "border": null,
            "bottom": null,
            "display": null,
            "flex": null,
            "flex_flow": null,
            "grid_area": null,
            "grid_auto_columns": null,
            "grid_auto_flow": null,
            "grid_auto_rows": null,
            "grid_column": null,
            "grid_gap": null,
            "grid_row": null,
            "grid_template_areas": null,
            "grid_template_columns": null,
            "grid_template_rows": null,
            "height": null,
            "justify_content": null,
            "justify_items": null,
            "left": null,
            "margin": null,
            "max_height": null,
            "max_width": null,
            "min_height": null,
            "min_width": null,
            "object_fit": null,
            "object_position": null,
            "order": null,
            "overflow": null,
            "overflow_x": null,
            "overflow_y": null,
            "padding": null,
            "right": null,
            "top": null,
            "visibility": null,
            "width": null
          }
        },
        "b490224a88dd4596af78d563fd64e3eb": {
          "model_module": "@jupyter-widgets/controls",
          "model_name": "DescriptionStyleModel",
          "model_module_version": "1.5.0",
          "state": {
            "_model_module": "@jupyter-widgets/controls",
            "_model_module_version": "1.5.0",
            "_model_name": "DescriptionStyleModel",
            "_view_count": null,
            "_view_module": "@jupyter-widgets/base",
            "_view_module_version": "1.2.0",
            "_view_name": "StyleView",
            "description_width": ""
          }
        },
        "eb8da3a52fc04c5198221adffb821471": {
          "model_module": "@jupyter-widgets/base",
          "model_name": "LayoutModel",
          "model_module_version": "1.2.0",
          "state": {
            "_model_module": "@jupyter-widgets/base",
            "_model_module_version": "1.2.0",
            "_model_name": "LayoutModel",
            "_view_count": null,
            "_view_module": "@jupyter-widgets/base",
            "_view_module_version": "1.2.0",
            "_view_name": "LayoutView",
            "align_content": null,
            "align_items": null,
            "align_self": null,
            "border": null,
            "bottom": null,
            "display": null,
            "flex": null,
            "flex_flow": null,
            "grid_area": null,
            "grid_auto_columns": null,
            "grid_auto_flow": null,
            "grid_auto_rows": null,
            "grid_column": null,
            "grid_gap": null,
            "grid_row": null,
            "grid_template_areas": null,
            "grid_template_columns": null,
            "grid_template_rows": null,
            "height": null,
            "justify_content": null,
            "justify_items": null,
            "left": null,
            "margin": null,
            "max_height": null,
            "max_width": null,
            "min_height": null,
            "min_width": null,
            "object_fit": null,
            "object_position": null,
            "order": null,
            "overflow": null,
            "overflow_x": null,
            "overflow_y": null,
            "padding": null,
            "right": null,
            "top": null,
            "visibility": null,
            "width": null
          }
        },
        "0ba3b15c410a4d30a504465e18e4c6ae": {
          "model_module": "@jupyter-widgets/controls",
          "model_name": "ProgressStyleModel",
          "model_module_version": "1.5.0",
          "state": {
            "_model_module": "@jupyter-widgets/controls",
            "_model_module_version": "1.5.0",
            "_model_name": "ProgressStyleModel",
            "_view_count": null,
            "_view_module": "@jupyter-widgets/base",
            "_view_module_version": "1.2.0",
            "_view_name": "StyleView",
            "bar_color": null,
            "description_width": ""
          }
        },
        "9e1956b5beeb418297bf061bf3827406": {
          "model_module": "@jupyter-widgets/base",
          "model_name": "LayoutModel",
          "model_module_version": "1.2.0",
          "state": {
            "_model_module": "@jupyter-widgets/base",
            "_model_module_version": "1.2.0",
            "_model_name": "LayoutModel",
            "_view_count": null,
            "_view_module": "@jupyter-widgets/base",
            "_view_module_version": "1.2.0",
            "_view_name": "LayoutView",
            "align_content": null,
            "align_items": null,
            "align_self": null,
            "border": null,
            "bottom": null,
            "display": null,
            "flex": null,
            "flex_flow": null,
            "grid_area": null,
            "grid_auto_columns": null,
            "grid_auto_flow": null,
            "grid_auto_rows": null,
            "grid_column": null,
            "grid_gap": null,
            "grid_row": null,
            "grid_template_areas": null,
            "grid_template_columns": null,
            "grid_template_rows": null,
            "height": null,
            "justify_content": null,
            "justify_items": null,
            "left": null,
            "margin": null,
            "max_height": null,
            "max_width": null,
            "min_height": null,
            "min_width": null,
            "object_fit": null,
            "object_position": null,
            "order": null,
            "overflow": null,
            "overflow_x": null,
            "overflow_y": null,
            "padding": null,
            "right": null,
            "top": null,
            "visibility": null,
            "width": null
          }
        },
        "1ff8ec46e6a8434c8e5c2bf855778942": {
          "model_module": "@jupyter-widgets/controls",
          "model_name": "DescriptionStyleModel",
          "model_module_version": "1.5.0",
          "state": {
            "_model_module": "@jupyter-widgets/controls",
            "_model_module_version": "1.5.0",
            "_model_name": "DescriptionStyleModel",
            "_view_count": null,
            "_view_module": "@jupyter-widgets/base",
            "_view_module_version": "1.2.0",
            "_view_name": "StyleView",
            "description_width": ""
          }
        },
        "468c9e6e05ec41eabaa94d0049be1a44": {
          "model_module": "@jupyter-widgets/controls",
          "model_name": "HBoxModel",
          "model_module_version": "1.5.0",
          "state": {
            "_dom_classes": [],
            "_model_module": "@jupyter-widgets/controls",
            "_model_module_version": "1.5.0",
            "_model_name": "HBoxModel",
            "_view_count": null,
            "_view_module": "@jupyter-widgets/controls",
            "_view_module_version": "1.5.0",
            "_view_name": "HBoxView",
            "box_style": "",
            "children": [
              "IPY_MODEL_406d0e9f5ca94191a3f33345a08750dd",
              "IPY_MODEL_cf087edd76094ce3bf303250cacad5b1",
              "IPY_MODEL_9f2587c96fd446a1aaa03df50708b49c"
            ],
            "layout": "IPY_MODEL_da4cded921444679b3345c1f6d71fc41"
          }
        },
        "406d0e9f5ca94191a3f33345a08750dd": {
          "model_module": "@jupyter-widgets/controls",
          "model_name": "HTMLModel",
          "model_module_version": "1.5.0",
          "state": {
            "_dom_classes": [],
            "_model_module": "@jupyter-widgets/controls",
            "_model_module_version": "1.5.0",
            "_model_name": "HTMLModel",
            "_view_count": null,
            "_view_module": "@jupyter-widgets/controls",
            "_view_module_version": "1.5.0",
            "_view_name": "HTMLView",
            "description": "",
            "description_tooltip": null,
            "layout": "IPY_MODEL_5d1f78bf71bc4d58a3e8d013d2336b3c",
            "placeholder": "​",
            "style": "IPY_MODEL_947b52b94ffe420e949a3ccec2a2c22f",
            "value": "Map: 100%"
          }
        },
        "cf087edd76094ce3bf303250cacad5b1": {
          "model_module": "@jupyter-widgets/controls",
          "model_name": "FloatProgressModel",
          "model_module_version": "1.5.0",
          "state": {
            "_dom_classes": [],
            "_model_module": "@jupyter-widgets/controls",
            "_model_module_version": "1.5.0",
            "_model_name": "FloatProgressModel",
            "_view_count": null,
            "_view_module": "@jupyter-widgets/controls",
            "_view_module_version": "1.5.0",
            "_view_name": "ProgressView",
            "bar_style": "",
            "description": "",
            "description_tooltip": null,
            "layout": "IPY_MODEL_a76557a3c33a4688aa4b8c802f901176",
            "max": 606,
            "min": 0,
            "orientation": "horizontal",
            "style": "IPY_MODEL_ddd7a3d2072b45fbab0ca94f1bc390ac",
            "value": 606
          }
        },
        "9f2587c96fd446a1aaa03df50708b49c": {
          "model_module": "@jupyter-widgets/controls",
          "model_name": "HTMLModel",
          "model_module_version": "1.5.0",
          "state": {
            "_dom_classes": [],
            "_model_module": "@jupyter-widgets/controls",
            "_model_module_version": "1.5.0",
            "_model_name": "HTMLModel",
            "_view_count": null,
            "_view_module": "@jupyter-widgets/controls",
            "_view_module_version": "1.5.0",
            "_view_name": "HTMLView",
            "description": "",
            "description_tooltip": null,
            "layout": "IPY_MODEL_cbd4f6a28fdc483e951d15cf33cdf1d8",
            "placeholder": "​",
            "style": "IPY_MODEL_38fd9f2e37ef4816a249e59c3faba936",
            "value": " 606/606 [00:00&lt;00:00, 2492.23 examples/s]"
          }
        },
        "da4cded921444679b3345c1f6d71fc41": {
          "model_module": "@jupyter-widgets/base",
          "model_name": "LayoutModel",
          "model_module_version": "1.2.0",
          "state": {
            "_model_module": "@jupyter-widgets/base",
            "_model_module_version": "1.2.0",
            "_model_name": "LayoutModel",
            "_view_count": null,
            "_view_module": "@jupyter-widgets/base",
            "_view_module_version": "1.2.0",
            "_view_name": "LayoutView",
            "align_content": null,
            "align_items": null,
            "align_self": null,
            "border": null,
            "bottom": null,
            "display": null,
            "flex": null,
            "flex_flow": null,
            "grid_area": null,
            "grid_auto_columns": null,
            "grid_auto_flow": null,
            "grid_auto_rows": null,
            "grid_column": null,
            "grid_gap": null,
            "grid_row": null,
            "grid_template_areas": null,
            "grid_template_columns": null,
            "grid_template_rows": null,
            "height": null,
            "justify_content": null,
            "justify_items": null,
            "left": null,
            "margin": null,
            "max_height": null,
            "max_width": null,
            "min_height": null,
            "min_width": null,
            "object_fit": null,
            "object_position": null,
            "order": null,
            "overflow": null,
            "overflow_x": null,
            "overflow_y": null,
            "padding": null,
            "right": null,
            "top": null,
            "visibility": "hidden",
            "width": null
          }
        },
        "5d1f78bf71bc4d58a3e8d013d2336b3c": {
          "model_module": "@jupyter-widgets/base",
          "model_name": "LayoutModel",
          "model_module_version": "1.2.0",
          "state": {
            "_model_module": "@jupyter-widgets/base",
            "_model_module_version": "1.2.0",
            "_model_name": "LayoutModel",
            "_view_count": null,
            "_view_module": "@jupyter-widgets/base",
            "_view_module_version": "1.2.0",
            "_view_name": "LayoutView",
            "align_content": null,
            "align_items": null,
            "align_self": null,
            "border": null,
            "bottom": null,
            "display": null,
            "flex": null,
            "flex_flow": null,
            "grid_area": null,
            "grid_auto_columns": null,
            "grid_auto_flow": null,
            "grid_auto_rows": null,
            "grid_column": null,
            "grid_gap": null,
            "grid_row": null,
            "grid_template_areas": null,
            "grid_template_columns": null,
            "grid_template_rows": null,
            "height": null,
            "justify_content": null,
            "justify_items": null,
            "left": null,
            "margin": null,
            "max_height": null,
            "max_width": null,
            "min_height": null,
            "min_width": null,
            "object_fit": null,
            "object_position": null,
            "order": null,
            "overflow": null,
            "overflow_x": null,
            "overflow_y": null,
            "padding": null,
            "right": null,
            "top": null,
            "visibility": null,
            "width": null
          }
        },
        "947b52b94ffe420e949a3ccec2a2c22f": {
          "model_module": "@jupyter-widgets/controls",
          "model_name": "DescriptionStyleModel",
          "model_module_version": "1.5.0",
          "state": {
            "_model_module": "@jupyter-widgets/controls",
            "_model_module_version": "1.5.0",
            "_model_name": "DescriptionStyleModel",
            "_view_count": null,
            "_view_module": "@jupyter-widgets/base",
            "_view_module_version": "1.2.0",
            "_view_name": "StyleView",
            "description_width": ""
          }
        },
        "a76557a3c33a4688aa4b8c802f901176": {
          "model_module": "@jupyter-widgets/base",
          "model_name": "LayoutModel",
          "model_module_version": "1.2.0",
          "state": {
            "_model_module": "@jupyter-widgets/base",
            "_model_module_version": "1.2.0",
            "_model_name": "LayoutModel",
            "_view_count": null,
            "_view_module": "@jupyter-widgets/base",
            "_view_module_version": "1.2.0",
            "_view_name": "LayoutView",
            "align_content": null,
            "align_items": null,
            "align_self": null,
            "border": null,
            "bottom": null,
            "display": null,
            "flex": null,
            "flex_flow": null,
            "grid_area": null,
            "grid_auto_columns": null,
            "grid_auto_flow": null,
            "grid_auto_rows": null,
            "grid_column": null,
            "grid_gap": null,
            "grid_row": null,
            "grid_template_areas": null,
            "grid_template_columns": null,
            "grid_template_rows": null,
            "height": null,
            "justify_content": null,
            "justify_items": null,
            "left": null,
            "margin": null,
            "max_height": null,
            "max_width": null,
            "min_height": null,
            "min_width": null,
            "object_fit": null,
            "object_position": null,
            "order": null,
            "overflow": null,
            "overflow_x": null,
            "overflow_y": null,
            "padding": null,
            "right": null,
            "top": null,
            "visibility": null,
            "width": null
          }
        },
        "ddd7a3d2072b45fbab0ca94f1bc390ac": {
          "model_module": "@jupyter-widgets/controls",
          "model_name": "ProgressStyleModel",
          "model_module_version": "1.5.0",
          "state": {
            "_model_module": "@jupyter-widgets/controls",
            "_model_module_version": "1.5.0",
            "_model_name": "ProgressStyleModel",
            "_view_count": null,
            "_view_module": "@jupyter-widgets/base",
            "_view_module_version": "1.2.0",
            "_view_name": "StyleView",
            "bar_color": null,
            "description_width": ""
          }
        },
        "cbd4f6a28fdc483e951d15cf33cdf1d8": {
          "model_module": "@jupyter-widgets/base",
          "model_name": "LayoutModel",
          "model_module_version": "1.2.0",
          "state": {
            "_model_module": "@jupyter-widgets/base",
            "_model_module_version": "1.2.0",
            "_model_name": "LayoutModel",
            "_view_count": null,
            "_view_module": "@jupyter-widgets/base",
            "_view_module_version": "1.2.0",
            "_view_name": "LayoutView",
            "align_content": null,
            "align_items": null,
            "align_self": null,
            "border": null,
            "bottom": null,
            "display": null,
            "flex": null,
            "flex_flow": null,
            "grid_area": null,
            "grid_auto_columns": null,
            "grid_auto_flow": null,
            "grid_auto_rows": null,
            "grid_column": null,
            "grid_gap": null,
            "grid_row": null,
            "grid_template_areas": null,
            "grid_template_columns": null,
            "grid_template_rows": null,
            "height": null,
            "justify_content": null,
            "justify_items": null,
            "left": null,
            "margin": null,
            "max_height": null,
            "max_width": null,
            "min_height": null,
            "min_width": null,
            "object_fit": null,
            "object_position": null,
            "order": null,
            "overflow": null,
            "overflow_x": null,
            "overflow_y": null,
            "padding": null,
            "right": null,
            "top": null,
            "visibility": null,
            "width": null
          }
        },
        "38fd9f2e37ef4816a249e59c3faba936": {
          "model_module": "@jupyter-widgets/controls",
          "model_name": "DescriptionStyleModel",
          "model_module_version": "1.5.0",
          "state": {
            "_model_module": "@jupyter-widgets/controls",
            "_model_module_version": "1.5.0",
            "_model_name": "DescriptionStyleModel",
            "_view_count": null,
            "_view_module": "@jupyter-widgets/base",
            "_view_module_version": "1.2.0",
            "_view_name": "StyleView",
            "description_width": ""
          }
        },
        "17a19cb157d14f789d3c01a26eac23ec": {
          "model_module": "@jupyter-widgets/controls",
          "model_name": "HBoxModel",
          "model_module_version": "1.5.0",
          "state": {
            "_dom_classes": [],
            "_model_module": "@jupyter-widgets/controls",
            "_model_module_version": "1.5.0",
            "_model_name": "HBoxModel",
            "_view_count": null,
            "_view_module": "@jupyter-widgets/controls",
            "_view_module_version": "1.5.0",
            "_view_name": "HBoxView",
            "box_style": "",
            "children": [
              "IPY_MODEL_a44dfd5edcb44df89f0054d16d5378e1",
              "IPY_MODEL_5f0cd734e53f48619b099023ea0d878a",
              "IPY_MODEL_475078c0208b4bfabc54e6eafb397ac2"
            ],
            "layout": "IPY_MODEL_16cad8027293430f8956135b02df315b"
          }
        },
        "a44dfd5edcb44df89f0054d16d5378e1": {
          "model_module": "@jupyter-widgets/controls",
          "model_name": "HTMLModel",
          "model_module_version": "1.5.0",
          "state": {
            "_dom_classes": [],
            "_model_module": "@jupyter-widgets/controls",
            "_model_module_version": "1.5.0",
            "_model_name": "HTMLModel",
            "_view_count": null,
            "_view_module": "@jupyter-widgets/controls",
            "_view_module_version": "1.5.0",
            "_view_name": "HTMLView",
            "description": "",
            "description_tooltip": null,
            "layout": "IPY_MODEL_b429fec0bf754be3b473713970d2d99b",
            "placeholder": "​",
            "style": "IPY_MODEL_8cf29b81de764932b995210f6a5b340b",
            "value": "Map:  99%"
          }
        },
        "5f0cd734e53f48619b099023ea0d878a": {
          "model_module": "@jupyter-widgets/controls",
          "model_name": "FloatProgressModel",
          "model_module_version": "1.5.0",
          "state": {
            "_dom_classes": [],
            "_model_module": "@jupyter-widgets/controls",
            "_model_module_version": "1.5.0",
            "_model_name": "FloatProgressModel",
            "_view_count": null,
            "_view_module": "@jupyter-widgets/controls",
            "_view_module_version": "1.5.0",
            "_view_name": "ProgressView",
            "bar_style": "",
            "description": "",
            "description_tooltip": null,
            "layout": "IPY_MODEL_08d0b5730b5b4dd09a8cae747a4ddcac",
            "max": 12122,
            "min": 0,
            "orientation": "horizontal",
            "style": "IPY_MODEL_d6d4fa5ada394384a99b0a80ef557704",
            "value": 12122
          }
        },
        "475078c0208b4bfabc54e6eafb397ac2": {
          "model_module": "@jupyter-widgets/controls",
          "model_name": "HTMLModel",
          "model_module_version": "1.5.0",
          "state": {
            "_dom_classes": [],
            "_model_module": "@jupyter-widgets/controls",
            "_model_module_version": "1.5.0",
            "_model_name": "HTMLModel",
            "_view_count": null,
            "_view_module": "@jupyter-widgets/controls",
            "_view_module_version": "1.5.0",
            "_view_name": "HTMLView",
            "description": "",
            "description_tooltip": null,
            "layout": "IPY_MODEL_677a1e844dae47a1bb33687e0b09b2d3",
            "placeholder": "​",
            "style": "IPY_MODEL_71038d33de794be09d7765229dd4e87c",
            "value": " 12000/12122 [00:04&lt;00:00, 2034.10 examples/s]"
          }
        },
        "16cad8027293430f8956135b02df315b": {
          "model_module": "@jupyter-widgets/base",
          "model_name": "LayoutModel",
          "model_module_version": "1.2.0",
          "state": {
            "_model_module": "@jupyter-widgets/base",
            "_model_module_version": "1.2.0",
            "_model_name": "LayoutModel",
            "_view_count": null,
            "_view_module": "@jupyter-widgets/base",
            "_view_module_version": "1.2.0",
            "_view_name": "LayoutView",
            "align_content": null,
            "align_items": null,
            "align_self": null,
            "border": null,
            "bottom": null,
            "display": null,
            "flex": null,
            "flex_flow": null,
            "grid_area": null,
            "grid_auto_columns": null,
            "grid_auto_flow": null,
            "grid_auto_rows": null,
            "grid_column": null,
            "grid_gap": null,
            "grid_row": null,
            "grid_template_areas": null,
            "grid_template_columns": null,
            "grid_template_rows": null,
            "height": null,
            "justify_content": null,
            "justify_items": null,
            "left": null,
            "margin": null,
            "max_height": null,
            "max_width": null,
            "min_height": null,
            "min_width": null,
            "object_fit": null,
            "object_position": null,
            "order": null,
            "overflow": null,
            "overflow_x": null,
            "overflow_y": null,
            "padding": null,
            "right": null,
            "top": null,
            "visibility": "hidden",
            "width": null
          }
        },
        "b429fec0bf754be3b473713970d2d99b": {
          "model_module": "@jupyter-widgets/base",
          "model_name": "LayoutModel",
          "model_module_version": "1.2.0",
          "state": {
            "_model_module": "@jupyter-widgets/base",
            "_model_module_version": "1.2.0",
            "_model_name": "LayoutModel",
            "_view_count": null,
            "_view_module": "@jupyter-widgets/base",
            "_view_module_version": "1.2.0",
            "_view_name": "LayoutView",
            "align_content": null,
            "align_items": null,
            "align_self": null,
            "border": null,
            "bottom": null,
            "display": null,
            "flex": null,
            "flex_flow": null,
            "grid_area": null,
            "grid_auto_columns": null,
            "grid_auto_flow": null,
            "grid_auto_rows": null,
            "grid_column": null,
            "grid_gap": null,
            "grid_row": null,
            "grid_template_areas": null,
            "grid_template_columns": null,
            "grid_template_rows": null,
            "height": null,
            "justify_content": null,
            "justify_items": null,
            "left": null,
            "margin": null,
            "max_height": null,
            "max_width": null,
            "min_height": null,
            "min_width": null,
            "object_fit": null,
            "object_position": null,
            "order": null,
            "overflow": null,
            "overflow_x": null,
            "overflow_y": null,
            "padding": null,
            "right": null,
            "top": null,
            "visibility": null,
            "width": null
          }
        },
        "8cf29b81de764932b995210f6a5b340b": {
          "model_module": "@jupyter-widgets/controls",
          "model_name": "DescriptionStyleModel",
          "model_module_version": "1.5.0",
          "state": {
            "_model_module": "@jupyter-widgets/controls",
            "_model_module_version": "1.5.0",
            "_model_name": "DescriptionStyleModel",
            "_view_count": null,
            "_view_module": "@jupyter-widgets/base",
            "_view_module_version": "1.2.0",
            "_view_name": "StyleView",
            "description_width": ""
          }
        },
        "08d0b5730b5b4dd09a8cae747a4ddcac": {
          "model_module": "@jupyter-widgets/base",
          "model_name": "LayoutModel",
          "model_module_version": "1.2.0",
          "state": {
            "_model_module": "@jupyter-widgets/base",
            "_model_module_version": "1.2.0",
            "_model_name": "LayoutModel",
            "_view_count": null,
            "_view_module": "@jupyter-widgets/base",
            "_view_module_version": "1.2.0",
            "_view_name": "LayoutView",
            "align_content": null,
            "align_items": null,
            "align_self": null,
            "border": null,
            "bottom": null,
            "display": null,
            "flex": null,
            "flex_flow": null,
            "grid_area": null,
            "grid_auto_columns": null,
            "grid_auto_flow": null,
            "grid_auto_rows": null,
            "grid_column": null,
            "grid_gap": null,
            "grid_row": null,
            "grid_template_areas": null,
            "grid_template_columns": null,
            "grid_template_rows": null,
            "height": null,
            "justify_content": null,
            "justify_items": null,
            "left": null,
            "margin": null,
            "max_height": null,
            "max_width": null,
            "min_height": null,
            "min_width": null,
            "object_fit": null,
            "object_position": null,
            "order": null,
            "overflow": null,
            "overflow_x": null,
            "overflow_y": null,
            "padding": null,
            "right": null,
            "top": null,
            "visibility": null,
            "width": null
          }
        },
        "d6d4fa5ada394384a99b0a80ef557704": {
          "model_module": "@jupyter-widgets/controls",
          "model_name": "ProgressStyleModel",
          "model_module_version": "1.5.0",
          "state": {
            "_model_module": "@jupyter-widgets/controls",
            "_model_module_version": "1.5.0",
            "_model_name": "ProgressStyleModel",
            "_view_count": null,
            "_view_module": "@jupyter-widgets/base",
            "_view_module_version": "1.2.0",
            "_view_name": "StyleView",
            "bar_color": null,
            "description_width": ""
          }
        },
        "677a1e844dae47a1bb33687e0b09b2d3": {
          "model_module": "@jupyter-widgets/base",
          "model_name": "LayoutModel",
          "model_module_version": "1.2.0",
          "state": {
            "_model_module": "@jupyter-widgets/base",
            "_model_module_version": "1.2.0",
            "_model_name": "LayoutModel",
            "_view_count": null,
            "_view_module": "@jupyter-widgets/base",
            "_view_module_version": "1.2.0",
            "_view_name": "LayoutView",
            "align_content": null,
            "align_items": null,
            "align_self": null,
            "border": null,
            "bottom": null,
            "display": null,
            "flex": null,
            "flex_flow": null,
            "grid_area": null,
            "grid_auto_columns": null,
            "grid_auto_flow": null,
            "grid_auto_rows": null,
            "grid_column": null,
            "grid_gap": null,
            "grid_row": null,
            "grid_template_areas": null,
            "grid_template_columns": null,
            "grid_template_rows": null,
            "height": null,
            "justify_content": null,
            "justify_items": null,
            "left": null,
            "margin": null,
            "max_height": null,
            "max_width": null,
            "min_height": null,
            "min_width": null,
            "object_fit": null,
            "object_position": null,
            "order": null,
            "overflow": null,
            "overflow_x": null,
            "overflow_y": null,
            "padding": null,
            "right": null,
            "top": null,
            "visibility": null,
            "width": null
          }
        },
        "71038d33de794be09d7765229dd4e87c": {
          "model_module": "@jupyter-widgets/controls",
          "model_name": "DescriptionStyleModel",
          "model_module_version": "1.5.0",
          "state": {
            "_model_module": "@jupyter-widgets/controls",
            "_model_module_version": "1.5.0",
            "_model_name": "DescriptionStyleModel",
            "_view_count": null,
            "_view_module": "@jupyter-widgets/base",
            "_view_module_version": "1.2.0",
            "_view_name": "StyleView",
            "description_width": ""
          }
        },
        "44d764b931f445229a9d5cf2d4a0efb4": {
          "model_module": "@jupyter-widgets/controls",
          "model_name": "HBoxModel",
          "model_module_version": "1.5.0",
          "state": {
            "_dom_classes": [],
            "_model_module": "@jupyter-widgets/controls",
            "_model_module_version": "1.5.0",
            "_model_name": "HBoxModel",
            "_view_count": null,
            "_view_module": "@jupyter-widgets/controls",
            "_view_module_version": "1.5.0",
            "_view_name": "HBoxView",
            "box_style": "",
            "children": [
              "IPY_MODEL_3f7e66ab02934c69961e4591a38cec23",
              "IPY_MODEL_ec5580177b644ac6b35aa2dfc4490926",
              "IPY_MODEL_0c07c68938d14f70ac9dc912259605b2"
            ],
            "layout": "IPY_MODEL_3616dca67498466e925cdd0ff34be252"
          }
        },
        "3f7e66ab02934c69961e4591a38cec23": {
          "model_module": "@jupyter-widgets/controls",
          "model_name": "HTMLModel",
          "model_module_version": "1.5.0",
          "state": {
            "_dom_classes": [],
            "_model_module": "@jupyter-widgets/controls",
            "_model_module_version": "1.5.0",
            "_model_name": "HTMLModel",
            "_view_count": null,
            "_view_module": "@jupyter-widgets/controls",
            "_view_module_version": "1.5.0",
            "_view_name": "HTMLView",
            "description": "",
            "description_tooltip": null,
            "layout": "IPY_MODEL_7b2b383c269446ba818276a08db58688",
            "placeholder": "​",
            "style": "IPY_MODEL_ca2acd3a33c2403780ed7341d402c86b",
            "value": "Map:  96%"
          }
        },
        "ec5580177b644ac6b35aa2dfc4490926": {
          "model_module": "@jupyter-widgets/controls",
          "model_name": "FloatProgressModel",
          "model_module_version": "1.5.0",
          "state": {
            "_dom_classes": [],
            "_model_module": "@jupyter-widgets/controls",
            "_model_module_version": "1.5.0",
            "_model_name": "FloatProgressModel",
            "_view_count": null,
            "_view_module": "@jupyter-widgets/controls",
            "_view_module_version": "1.5.0",
            "_view_name": "ProgressView",
            "bar_style": "",
            "description": "",
            "description_tooltip": null,
            "layout": "IPY_MODEL_d82a2365114b48e6aea6f5c0d0827079",
            "max": 606,
            "min": 0,
            "orientation": "horizontal",
            "style": "IPY_MODEL_f01700d65c0c4ff7b1d94d7427c323a2",
            "value": 606
          }
        },
        "0c07c68938d14f70ac9dc912259605b2": {
          "model_module": "@jupyter-widgets/controls",
          "model_name": "HTMLModel",
          "model_module_version": "1.5.0",
          "state": {
            "_dom_classes": [],
            "_model_module": "@jupyter-widgets/controls",
            "_model_module_version": "1.5.0",
            "_model_name": "HTMLModel",
            "_view_count": null,
            "_view_module": "@jupyter-widgets/controls",
            "_view_module_version": "1.5.0",
            "_view_name": "HTMLView",
            "description": "",
            "description_tooltip": null,
            "layout": "IPY_MODEL_3e9f15302b4546498398dca02b389112",
            "placeholder": "​",
            "style": "IPY_MODEL_599429c5b57f46a592530b951a1fb2c6",
            "value": " 579/606 [00:00&lt;00:00, 624.30 examples/s]"
          }
        },
        "3616dca67498466e925cdd0ff34be252": {
          "model_module": "@jupyter-widgets/base",
          "model_name": "LayoutModel",
          "model_module_version": "1.2.0",
          "state": {
            "_model_module": "@jupyter-widgets/base",
            "_model_module_version": "1.2.0",
            "_model_name": "LayoutModel",
            "_view_count": null,
            "_view_module": "@jupyter-widgets/base",
            "_view_module_version": "1.2.0",
            "_view_name": "LayoutView",
            "align_content": null,
            "align_items": null,
            "align_self": null,
            "border": null,
            "bottom": null,
            "display": null,
            "flex": null,
            "flex_flow": null,
            "grid_area": null,
            "grid_auto_columns": null,
            "grid_auto_flow": null,
            "grid_auto_rows": null,
            "grid_column": null,
            "grid_gap": null,
            "grid_row": null,
            "grid_template_areas": null,
            "grid_template_columns": null,
            "grid_template_rows": null,
            "height": null,
            "justify_content": null,
            "justify_items": null,
            "left": null,
            "margin": null,
            "max_height": null,
            "max_width": null,
            "min_height": null,
            "min_width": null,
            "object_fit": null,
            "object_position": null,
            "order": null,
            "overflow": null,
            "overflow_x": null,
            "overflow_y": null,
            "padding": null,
            "right": null,
            "top": null,
            "visibility": "hidden",
            "width": null
          }
        },
        "7b2b383c269446ba818276a08db58688": {
          "model_module": "@jupyter-widgets/base",
          "model_name": "LayoutModel",
          "model_module_version": "1.2.0",
          "state": {
            "_model_module": "@jupyter-widgets/base",
            "_model_module_version": "1.2.0",
            "_model_name": "LayoutModel",
            "_view_count": null,
            "_view_module": "@jupyter-widgets/base",
            "_view_module_version": "1.2.0",
            "_view_name": "LayoutView",
            "align_content": null,
            "align_items": null,
            "align_self": null,
            "border": null,
            "bottom": null,
            "display": null,
            "flex": null,
            "flex_flow": null,
            "grid_area": null,
            "grid_auto_columns": null,
            "grid_auto_flow": null,
            "grid_auto_rows": null,
            "grid_column": null,
            "grid_gap": null,
            "grid_row": null,
            "grid_template_areas": null,
            "grid_template_columns": null,
            "grid_template_rows": null,
            "height": null,
            "justify_content": null,
            "justify_items": null,
            "left": null,
            "margin": null,
            "max_height": null,
            "max_width": null,
            "min_height": null,
            "min_width": null,
            "object_fit": null,
            "object_position": null,
            "order": null,
            "overflow": null,
            "overflow_x": null,
            "overflow_y": null,
            "padding": null,
            "right": null,
            "top": null,
            "visibility": null,
            "width": null
          }
        },
        "ca2acd3a33c2403780ed7341d402c86b": {
          "model_module": "@jupyter-widgets/controls",
          "model_name": "DescriptionStyleModel",
          "model_module_version": "1.5.0",
          "state": {
            "_model_module": "@jupyter-widgets/controls",
            "_model_module_version": "1.5.0",
            "_model_name": "DescriptionStyleModel",
            "_view_count": null,
            "_view_module": "@jupyter-widgets/base",
            "_view_module_version": "1.2.0",
            "_view_name": "StyleView",
            "description_width": ""
          }
        },
        "d82a2365114b48e6aea6f5c0d0827079": {
          "model_module": "@jupyter-widgets/base",
          "model_name": "LayoutModel",
          "model_module_version": "1.2.0",
          "state": {
            "_model_module": "@jupyter-widgets/base",
            "_model_module_version": "1.2.0",
            "_model_name": "LayoutModel",
            "_view_count": null,
            "_view_module": "@jupyter-widgets/base",
            "_view_module_version": "1.2.0",
            "_view_name": "LayoutView",
            "align_content": null,
            "align_items": null,
            "align_self": null,
            "border": null,
            "bottom": null,
            "display": null,
            "flex": null,
            "flex_flow": null,
            "grid_area": null,
            "grid_auto_columns": null,
            "grid_auto_flow": null,
            "grid_auto_rows": null,
            "grid_column": null,
            "grid_gap": null,
            "grid_row": null,
            "grid_template_areas": null,
            "grid_template_columns": null,
            "grid_template_rows": null,
            "height": null,
            "justify_content": null,
            "justify_items": null,
            "left": null,
            "margin": null,
            "max_height": null,
            "max_width": null,
            "min_height": null,
            "min_width": null,
            "object_fit": null,
            "object_position": null,
            "order": null,
            "overflow": null,
            "overflow_x": null,
            "overflow_y": null,
            "padding": null,
            "right": null,
            "top": null,
            "visibility": null,
            "width": null
          }
        },
        "f01700d65c0c4ff7b1d94d7427c323a2": {
          "model_module": "@jupyter-widgets/controls",
          "model_name": "ProgressStyleModel",
          "model_module_version": "1.5.0",
          "state": {
            "_model_module": "@jupyter-widgets/controls",
            "_model_module_version": "1.5.0",
            "_model_name": "ProgressStyleModel",
            "_view_count": null,
            "_view_module": "@jupyter-widgets/base",
            "_view_module_version": "1.2.0",
            "_view_name": "StyleView",
            "bar_color": null,
            "description_width": ""
          }
        },
        "3e9f15302b4546498398dca02b389112": {
          "model_module": "@jupyter-widgets/base",
          "model_name": "LayoutModel",
          "model_module_version": "1.2.0",
          "state": {
            "_model_module": "@jupyter-widgets/base",
            "_model_module_version": "1.2.0",
            "_model_name": "LayoutModel",
            "_view_count": null,
            "_view_module": "@jupyter-widgets/base",
            "_view_module_version": "1.2.0",
            "_view_name": "LayoutView",
            "align_content": null,
            "align_items": null,
            "align_self": null,
            "border": null,
            "bottom": null,
            "display": null,
            "flex": null,
            "flex_flow": null,
            "grid_area": null,
            "grid_auto_columns": null,
            "grid_auto_flow": null,
            "grid_auto_rows": null,
            "grid_column": null,
            "grid_gap": null,
            "grid_row": null,
            "grid_template_areas": null,
            "grid_template_columns": null,
            "grid_template_rows": null,
            "height": null,
            "justify_content": null,
            "justify_items": null,
            "left": null,
            "margin": null,
            "max_height": null,
            "max_width": null,
            "min_height": null,
            "min_width": null,
            "object_fit": null,
            "object_position": null,
            "order": null,
            "overflow": null,
            "overflow_x": null,
            "overflow_y": null,
            "padding": null,
            "right": null,
            "top": null,
            "visibility": null,
            "width": null
          }
        },
        "599429c5b57f46a592530b951a1fb2c6": {
          "model_module": "@jupyter-widgets/controls",
          "model_name": "DescriptionStyleModel",
          "model_module_version": "1.5.0",
          "state": {
            "_model_module": "@jupyter-widgets/controls",
            "_model_module_version": "1.5.0",
            "_model_name": "DescriptionStyleModel",
            "_view_count": null,
            "_view_module": "@jupyter-widgets/base",
            "_view_module_version": "1.2.0",
            "_view_name": "StyleView",
            "description_width": ""
          }
        },
        "a7a8cb3b87dc45ab83306491b6a94f9a": {
          "model_module": "@jupyter-widgets/controls",
          "model_name": "VBoxModel",
          "model_module_version": "1.5.0",
          "state": {
            "_dom_classes": [],
            "_model_module": "@jupyter-widgets/controls",
            "_model_module_version": "1.5.0",
            "_model_name": "VBoxModel",
            "_view_count": null,
            "_view_module": "@jupyter-widgets/controls",
            "_view_module_version": "1.5.0",
            "_view_name": "VBoxView",
            "box_style": "",
            "children": [
              "IPY_MODEL_f9d394ab51d04e258f2674f588dd736e",
              "IPY_MODEL_344edd6b2e8f4a2da37e543d1eaf7dd6",
              "IPY_MODEL_d4e05008e0a8437dae4b553fcfe839ba",
              "IPY_MODEL_73c0ad8c11544029967610d6e44ca8bc"
            ],
            "layout": "IPY_MODEL_56627cce8c004407a0d25764d848986c"
          }
        },
        "b3ab82d70fc04fcf91935bd7c5a80aa9": {
          "model_module": "@jupyter-widgets/controls",
          "model_name": "HTMLModel",
          "model_module_version": "1.5.0",
          "state": {
            "_dom_classes": [],
            "_model_module": "@jupyter-widgets/controls",
            "_model_module_version": "1.5.0",
            "_model_name": "HTMLModel",
            "_view_count": null,
            "_view_module": "@jupyter-widgets/controls",
            "_view_module_version": "1.5.0",
            "_view_name": "HTMLView",
            "description": "",
            "description_tooltip": null,
            "layout": "IPY_MODEL_48bdc70ec68342b39e833f844ae6fed3",
            "placeholder": "​",
            "style": "IPY_MODEL_96366fb3b7c04ea28f25fd9d598c5ff9",
            "value": "<center> <img\nsrc=https://huggingface.co/front/assets/huggingface_logo-noborder.svg\nalt='Hugging Face'> <br> Copy a token from <a\nhref=\"https://huggingface.co/settings/tokens\" target=\"_blank\">your Hugging Face\ntokens page</a> and paste it below. <br> Immediately click login after copying\nyour token or it might be stored in plain text in this notebook file. </center>"
          }
        },
        "d6227f17b9b84d2cb3761ce774676ca3": {
          "model_module": "@jupyter-widgets/controls",
          "model_name": "PasswordModel",
          "model_module_version": "1.5.0",
          "state": {
            "_dom_classes": [],
            "_model_module": "@jupyter-widgets/controls",
            "_model_module_version": "1.5.0",
            "_model_name": "PasswordModel",
            "_view_count": null,
            "_view_module": "@jupyter-widgets/controls",
            "_view_module_version": "1.5.0",
            "_view_name": "PasswordView",
            "continuous_update": true,
            "description": "Token:",
            "description_tooltip": null,
            "disabled": false,
            "layout": "IPY_MODEL_06767ad74863486caabd83433784b3d0",
            "placeholder": "​",
            "style": "IPY_MODEL_6f2273f0411149de9e3eb92783339616",
            "value": ""
          }
        },
        "94ebcfb3f90c4be5a6c2d26eb1855de5": {
          "model_module": "@jupyter-widgets/controls",
          "model_name": "CheckboxModel",
          "model_module_version": "1.5.0",
          "state": {
            "_dom_classes": [],
            "_model_module": "@jupyter-widgets/controls",
            "_model_module_version": "1.5.0",
            "_model_name": "CheckboxModel",
            "_view_count": null,
            "_view_module": "@jupyter-widgets/controls",
            "_view_module_version": "1.5.0",
            "_view_name": "CheckboxView",
            "description": "Add token as git credential?",
            "description_tooltip": null,
            "disabled": false,
            "indent": true,
            "layout": "IPY_MODEL_ed89b19dbbfd4cf5892179cfc130293a",
            "style": "IPY_MODEL_4aba67812a9443ed84f350669abb2049",
            "value": true
          }
        },
        "afaa2b04b8b6482d8c8983436049163c": {
          "model_module": "@jupyter-widgets/controls",
          "model_name": "ButtonModel",
          "model_module_version": "1.5.0",
          "state": {
            "_dom_classes": [],
            "_model_module": "@jupyter-widgets/controls",
            "_model_module_version": "1.5.0",
            "_model_name": "ButtonModel",
            "_view_count": null,
            "_view_module": "@jupyter-widgets/controls",
            "_view_module_version": "1.5.0",
            "_view_name": "ButtonView",
            "button_style": "",
            "description": "Login",
            "disabled": false,
            "icon": "",
            "layout": "IPY_MODEL_2ef3e358d6224ac492e3adef7914cdae",
            "style": "IPY_MODEL_735b1ad897e2428fbc148739532e41b9",
            "tooltip": ""
          }
        },
        "5541635681c44227b280c3f20cd564d3": {
          "model_module": "@jupyter-widgets/controls",
          "model_name": "HTMLModel",
          "model_module_version": "1.5.0",
          "state": {
            "_dom_classes": [],
            "_model_module": "@jupyter-widgets/controls",
            "_model_module_version": "1.5.0",
            "_model_name": "HTMLModel",
            "_view_count": null,
            "_view_module": "@jupyter-widgets/controls",
            "_view_module_version": "1.5.0",
            "_view_name": "HTMLView",
            "description": "",
            "description_tooltip": null,
            "layout": "IPY_MODEL_1b5f734a36194793964d059f4057e6e5",
            "placeholder": "​",
            "style": "IPY_MODEL_c3cf1369112d4383a7f64f54ac16893a",
            "value": "\n<b>Pro Tip:</b> If you don't already have one, you can create a dedicated\n'notebooks' token with 'write' access, that you can then easily reuse for all\nnotebooks. </center>"
          }
        },
        "56627cce8c004407a0d25764d848986c": {
          "model_module": "@jupyter-widgets/base",
          "model_name": "LayoutModel",
          "model_module_version": "1.2.0",
          "state": {
            "_model_module": "@jupyter-widgets/base",
            "_model_module_version": "1.2.0",
            "_model_name": "LayoutModel",
            "_view_count": null,
            "_view_module": "@jupyter-widgets/base",
            "_view_module_version": "1.2.0",
            "_view_name": "LayoutView",
            "align_content": null,
            "align_items": "center",
            "align_self": null,
            "border": null,
            "bottom": null,
            "display": "flex",
            "flex": null,
            "flex_flow": "column",
            "grid_area": null,
            "grid_auto_columns": null,
            "grid_auto_flow": null,
            "grid_auto_rows": null,
            "grid_column": null,
            "grid_gap": null,
            "grid_row": null,
            "grid_template_areas": null,
            "grid_template_columns": null,
            "grid_template_rows": null,
            "height": null,
            "justify_content": null,
            "justify_items": null,
            "left": null,
            "margin": null,
            "max_height": null,
            "max_width": null,
            "min_height": null,
            "min_width": null,
            "object_fit": null,
            "object_position": null,
            "order": null,
            "overflow": null,
            "overflow_x": null,
            "overflow_y": null,
            "padding": null,
            "right": null,
            "top": null,
            "visibility": null,
            "width": "50%"
          }
        },
        "48bdc70ec68342b39e833f844ae6fed3": {
          "model_module": "@jupyter-widgets/base",
          "model_name": "LayoutModel",
          "model_module_version": "1.2.0",
          "state": {
            "_model_module": "@jupyter-widgets/base",
            "_model_module_version": "1.2.0",
            "_model_name": "LayoutModel",
            "_view_count": null,
            "_view_module": "@jupyter-widgets/base",
            "_view_module_version": "1.2.0",
            "_view_name": "LayoutView",
            "align_content": null,
            "align_items": null,
            "align_self": null,
            "border": null,
            "bottom": null,
            "display": null,
            "flex": null,
            "flex_flow": null,
            "grid_area": null,
            "grid_auto_columns": null,
            "grid_auto_flow": null,
            "grid_auto_rows": null,
            "grid_column": null,
            "grid_gap": null,
            "grid_row": null,
            "grid_template_areas": null,
            "grid_template_columns": null,
            "grid_template_rows": null,
            "height": null,
            "justify_content": null,
            "justify_items": null,
            "left": null,
            "margin": null,
            "max_height": null,
            "max_width": null,
            "min_height": null,
            "min_width": null,
            "object_fit": null,
            "object_position": null,
            "order": null,
            "overflow": null,
            "overflow_x": null,
            "overflow_y": null,
            "padding": null,
            "right": null,
            "top": null,
            "visibility": null,
            "width": null
          }
        },
        "96366fb3b7c04ea28f25fd9d598c5ff9": {
          "model_module": "@jupyter-widgets/controls",
          "model_name": "DescriptionStyleModel",
          "model_module_version": "1.5.0",
          "state": {
            "_model_module": "@jupyter-widgets/controls",
            "_model_module_version": "1.5.0",
            "_model_name": "DescriptionStyleModel",
            "_view_count": null,
            "_view_module": "@jupyter-widgets/base",
            "_view_module_version": "1.2.0",
            "_view_name": "StyleView",
            "description_width": ""
          }
        },
        "06767ad74863486caabd83433784b3d0": {
          "model_module": "@jupyter-widgets/base",
          "model_name": "LayoutModel",
          "model_module_version": "1.2.0",
          "state": {
            "_model_module": "@jupyter-widgets/base",
            "_model_module_version": "1.2.0",
            "_model_name": "LayoutModel",
            "_view_count": null,
            "_view_module": "@jupyter-widgets/base",
            "_view_module_version": "1.2.0",
            "_view_name": "LayoutView",
            "align_content": null,
            "align_items": null,
            "align_self": null,
            "border": null,
            "bottom": null,
            "display": null,
            "flex": null,
            "flex_flow": null,
            "grid_area": null,
            "grid_auto_columns": null,
            "grid_auto_flow": null,
            "grid_auto_rows": null,
            "grid_column": null,
            "grid_gap": null,
            "grid_row": null,
            "grid_template_areas": null,
            "grid_template_columns": null,
            "grid_template_rows": null,
            "height": null,
            "justify_content": null,
            "justify_items": null,
            "left": null,
            "margin": null,
            "max_height": null,
            "max_width": null,
            "min_height": null,
            "min_width": null,
            "object_fit": null,
            "object_position": null,
            "order": null,
            "overflow": null,
            "overflow_x": null,
            "overflow_y": null,
            "padding": null,
            "right": null,
            "top": null,
            "visibility": null,
            "width": null
          }
        },
        "6f2273f0411149de9e3eb92783339616": {
          "model_module": "@jupyter-widgets/controls",
          "model_name": "DescriptionStyleModel",
          "model_module_version": "1.5.0",
          "state": {
            "_model_module": "@jupyter-widgets/controls",
            "_model_module_version": "1.5.0",
            "_model_name": "DescriptionStyleModel",
            "_view_count": null,
            "_view_module": "@jupyter-widgets/base",
            "_view_module_version": "1.2.0",
            "_view_name": "StyleView",
            "description_width": ""
          }
        },
        "ed89b19dbbfd4cf5892179cfc130293a": {
          "model_module": "@jupyter-widgets/base",
          "model_name": "LayoutModel",
          "model_module_version": "1.2.0",
          "state": {
            "_model_module": "@jupyter-widgets/base",
            "_model_module_version": "1.2.0",
            "_model_name": "LayoutModel",
            "_view_count": null,
            "_view_module": "@jupyter-widgets/base",
            "_view_module_version": "1.2.0",
            "_view_name": "LayoutView",
            "align_content": null,
            "align_items": null,
            "align_self": null,
            "border": null,
            "bottom": null,
            "display": null,
            "flex": null,
            "flex_flow": null,
            "grid_area": null,
            "grid_auto_columns": null,
            "grid_auto_flow": null,
            "grid_auto_rows": null,
            "grid_column": null,
            "grid_gap": null,
            "grid_row": null,
            "grid_template_areas": null,
            "grid_template_columns": null,
            "grid_template_rows": null,
            "height": null,
            "justify_content": null,
            "justify_items": null,
            "left": null,
            "margin": null,
            "max_height": null,
            "max_width": null,
            "min_height": null,
            "min_width": null,
            "object_fit": null,
            "object_position": null,
            "order": null,
            "overflow": null,
            "overflow_x": null,
            "overflow_y": null,
            "padding": null,
            "right": null,
            "top": null,
            "visibility": null,
            "width": null
          }
        },
        "4aba67812a9443ed84f350669abb2049": {
          "model_module": "@jupyter-widgets/controls",
          "model_name": "DescriptionStyleModel",
          "model_module_version": "1.5.0",
          "state": {
            "_model_module": "@jupyter-widgets/controls",
            "_model_module_version": "1.5.0",
            "_model_name": "DescriptionStyleModel",
            "_view_count": null,
            "_view_module": "@jupyter-widgets/base",
            "_view_module_version": "1.2.0",
            "_view_name": "StyleView",
            "description_width": ""
          }
        },
        "2ef3e358d6224ac492e3adef7914cdae": {
          "model_module": "@jupyter-widgets/base",
          "model_name": "LayoutModel",
          "model_module_version": "1.2.0",
          "state": {
            "_model_module": "@jupyter-widgets/base",
            "_model_module_version": "1.2.0",
            "_model_name": "LayoutModel",
            "_view_count": null,
            "_view_module": "@jupyter-widgets/base",
            "_view_module_version": "1.2.0",
            "_view_name": "LayoutView",
            "align_content": null,
            "align_items": null,
            "align_self": null,
            "border": null,
            "bottom": null,
            "display": null,
            "flex": null,
            "flex_flow": null,
            "grid_area": null,
            "grid_auto_columns": null,
            "grid_auto_flow": null,
            "grid_auto_rows": null,
            "grid_column": null,
            "grid_gap": null,
            "grid_row": null,
            "grid_template_areas": null,
            "grid_template_columns": null,
            "grid_template_rows": null,
            "height": null,
            "justify_content": null,
            "justify_items": null,
            "left": null,
            "margin": null,
            "max_height": null,
            "max_width": null,
            "min_height": null,
            "min_width": null,
            "object_fit": null,
            "object_position": null,
            "order": null,
            "overflow": null,
            "overflow_x": null,
            "overflow_y": null,
            "padding": null,
            "right": null,
            "top": null,
            "visibility": null,
            "width": null
          }
        },
        "735b1ad897e2428fbc148739532e41b9": {
          "model_module": "@jupyter-widgets/controls",
          "model_name": "ButtonStyleModel",
          "model_module_version": "1.5.0",
          "state": {
            "_model_module": "@jupyter-widgets/controls",
            "_model_module_version": "1.5.0",
            "_model_name": "ButtonStyleModel",
            "_view_count": null,
            "_view_module": "@jupyter-widgets/base",
            "_view_module_version": "1.2.0",
            "_view_name": "StyleView",
            "button_color": null,
            "font_weight": ""
          }
        },
        "1b5f734a36194793964d059f4057e6e5": {
          "model_module": "@jupyter-widgets/base",
          "model_name": "LayoutModel",
          "model_module_version": "1.2.0",
          "state": {
            "_model_module": "@jupyter-widgets/base",
            "_model_module_version": "1.2.0",
            "_model_name": "LayoutModel",
            "_view_count": null,
            "_view_module": "@jupyter-widgets/base",
            "_view_module_version": "1.2.0",
            "_view_name": "LayoutView",
            "align_content": null,
            "align_items": null,
            "align_self": null,
            "border": null,
            "bottom": null,
            "display": null,
            "flex": null,
            "flex_flow": null,
            "grid_area": null,
            "grid_auto_columns": null,
            "grid_auto_flow": null,
            "grid_auto_rows": null,
            "grid_column": null,
            "grid_gap": null,
            "grid_row": null,
            "grid_template_areas": null,
            "grid_template_columns": null,
            "grid_template_rows": null,
            "height": null,
            "justify_content": null,
            "justify_items": null,
            "left": null,
            "margin": null,
            "max_height": null,
            "max_width": null,
            "min_height": null,
            "min_width": null,
            "object_fit": null,
            "object_position": null,
            "order": null,
            "overflow": null,
            "overflow_x": null,
            "overflow_y": null,
            "padding": null,
            "right": null,
            "top": null,
            "visibility": null,
            "width": null
          }
        },
        "c3cf1369112d4383a7f64f54ac16893a": {
          "model_module": "@jupyter-widgets/controls",
          "model_name": "DescriptionStyleModel",
          "model_module_version": "1.5.0",
          "state": {
            "_model_module": "@jupyter-widgets/controls",
            "_model_module_version": "1.5.0",
            "_model_name": "DescriptionStyleModel",
            "_view_count": null,
            "_view_module": "@jupyter-widgets/base",
            "_view_module_version": "1.2.0",
            "_view_name": "StyleView",
            "description_width": ""
          }
        },
        "77baf0a94f6142b78b3de22e8f3c4c25": {
          "model_module": "@jupyter-widgets/controls",
          "model_name": "LabelModel",
          "model_module_version": "1.5.0",
          "state": {
            "_dom_classes": [],
            "_model_module": "@jupyter-widgets/controls",
            "_model_module_version": "1.5.0",
            "_model_name": "LabelModel",
            "_view_count": null,
            "_view_module": "@jupyter-widgets/controls",
            "_view_module_version": "1.5.0",
            "_view_name": "LabelView",
            "description": "",
            "description_tooltip": null,
            "layout": "IPY_MODEL_0fcabf381615449abfd939d146a9060c",
            "placeholder": "​",
            "style": "IPY_MODEL_f581dc28301148bcb2783561c31c7b4c",
            "value": "Connecting..."
          }
        },
        "0fcabf381615449abfd939d146a9060c": {
          "model_module": "@jupyter-widgets/base",
          "model_name": "LayoutModel",
          "model_module_version": "1.2.0",
          "state": {
            "_model_module": "@jupyter-widgets/base",
            "_model_module_version": "1.2.0",
            "_model_name": "LayoutModel",
            "_view_count": null,
            "_view_module": "@jupyter-widgets/base",
            "_view_module_version": "1.2.0",
            "_view_name": "LayoutView",
            "align_content": null,
            "align_items": null,
            "align_self": null,
            "border": null,
            "bottom": null,
            "display": null,
            "flex": null,
            "flex_flow": null,
            "grid_area": null,
            "grid_auto_columns": null,
            "grid_auto_flow": null,
            "grid_auto_rows": null,
            "grid_column": null,
            "grid_gap": null,
            "grid_row": null,
            "grid_template_areas": null,
            "grid_template_columns": null,
            "grid_template_rows": null,
            "height": null,
            "justify_content": null,
            "justify_items": null,
            "left": null,
            "margin": null,
            "max_height": null,
            "max_width": null,
            "min_height": null,
            "min_width": null,
            "object_fit": null,
            "object_position": null,
            "order": null,
            "overflow": null,
            "overflow_x": null,
            "overflow_y": null,
            "padding": null,
            "right": null,
            "top": null,
            "visibility": null,
            "width": null
          }
        },
        "f581dc28301148bcb2783561c31c7b4c": {
          "model_module": "@jupyter-widgets/controls",
          "model_name": "DescriptionStyleModel",
          "model_module_version": "1.5.0",
          "state": {
            "_model_module": "@jupyter-widgets/controls",
            "_model_module_version": "1.5.0",
            "_model_name": "DescriptionStyleModel",
            "_view_count": null,
            "_view_module": "@jupyter-widgets/base",
            "_view_module_version": "1.2.0",
            "_view_name": "StyleView",
            "description_width": ""
          }
        },
        "f9d394ab51d04e258f2674f588dd736e": {
          "model_module": "@jupyter-widgets/controls",
          "model_name": "LabelModel",
          "model_module_version": "1.5.0",
          "state": {
            "_dom_classes": [],
            "_model_module": "@jupyter-widgets/controls",
            "_model_module_version": "1.5.0",
            "_model_name": "LabelModel",
            "_view_count": null,
            "_view_module": "@jupyter-widgets/controls",
            "_view_module_version": "1.5.0",
            "_view_name": "LabelView",
            "description": "",
            "description_tooltip": null,
            "layout": "IPY_MODEL_883b7e5dc050419d8b8fda29674b6a54",
            "placeholder": "​",
            "style": "IPY_MODEL_bceb3234f2714d5482b76d798b90ff9d",
            "value": "Token is valid."
          }
        },
        "344edd6b2e8f4a2da37e543d1eaf7dd6": {
          "model_module": "@jupyter-widgets/controls",
          "model_name": "LabelModel",
          "model_module_version": "1.5.0",
          "state": {
            "_dom_classes": [],
            "_model_module": "@jupyter-widgets/controls",
            "_model_module_version": "1.5.0",
            "_model_name": "LabelModel",
            "_view_count": null,
            "_view_module": "@jupyter-widgets/controls",
            "_view_module_version": "1.5.0",
            "_view_name": "LabelView",
            "description": "",
            "description_tooltip": null,
            "layout": "IPY_MODEL_580ff035756342f9811ffadc4c476de1",
            "placeholder": "​",
            "style": "IPY_MODEL_addb971137024e989d21c733557d0d46",
            "value": "Your token has been saved in your configured git credential helpers (store)."
          }
        },
        "d4e05008e0a8437dae4b553fcfe839ba": {
          "model_module": "@jupyter-widgets/controls",
          "model_name": "LabelModel",
          "model_module_version": "1.5.0",
          "state": {
            "_dom_classes": [],
            "_model_module": "@jupyter-widgets/controls",
            "_model_module_version": "1.5.0",
            "_model_name": "LabelModel",
            "_view_count": null,
            "_view_module": "@jupyter-widgets/controls",
            "_view_module_version": "1.5.0",
            "_view_name": "LabelView",
            "description": "",
            "description_tooltip": null,
            "layout": "IPY_MODEL_8aae1319ea5d4f6fb8842ff43cde1671",
            "placeholder": "​",
            "style": "IPY_MODEL_4d32b86183e24cce9f942ced8841b99d",
            "value": "Your token has been saved to /root/.cache/huggingface/token"
          }
        },
        "73c0ad8c11544029967610d6e44ca8bc": {
          "model_module": "@jupyter-widgets/controls",
          "model_name": "LabelModel",
          "model_module_version": "1.5.0",
          "state": {
            "_dom_classes": [],
            "_model_module": "@jupyter-widgets/controls",
            "_model_module_version": "1.5.0",
            "_model_name": "LabelModel",
            "_view_count": null,
            "_view_module": "@jupyter-widgets/controls",
            "_view_module_version": "1.5.0",
            "_view_name": "LabelView",
            "description": "",
            "description_tooltip": null,
            "layout": "IPY_MODEL_50222457700d4ebb9c9bd1156136d0b8",
            "placeholder": "​",
            "style": "IPY_MODEL_073c1423dcd1492da943407f2b78d0df",
            "value": "Login successful"
          }
        },
        "883b7e5dc050419d8b8fda29674b6a54": {
          "model_module": "@jupyter-widgets/base",
          "model_name": "LayoutModel",
          "model_module_version": "1.2.0",
          "state": {
            "_model_module": "@jupyter-widgets/base",
            "_model_module_version": "1.2.0",
            "_model_name": "LayoutModel",
            "_view_count": null,
            "_view_module": "@jupyter-widgets/base",
            "_view_module_version": "1.2.0",
            "_view_name": "LayoutView",
            "align_content": null,
            "align_items": null,
            "align_self": null,
            "border": null,
            "bottom": null,
            "display": null,
            "flex": null,
            "flex_flow": null,
            "grid_area": null,
            "grid_auto_columns": null,
            "grid_auto_flow": null,
            "grid_auto_rows": null,
            "grid_column": null,
            "grid_gap": null,
            "grid_row": null,
            "grid_template_areas": null,
            "grid_template_columns": null,
            "grid_template_rows": null,
            "height": null,
            "justify_content": null,
            "justify_items": null,
            "left": null,
            "margin": null,
            "max_height": null,
            "max_width": null,
            "min_height": null,
            "min_width": null,
            "object_fit": null,
            "object_position": null,
            "order": null,
            "overflow": null,
            "overflow_x": null,
            "overflow_y": null,
            "padding": null,
            "right": null,
            "top": null,
            "visibility": null,
            "width": null
          }
        },
        "bceb3234f2714d5482b76d798b90ff9d": {
          "model_module": "@jupyter-widgets/controls",
          "model_name": "DescriptionStyleModel",
          "model_module_version": "1.5.0",
          "state": {
            "_model_module": "@jupyter-widgets/controls",
            "_model_module_version": "1.5.0",
            "_model_name": "DescriptionStyleModel",
            "_view_count": null,
            "_view_module": "@jupyter-widgets/base",
            "_view_module_version": "1.2.0",
            "_view_name": "StyleView",
            "description_width": ""
          }
        },
        "580ff035756342f9811ffadc4c476de1": {
          "model_module": "@jupyter-widgets/base",
          "model_name": "LayoutModel",
          "model_module_version": "1.2.0",
          "state": {
            "_model_module": "@jupyter-widgets/base",
            "_model_module_version": "1.2.0",
            "_model_name": "LayoutModel",
            "_view_count": null,
            "_view_module": "@jupyter-widgets/base",
            "_view_module_version": "1.2.0",
            "_view_name": "LayoutView",
            "align_content": null,
            "align_items": null,
            "align_self": null,
            "border": null,
            "bottom": null,
            "display": null,
            "flex": null,
            "flex_flow": null,
            "grid_area": null,
            "grid_auto_columns": null,
            "grid_auto_flow": null,
            "grid_auto_rows": null,
            "grid_column": null,
            "grid_gap": null,
            "grid_row": null,
            "grid_template_areas": null,
            "grid_template_columns": null,
            "grid_template_rows": null,
            "height": null,
            "justify_content": null,
            "justify_items": null,
            "left": null,
            "margin": null,
            "max_height": null,
            "max_width": null,
            "min_height": null,
            "min_width": null,
            "object_fit": null,
            "object_position": null,
            "order": null,
            "overflow": null,
            "overflow_x": null,
            "overflow_y": null,
            "padding": null,
            "right": null,
            "top": null,
            "visibility": null,
            "width": null
          }
        },
        "addb971137024e989d21c733557d0d46": {
          "model_module": "@jupyter-widgets/controls",
          "model_name": "DescriptionStyleModel",
          "model_module_version": "1.5.0",
          "state": {
            "_model_module": "@jupyter-widgets/controls",
            "_model_module_version": "1.5.0",
            "_model_name": "DescriptionStyleModel",
            "_view_count": null,
            "_view_module": "@jupyter-widgets/base",
            "_view_module_version": "1.2.0",
            "_view_name": "StyleView",
            "description_width": ""
          }
        },
        "8aae1319ea5d4f6fb8842ff43cde1671": {
          "model_module": "@jupyter-widgets/base",
          "model_name": "LayoutModel",
          "model_module_version": "1.2.0",
          "state": {
            "_model_module": "@jupyter-widgets/base",
            "_model_module_version": "1.2.0",
            "_model_name": "LayoutModel",
            "_view_count": null,
            "_view_module": "@jupyter-widgets/base",
            "_view_module_version": "1.2.0",
            "_view_name": "LayoutView",
            "align_content": null,
            "align_items": null,
            "align_self": null,
            "border": null,
            "bottom": null,
            "display": null,
            "flex": null,
            "flex_flow": null,
            "grid_area": null,
            "grid_auto_columns": null,
            "grid_auto_flow": null,
            "grid_auto_rows": null,
            "grid_column": null,
            "grid_gap": null,
            "grid_row": null,
            "grid_template_areas": null,
            "grid_template_columns": null,
            "grid_template_rows": null,
            "height": null,
            "justify_content": null,
            "justify_items": null,
            "left": null,
            "margin": null,
            "max_height": null,
            "max_width": null,
            "min_height": null,
            "min_width": null,
            "object_fit": null,
            "object_position": null,
            "order": null,
            "overflow": null,
            "overflow_x": null,
            "overflow_y": null,
            "padding": null,
            "right": null,
            "top": null,
            "visibility": null,
            "width": null
          }
        },
        "4d32b86183e24cce9f942ced8841b99d": {
          "model_module": "@jupyter-widgets/controls",
          "model_name": "DescriptionStyleModel",
          "model_module_version": "1.5.0",
          "state": {
            "_model_module": "@jupyter-widgets/controls",
            "_model_module_version": "1.5.0",
            "_model_name": "DescriptionStyleModel",
            "_view_count": null,
            "_view_module": "@jupyter-widgets/base",
            "_view_module_version": "1.2.0",
            "_view_name": "StyleView",
            "description_width": ""
          }
        },
        "50222457700d4ebb9c9bd1156136d0b8": {
          "model_module": "@jupyter-widgets/base",
          "model_name": "LayoutModel",
          "model_module_version": "1.2.0",
          "state": {
            "_model_module": "@jupyter-widgets/base",
            "_model_module_version": "1.2.0",
            "_model_name": "LayoutModel",
            "_view_count": null,
            "_view_module": "@jupyter-widgets/base",
            "_view_module_version": "1.2.0",
            "_view_name": "LayoutView",
            "align_content": null,
            "align_items": null,
            "align_self": null,
            "border": null,
            "bottom": null,
            "display": null,
            "flex": null,
            "flex_flow": null,
            "grid_area": null,
            "grid_auto_columns": null,
            "grid_auto_flow": null,
            "grid_auto_rows": null,
            "grid_column": null,
            "grid_gap": null,
            "grid_row": null,
            "grid_template_areas": null,
            "grid_template_columns": null,
            "grid_template_rows": null,
            "height": null,
            "justify_content": null,
            "justify_items": null,
            "left": null,
            "margin": null,
            "max_height": null,
            "max_width": null,
            "min_height": null,
            "min_width": null,
            "object_fit": null,
            "object_position": null,
            "order": null,
            "overflow": null,
            "overflow_x": null,
            "overflow_y": null,
            "padding": null,
            "right": null,
            "top": null,
            "visibility": null,
            "width": null
          }
        },
        "073c1423dcd1492da943407f2b78d0df": {
          "model_module": "@jupyter-widgets/controls",
          "model_name": "DescriptionStyleModel",
          "model_module_version": "1.5.0",
          "state": {
            "_model_module": "@jupyter-widgets/controls",
            "_model_module_version": "1.5.0",
            "_model_name": "DescriptionStyleModel",
            "_view_count": null,
            "_view_module": "@jupyter-widgets/base",
            "_view_module_version": "1.2.0",
            "_view_name": "StyleView",
            "description_width": ""
          }
        },
        "fd5a527112be43c89a0f440551de5255": {
          "model_module": "@jupyter-widgets/controls",
          "model_name": "HBoxModel",
          "model_module_version": "1.5.0",
          "state": {
            "_dom_classes": [],
            "_model_module": "@jupyter-widgets/controls",
            "_model_module_version": "1.5.0",
            "_model_name": "HBoxModel",
            "_view_count": null,
            "_view_module": "@jupyter-widgets/controls",
            "_view_module_version": "1.5.0",
            "_view_name": "HBoxView",
            "box_style": "",
            "children": [
              "IPY_MODEL_f99fbabd968c41aebfa276bee92e1a8f",
              "IPY_MODEL_f0d707f917fc4a86a045cad493e2c986",
              "IPY_MODEL_4ed3d637d6644daca20beb591ed236f9"
            ],
            "layout": "IPY_MODEL_f07b241da35d4575976e5658519d83ee"
          }
        },
        "f99fbabd968c41aebfa276bee92e1a8f": {
          "model_module": "@jupyter-widgets/controls",
          "model_name": "HTMLModel",
          "model_module_version": "1.5.0",
          "state": {
            "_dom_classes": [],
            "_model_module": "@jupyter-widgets/controls",
            "_model_module_version": "1.5.0",
            "_model_name": "HTMLModel",
            "_view_count": null,
            "_view_module": "@jupyter-widgets/controls",
            "_view_module_version": "1.5.0",
            "_view_name": "HTMLView",
            "description": "",
            "description_tooltip": null,
            "layout": "IPY_MODEL_cadf14bf2cd846c9b659ccc0b21c8f91",
            "placeholder": "​",
            "style": "IPY_MODEL_3dfde0ea27c348cda600f58adc86ff1e",
            "value": "Downloading data files: 100%"
          }
        },
        "f0d707f917fc4a86a045cad493e2c986": {
          "model_module": "@jupyter-widgets/controls",
          "model_name": "FloatProgressModel",
          "model_module_version": "1.5.0",
          "state": {
            "_dom_classes": [],
            "_model_module": "@jupyter-widgets/controls",
            "_model_module_version": "1.5.0",
            "_model_name": "FloatProgressModel",
            "_view_count": null,
            "_view_module": "@jupyter-widgets/controls",
            "_view_module_version": "1.5.0",
            "_view_name": "ProgressView",
            "bar_style": "success",
            "description": "",
            "description_tooltip": null,
            "layout": "IPY_MODEL_66ed5650c42e4674bdeae4f74db4d26f",
            "max": 1,
            "min": 0,
            "orientation": "horizontal",
            "style": "IPY_MODEL_97677aef1af04e86aab6c6e39352ad6c",
            "value": 1
          }
        },
        "4ed3d637d6644daca20beb591ed236f9": {
          "model_module": "@jupyter-widgets/controls",
          "model_name": "HTMLModel",
          "model_module_version": "1.5.0",
          "state": {
            "_dom_classes": [],
            "_model_module": "@jupyter-widgets/controls",
            "_model_module_version": "1.5.0",
            "_model_name": "HTMLModel",
            "_view_count": null,
            "_view_module": "@jupyter-widgets/controls",
            "_view_module_version": "1.5.0",
            "_view_name": "HTMLView",
            "description": "",
            "description_tooltip": null,
            "layout": "IPY_MODEL_e541c917499e458eb1118de7d96e916b",
            "placeholder": "​",
            "style": "IPY_MODEL_06fcb6b0c5354005979c7c384536a553",
            "value": " 1/1 [00:00&lt;00:00, 71.85it/s]"
          }
        },
        "f07b241da35d4575976e5658519d83ee": {
          "model_module": "@jupyter-widgets/base",
          "model_name": "LayoutModel",
          "model_module_version": "1.2.0",
          "state": {
            "_model_module": "@jupyter-widgets/base",
            "_model_module_version": "1.2.0",
            "_model_name": "LayoutModel",
            "_view_count": null,
            "_view_module": "@jupyter-widgets/base",
            "_view_module_version": "1.2.0",
            "_view_name": "LayoutView",
            "align_content": null,
            "align_items": null,
            "align_self": null,
            "border": null,
            "bottom": null,
            "display": null,
            "flex": null,
            "flex_flow": null,
            "grid_area": null,
            "grid_auto_columns": null,
            "grid_auto_flow": null,
            "grid_auto_rows": null,
            "grid_column": null,
            "grid_gap": null,
            "grid_row": null,
            "grid_template_areas": null,
            "grid_template_columns": null,
            "grid_template_rows": null,
            "height": null,
            "justify_content": null,
            "justify_items": null,
            "left": null,
            "margin": null,
            "max_height": null,
            "max_width": null,
            "min_height": null,
            "min_width": null,
            "object_fit": null,
            "object_position": null,
            "order": null,
            "overflow": null,
            "overflow_x": null,
            "overflow_y": null,
            "padding": null,
            "right": null,
            "top": null,
            "visibility": null,
            "width": null
          }
        },
        "cadf14bf2cd846c9b659ccc0b21c8f91": {
          "model_module": "@jupyter-widgets/base",
          "model_name": "LayoutModel",
          "model_module_version": "1.2.0",
          "state": {
            "_model_module": "@jupyter-widgets/base",
            "_model_module_version": "1.2.0",
            "_model_name": "LayoutModel",
            "_view_count": null,
            "_view_module": "@jupyter-widgets/base",
            "_view_module_version": "1.2.0",
            "_view_name": "LayoutView",
            "align_content": null,
            "align_items": null,
            "align_self": null,
            "border": null,
            "bottom": null,
            "display": null,
            "flex": null,
            "flex_flow": null,
            "grid_area": null,
            "grid_auto_columns": null,
            "grid_auto_flow": null,
            "grid_auto_rows": null,
            "grid_column": null,
            "grid_gap": null,
            "grid_row": null,
            "grid_template_areas": null,
            "grid_template_columns": null,
            "grid_template_rows": null,
            "height": null,
            "justify_content": null,
            "justify_items": null,
            "left": null,
            "margin": null,
            "max_height": null,
            "max_width": null,
            "min_height": null,
            "min_width": null,
            "object_fit": null,
            "object_position": null,
            "order": null,
            "overflow": null,
            "overflow_x": null,
            "overflow_y": null,
            "padding": null,
            "right": null,
            "top": null,
            "visibility": null,
            "width": null
          }
        },
        "3dfde0ea27c348cda600f58adc86ff1e": {
          "model_module": "@jupyter-widgets/controls",
          "model_name": "DescriptionStyleModel",
          "model_module_version": "1.5.0",
          "state": {
            "_model_module": "@jupyter-widgets/controls",
            "_model_module_version": "1.5.0",
            "_model_name": "DescriptionStyleModel",
            "_view_count": null,
            "_view_module": "@jupyter-widgets/base",
            "_view_module_version": "1.2.0",
            "_view_name": "StyleView",
            "description_width": ""
          }
        },
        "66ed5650c42e4674bdeae4f74db4d26f": {
          "model_module": "@jupyter-widgets/base",
          "model_name": "LayoutModel",
          "model_module_version": "1.2.0",
          "state": {
            "_model_module": "@jupyter-widgets/base",
            "_model_module_version": "1.2.0",
            "_model_name": "LayoutModel",
            "_view_count": null,
            "_view_module": "@jupyter-widgets/base",
            "_view_module_version": "1.2.0",
            "_view_name": "LayoutView",
            "align_content": null,
            "align_items": null,
            "align_self": null,
            "border": null,
            "bottom": null,
            "display": null,
            "flex": null,
            "flex_flow": null,
            "grid_area": null,
            "grid_auto_columns": null,
            "grid_auto_flow": null,
            "grid_auto_rows": null,
            "grid_column": null,
            "grid_gap": null,
            "grid_row": null,
            "grid_template_areas": null,
            "grid_template_columns": null,
            "grid_template_rows": null,
            "height": null,
            "justify_content": null,
            "justify_items": null,
            "left": null,
            "margin": null,
            "max_height": null,
            "max_width": null,
            "min_height": null,
            "min_width": null,
            "object_fit": null,
            "object_position": null,
            "order": null,
            "overflow": null,
            "overflow_x": null,
            "overflow_y": null,
            "padding": null,
            "right": null,
            "top": null,
            "visibility": null,
            "width": null
          }
        },
        "97677aef1af04e86aab6c6e39352ad6c": {
          "model_module": "@jupyter-widgets/controls",
          "model_name": "ProgressStyleModel",
          "model_module_version": "1.5.0",
          "state": {
            "_model_module": "@jupyter-widgets/controls",
            "_model_module_version": "1.5.0",
            "_model_name": "ProgressStyleModel",
            "_view_count": null,
            "_view_module": "@jupyter-widgets/base",
            "_view_module_version": "1.2.0",
            "_view_name": "StyleView",
            "bar_color": null,
            "description_width": ""
          }
        },
        "e541c917499e458eb1118de7d96e916b": {
          "model_module": "@jupyter-widgets/base",
          "model_name": "LayoutModel",
          "model_module_version": "1.2.0",
          "state": {
            "_model_module": "@jupyter-widgets/base",
            "_model_module_version": "1.2.0",
            "_model_name": "LayoutModel",
            "_view_count": null,
            "_view_module": "@jupyter-widgets/base",
            "_view_module_version": "1.2.0",
            "_view_name": "LayoutView",
            "align_content": null,
            "align_items": null,
            "align_self": null,
            "border": null,
            "bottom": null,
            "display": null,
            "flex": null,
            "flex_flow": null,
            "grid_area": null,
            "grid_auto_columns": null,
            "grid_auto_flow": null,
            "grid_auto_rows": null,
            "grid_column": null,
            "grid_gap": null,
            "grid_row": null,
            "grid_template_areas": null,
            "grid_template_columns": null,
            "grid_template_rows": null,
            "height": null,
            "justify_content": null,
            "justify_items": null,
            "left": null,
            "margin": null,
            "max_height": null,
            "max_width": null,
            "min_height": null,
            "min_width": null,
            "object_fit": null,
            "object_position": null,
            "order": null,
            "overflow": null,
            "overflow_x": null,
            "overflow_y": null,
            "padding": null,
            "right": null,
            "top": null,
            "visibility": null,
            "width": null
          }
        },
        "06fcb6b0c5354005979c7c384536a553": {
          "model_module": "@jupyter-widgets/controls",
          "model_name": "DescriptionStyleModel",
          "model_module_version": "1.5.0",
          "state": {
            "_model_module": "@jupyter-widgets/controls",
            "_model_module_version": "1.5.0",
            "_model_name": "DescriptionStyleModel",
            "_view_count": null,
            "_view_module": "@jupyter-widgets/base",
            "_view_module_version": "1.2.0",
            "_view_name": "StyleView",
            "description_width": ""
          }
        },
        "a15e5befef4d412b8a794f1633a27583": {
          "model_module": "@jupyter-widgets/controls",
          "model_name": "HBoxModel",
          "model_module_version": "1.5.0",
          "state": {
            "_dom_classes": [],
            "_model_module": "@jupyter-widgets/controls",
            "_model_module_version": "1.5.0",
            "_model_name": "HBoxModel",
            "_view_count": null,
            "_view_module": "@jupyter-widgets/controls",
            "_view_module_version": "1.5.0",
            "_view_name": "HBoxView",
            "box_style": "",
            "children": [
              "IPY_MODEL_4a440037a36a414591016e03694e782d",
              "IPY_MODEL_dd185a0b5eb54699b7359a31b7b50446",
              "IPY_MODEL_2d5a1ec1bcab4b569689de211d13df25"
            ],
            "layout": "IPY_MODEL_a0d8d57e7b364f42a8c2ca898cc83645"
          }
        },
        "4a440037a36a414591016e03694e782d": {
          "model_module": "@jupyter-widgets/controls",
          "model_name": "HTMLModel",
          "model_module_version": "1.5.0",
          "state": {
            "_dom_classes": [],
            "_model_module": "@jupyter-widgets/controls",
            "_model_module_version": "1.5.0",
            "_model_name": "HTMLModel",
            "_view_count": null,
            "_view_module": "@jupyter-widgets/controls",
            "_view_module_version": "1.5.0",
            "_view_name": "HTMLView",
            "description": "",
            "description_tooltip": null,
            "layout": "IPY_MODEL_4b143cc84b9147b48c75c9ac1959397e",
            "placeholder": "​",
            "style": "IPY_MODEL_fcccbf5682e24ae9a442a5f1df790038",
            "value": "Extracting data files: 100%"
          }
        },
        "dd185a0b5eb54699b7359a31b7b50446": {
          "model_module": "@jupyter-widgets/controls",
          "model_name": "FloatProgressModel",
          "model_module_version": "1.5.0",
          "state": {
            "_dom_classes": [],
            "_model_module": "@jupyter-widgets/controls",
            "_model_module_version": "1.5.0",
            "_model_name": "FloatProgressModel",
            "_view_count": null,
            "_view_module": "@jupyter-widgets/controls",
            "_view_module_version": "1.5.0",
            "_view_name": "ProgressView",
            "bar_style": "success",
            "description": "",
            "description_tooltip": null,
            "layout": "IPY_MODEL_0e7c9a00af464af9b78be80bb1398aed",
            "max": 1,
            "min": 0,
            "orientation": "horizontal",
            "style": "IPY_MODEL_4d50aab0800144bc83a49a0d4a66445d",
            "value": 1
          }
        },
        "2d5a1ec1bcab4b569689de211d13df25": {
          "model_module": "@jupyter-widgets/controls",
          "model_name": "HTMLModel",
          "model_module_version": "1.5.0",
          "state": {
            "_dom_classes": [],
            "_model_module": "@jupyter-widgets/controls",
            "_model_module_version": "1.5.0",
            "_model_name": "HTMLModel",
            "_view_count": null,
            "_view_module": "@jupyter-widgets/controls",
            "_view_module_version": "1.5.0",
            "_view_name": "HTMLView",
            "description": "",
            "description_tooltip": null,
            "layout": "IPY_MODEL_b25dcbc7e16648ea8543766eca271444",
            "placeholder": "​",
            "style": "IPY_MODEL_f27749680bcd4b3d86105858f14b927f",
            "value": " 1/1 [00:00&lt;00:00, 42.13it/s]"
          }
        },
        "a0d8d57e7b364f42a8c2ca898cc83645": {
          "model_module": "@jupyter-widgets/base",
          "model_name": "LayoutModel",
          "model_module_version": "1.2.0",
          "state": {
            "_model_module": "@jupyter-widgets/base",
            "_model_module_version": "1.2.0",
            "_model_name": "LayoutModel",
            "_view_count": null,
            "_view_module": "@jupyter-widgets/base",
            "_view_module_version": "1.2.0",
            "_view_name": "LayoutView",
            "align_content": null,
            "align_items": null,
            "align_self": null,
            "border": null,
            "bottom": null,
            "display": null,
            "flex": null,
            "flex_flow": null,
            "grid_area": null,
            "grid_auto_columns": null,
            "grid_auto_flow": null,
            "grid_auto_rows": null,
            "grid_column": null,
            "grid_gap": null,
            "grid_row": null,
            "grid_template_areas": null,
            "grid_template_columns": null,
            "grid_template_rows": null,
            "height": null,
            "justify_content": null,
            "justify_items": null,
            "left": null,
            "margin": null,
            "max_height": null,
            "max_width": null,
            "min_height": null,
            "min_width": null,
            "object_fit": null,
            "object_position": null,
            "order": null,
            "overflow": null,
            "overflow_x": null,
            "overflow_y": null,
            "padding": null,
            "right": null,
            "top": null,
            "visibility": null,
            "width": null
          }
        },
        "4b143cc84b9147b48c75c9ac1959397e": {
          "model_module": "@jupyter-widgets/base",
          "model_name": "LayoutModel",
          "model_module_version": "1.2.0",
          "state": {
            "_model_module": "@jupyter-widgets/base",
            "_model_module_version": "1.2.0",
            "_model_name": "LayoutModel",
            "_view_count": null,
            "_view_module": "@jupyter-widgets/base",
            "_view_module_version": "1.2.0",
            "_view_name": "LayoutView",
            "align_content": null,
            "align_items": null,
            "align_self": null,
            "border": null,
            "bottom": null,
            "display": null,
            "flex": null,
            "flex_flow": null,
            "grid_area": null,
            "grid_auto_columns": null,
            "grid_auto_flow": null,
            "grid_auto_rows": null,
            "grid_column": null,
            "grid_gap": null,
            "grid_row": null,
            "grid_template_areas": null,
            "grid_template_columns": null,
            "grid_template_rows": null,
            "height": null,
            "justify_content": null,
            "justify_items": null,
            "left": null,
            "margin": null,
            "max_height": null,
            "max_width": null,
            "min_height": null,
            "min_width": null,
            "object_fit": null,
            "object_position": null,
            "order": null,
            "overflow": null,
            "overflow_x": null,
            "overflow_y": null,
            "padding": null,
            "right": null,
            "top": null,
            "visibility": null,
            "width": null
          }
        },
        "fcccbf5682e24ae9a442a5f1df790038": {
          "model_module": "@jupyter-widgets/controls",
          "model_name": "DescriptionStyleModel",
          "model_module_version": "1.5.0",
          "state": {
            "_model_module": "@jupyter-widgets/controls",
            "_model_module_version": "1.5.0",
            "_model_name": "DescriptionStyleModel",
            "_view_count": null,
            "_view_module": "@jupyter-widgets/base",
            "_view_module_version": "1.2.0",
            "_view_name": "StyleView",
            "description_width": ""
          }
        },
        "0e7c9a00af464af9b78be80bb1398aed": {
          "model_module": "@jupyter-widgets/base",
          "model_name": "LayoutModel",
          "model_module_version": "1.2.0",
          "state": {
            "_model_module": "@jupyter-widgets/base",
            "_model_module_version": "1.2.0",
            "_model_name": "LayoutModel",
            "_view_count": null,
            "_view_module": "@jupyter-widgets/base",
            "_view_module_version": "1.2.0",
            "_view_name": "LayoutView",
            "align_content": null,
            "align_items": null,
            "align_self": null,
            "border": null,
            "bottom": null,
            "display": null,
            "flex": null,
            "flex_flow": null,
            "grid_area": null,
            "grid_auto_columns": null,
            "grid_auto_flow": null,
            "grid_auto_rows": null,
            "grid_column": null,
            "grid_gap": null,
            "grid_row": null,
            "grid_template_areas": null,
            "grid_template_columns": null,
            "grid_template_rows": null,
            "height": null,
            "justify_content": null,
            "justify_items": null,
            "left": null,
            "margin": null,
            "max_height": null,
            "max_width": null,
            "min_height": null,
            "min_width": null,
            "object_fit": null,
            "object_position": null,
            "order": null,
            "overflow": null,
            "overflow_x": null,
            "overflow_y": null,
            "padding": null,
            "right": null,
            "top": null,
            "visibility": null,
            "width": null
          }
        },
        "4d50aab0800144bc83a49a0d4a66445d": {
          "model_module": "@jupyter-widgets/controls",
          "model_name": "ProgressStyleModel",
          "model_module_version": "1.5.0",
          "state": {
            "_model_module": "@jupyter-widgets/controls",
            "_model_module_version": "1.5.0",
            "_model_name": "ProgressStyleModel",
            "_view_count": null,
            "_view_module": "@jupyter-widgets/base",
            "_view_module_version": "1.2.0",
            "_view_name": "StyleView",
            "bar_color": null,
            "description_width": ""
          }
        },
        "b25dcbc7e16648ea8543766eca271444": {
          "model_module": "@jupyter-widgets/base",
          "model_name": "LayoutModel",
          "model_module_version": "1.2.0",
          "state": {
            "_model_module": "@jupyter-widgets/base",
            "_model_module_version": "1.2.0",
            "_model_name": "LayoutModel",
            "_view_count": null,
            "_view_module": "@jupyter-widgets/base",
            "_view_module_version": "1.2.0",
            "_view_name": "LayoutView",
            "align_content": null,
            "align_items": null,
            "align_self": null,
            "border": null,
            "bottom": null,
            "display": null,
            "flex": null,
            "flex_flow": null,
            "grid_area": null,
            "grid_auto_columns": null,
            "grid_auto_flow": null,
            "grid_auto_rows": null,
            "grid_column": null,
            "grid_gap": null,
            "grid_row": null,
            "grid_template_areas": null,
            "grid_template_columns": null,
            "grid_template_rows": null,
            "height": null,
            "justify_content": null,
            "justify_items": null,
            "left": null,
            "margin": null,
            "max_height": null,
            "max_width": null,
            "min_height": null,
            "min_width": null,
            "object_fit": null,
            "object_position": null,
            "order": null,
            "overflow": null,
            "overflow_x": null,
            "overflow_y": null,
            "padding": null,
            "right": null,
            "top": null,
            "visibility": null,
            "width": null
          }
        },
        "f27749680bcd4b3d86105858f14b927f": {
          "model_module": "@jupyter-widgets/controls",
          "model_name": "DescriptionStyleModel",
          "model_module_version": "1.5.0",
          "state": {
            "_model_module": "@jupyter-widgets/controls",
            "_model_module_version": "1.5.0",
            "_model_name": "DescriptionStyleModel",
            "_view_count": null,
            "_view_module": "@jupyter-widgets/base",
            "_view_module_version": "1.2.0",
            "_view_name": "StyleView",
            "description_width": ""
          }
        },
        "06204dd036b94c748307e922e9e8bc1e": {
          "model_module": "@jupyter-widgets/controls",
          "model_name": "HBoxModel",
          "model_module_version": "1.5.0",
          "state": {
            "_dom_classes": [],
            "_model_module": "@jupyter-widgets/controls",
            "_model_module_version": "1.5.0",
            "_model_name": "HBoxModel",
            "_view_count": null,
            "_view_module": "@jupyter-widgets/controls",
            "_view_module_version": "1.5.0",
            "_view_name": "HBoxView",
            "box_style": "",
            "children": [
              "IPY_MODEL_51bcfe47ad1340cd83a3988d229e2e13",
              "IPY_MODEL_a69ea4d62a1648ee9ab169a1e555725f",
              "IPY_MODEL_8551db1f2bfb4e3dbb6c7291c7395ed0"
            ],
            "layout": "IPY_MODEL_e8c0af002e0e45d18094791fb5197a21"
          }
        },
        "51bcfe47ad1340cd83a3988d229e2e13": {
          "model_module": "@jupyter-widgets/controls",
          "model_name": "HTMLModel",
          "model_module_version": "1.5.0",
          "state": {
            "_dom_classes": [],
            "_model_module": "@jupyter-widgets/controls",
            "_model_module_version": "1.5.0",
            "_model_name": "HTMLModel",
            "_view_count": null,
            "_view_module": "@jupyter-widgets/controls",
            "_view_module_version": "1.5.0",
            "_view_name": "HTMLView",
            "description": "",
            "description_tooltip": null,
            "layout": "IPY_MODEL_c01925b590cc41f59abc13062845ea4b",
            "placeholder": "​",
            "style": "IPY_MODEL_7ee31faf84764a58b579867c409ddf48",
            "value": "Generating train split: "
          }
        },
        "a69ea4d62a1648ee9ab169a1e555725f": {
          "model_module": "@jupyter-widgets/controls",
          "model_name": "FloatProgressModel",
          "model_module_version": "1.5.0",
          "state": {
            "_dom_classes": [],
            "_model_module": "@jupyter-widgets/controls",
            "_model_module_version": "1.5.0",
            "_model_name": "FloatProgressModel",
            "_view_count": null,
            "_view_module": "@jupyter-widgets/controls",
            "_view_module_version": "1.5.0",
            "_view_name": "ProgressView",
            "bar_style": "info",
            "description": "",
            "description_tooltip": null,
            "layout": "IPY_MODEL_15762e77ff2147a8b3b68b217259549b",
            "max": 1,
            "min": 0,
            "orientation": "horizontal",
            "style": "IPY_MODEL_4037796b478a4b9f8e0421b8d7bb0f2d",
            "value": 1
          }
        },
        "8551db1f2bfb4e3dbb6c7291c7395ed0": {
          "model_module": "@jupyter-widgets/controls",
          "model_name": "HTMLModel",
          "model_module_version": "1.5.0",
          "state": {
            "_dom_classes": [],
            "_model_module": "@jupyter-widgets/controls",
            "_model_module_version": "1.5.0",
            "_model_name": "HTMLModel",
            "_view_count": null,
            "_view_module": "@jupyter-widgets/controls",
            "_view_module_version": "1.5.0",
            "_view_name": "HTMLView",
            "description": "",
            "description_tooltip": null,
            "layout": "IPY_MODEL_10cca608aa1445369f94fb37bb4595eb",
            "placeholder": "​",
            "style": "IPY_MODEL_5a70af5a0ab9457493f8bd8ea1f58acf",
            "value": " 8462/0 [00:00&lt;00:00, 28533.23 examples/s]"
          }
        },
        "e8c0af002e0e45d18094791fb5197a21": {
          "model_module": "@jupyter-widgets/base",
          "model_name": "LayoutModel",
          "model_module_version": "1.2.0",
          "state": {
            "_model_module": "@jupyter-widgets/base",
            "_model_module_version": "1.2.0",
            "_model_name": "LayoutModel",
            "_view_count": null,
            "_view_module": "@jupyter-widgets/base",
            "_view_module_version": "1.2.0",
            "_view_name": "LayoutView",
            "align_content": null,
            "align_items": null,
            "align_self": null,
            "border": null,
            "bottom": null,
            "display": null,
            "flex": null,
            "flex_flow": null,
            "grid_area": null,
            "grid_auto_columns": null,
            "grid_auto_flow": null,
            "grid_auto_rows": null,
            "grid_column": null,
            "grid_gap": null,
            "grid_row": null,
            "grid_template_areas": null,
            "grid_template_columns": null,
            "grid_template_rows": null,
            "height": null,
            "justify_content": null,
            "justify_items": null,
            "left": null,
            "margin": null,
            "max_height": null,
            "max_width": null,
            "min_height": null,
            "min_width": null,
            "object_fit": null,
            "object_position": null,
            "order": null,
            "overflow": null,
            "overflow_x": null,
            "overflow_y": null,
            "padding": null,
            "right": null,
            "top": null,
            "visibility": "hidden",
            "width": null
          }
        },
        "c01925b590cc41f59abc13062845ea4b": {
          "model_module": "@jupyter-widgets/base",
          "model_name": "LayoutModel",
          "model_module_version": "1.2.0",
          "state": {
            "_model_module": "@jupyter-widgets/base",
            "_model_module_version": "1.2.0",
            "_model_name": "LayoutModel",
            "_view_count": null,
            "_view_module": "@jupyter-widgets/base",
            "_view_module_version": "1.2.0",
            "_view_name": "LayoutView",
            "align_content": null,
            "align_items": null,
            "align_self": null,
            "border": null,
            "bottom": null,
            "display": null,
            "flex": null,
            "flex_flow": null,
            "grid_area": null,
            "grid_auto_columns": null,
            "grid_auto_flow": null,
            "grid_auto_rows": null,
            "grid_column": null,
            "grid_gap": null,
            "grid_row": null,
            "grid_template_areas": null,
            "grid_template_columns": null,
            "grid_template_rows": null,
            "height": null,
            "justify_content": null,
            "justify_items": null,
            "left": null,
            "margin": null,
            "max_height": null,
            "max_width": null,
            "min_height": null,
            "min_width": null,
            "object_fit": null,
            "object_position": null,
            "order": null,
            "overflow": null,
            "overflow_x": null,
            "overflow_y": null,
            "padding": null,
            "right": null,
            "top": null,
            "visibility": null,
            "width": null
          }
        },
        "7ee31faf84764a58b579867c409ddf48": {
          "model_module": "@jupyter-widgets/controls",
          "model_name": "DescriptionStyleModel",
          "model_module_version": "1.5.0",
          "state": {
            "_model_module": "@jupyter-widgets/controls",
            "_model_module_version": "1.5.0",
            "_model_name": "DescriptionStyleModel",
            "_view_count": null,
            "_view_module": "@jupyter-widgets/base",
            "_view_module_version": "1.2.0",
            "_view_name": "StyleView",
            "description_width": ""
          }
        },
        "15762e77ff2147a8b3b68b217259549b": {
          "model_module": "@jupyter-widgets/base",
          "model_name": "LayoutModel",
          "model_module_version": "1.2.0",
          "state": {
            "_model_module": "@jupyter-widgets/base",
            "_model_module_version": "1.2.0",
            "_model_name": "LayoutModel",
            "_view_count": null,
            "_view_module": "@jupyter-widgets/base",
            "_view_module_version": "1.2.0",
            "_view_name": "LayoutView",
            "align_content": null,
            "align_items": null,
            "align_self": null,
            "border": null,
            "bottom": null,
            "display": null,
            "flex": null,
            "flex_flow": null,
            "grid_area": null,
            "grid_auto_columns": null,
            "grid_auto_flow": null,
            "grid_auto_rows": null,
            "grid_column": null,
            "grid_gap": null,
            "grid_row": null,
            "grid_template_areas": null,
            "grid_template_columns": null,
            "grid_template_rows": null,
            "height": null,
            "justify_content": null,
            "justify_items": null,
            "left": null,
            "margin": null,
            "max_height": null,
            "max_width": null,
            "min_height": null,
            "min_width": null,
            "object_fit": null,
            "object_position": null,
            "order": null,
            "overflow": null,
            "overflow_x": null,
            "overflow_y": null,
            "padding": null,
            "right": null,
            "top": null,
            "visibility": null,
            "width": "20px"
          }
        },
        "4037796b478a4b9f8e0421b8d7bb0f2d": {
          "model_module": "@jupyter-widgets/controls",
          "model_name": "ProgressStyleModel",
          "model_module_version": "1.5.0",
          "state": {
            "_model_module": "@jupyter-widgets/controls",
            "_model_module_version": "1.5.0",
            "_model_name": "ProgressStyleModel",
            "_view_count": null,
            "_view_module": "@jupyter-widgets/base",
            "_view_module_version": "1.2.0",
            "_view_name": "StyleView",
            "bar_color": null,
            "description_width": ""
          }
        },
        "10cca608aa1445369f94fb37bb4595eb": {
          "model_module": "@jupyter-widgets/base",
          "model_name": "LayoutModel",
          "model_module_version": "1.2.0",
          "state": {
            "_model_module": "@jupyter-widgets/base",
            "_model_module_version": "1.2.0",
            "_model_name": "LayoutModel",
            "_view_count": null,
            "_view_module": "@jupyter-widgets/base",
            "_view_module_version": "1.2.0",
            "_view_name": "LayoutView",
            "align_content": null,
            "align_items": null,
            "align_self": null,
            "border": null,
            "bottom": null,
            "display": null,
            "flex": null,
            "flex_flow": null,
            "grid_area": null,
            "grid_auto_columns": null,
            "grid_auto_flow": null,
            "grid_auto_rows": null,
            "grid_column": null,
            "grid_gap": null,
            "grid_row": null,
            "grid_template_areas": null,
            "grid_template_columns": null,
            "grid_template_rows": null,
            "height": null,
            "justify_content": null,
            "justify_items": null,
            "left": null,
            "margin": null,
            "max_height": null,
            "max_width": null,
            "min_height": null,
            "min_width": null,
            "object_fit": null,
            "object_position": null,
            "order": null,
            "overflow": null,
            "overflow_x": null,
            "overflow_y": null,
            "padding": null,
            "right": null,
            "top": null,
            "visibility": null,
            "width": null
          }
        },
        "5a70af5a0ab9457493f8bd8ea1f58acf": {
          "model_module": "@jupyter-widgets/controls",
          "model_name": "DescriptionStyleModel",
          "model_module_version": "1.5.0",
          "state": {
            "_model_module": "@jupyter-widgets/controls",
            "_model_module_version": "1.5.0",
            "_model_name": "DescriptionStyleModel",
            "_view_count": null,
            "_view_module": "@jupyter-widgets/base",
            "_view_module_version": "1.2.0",
            "_view_name": "StyleView",
            "description_width": ""
          }
        },
        "1b52f194c4744e6f98eeda3cb514f956": {
          "model_module": "@jupyter-widgets/controls",
          "model_name": "HBoxModel",
          "model_module_version": "1.5.0",
          "state": {
            "_dom_classes": [],
            "_model_module": "@jupyter-widgets/controls",
            "_model_module_version": "1.5.0",
            "_model_name": "HBoxModel",
            "_view_count": null,
            "_view_module": "@jupyter-widgets/controls",
            "_view_module_version": "1.5.0",
            "_view_name": "HBoxView",
            "box_style": "",
            "children": [
              "IPY_MODEL_9676729bc55c4375beede1199ec5ebc0",
              "IPY_MODEL_6f70621d49e24a41bad834df8ef9d2d5",
              "IPY_MODEL_07cf52264c5a45e8b86f1252a2e4628c"
            ],
            "layout": "IPY_MODEL_e78421462d844d4ea3f75631ab4501af"
          }
        },
        "9676729bc55c4375beede1199ec5ebc0": {
          "model_module": "@jupyter-widgets/controls",
          "model_name": "HTMLModel",
          "model_module_version": "1.5.0",
          "state": {
            "_dom_classes": [],
            "_model_module": "@jupyter-widgets/controls",
            "_model_module_version": "1.5.0",
            "_model_name": "HTMLModel",
            "_view_count": null,
            "_view_module": "@jupyter-widgets/controls",
            "_view_module_version": "1.5.0",
            "_view_name": "HTMLView",
            "description": "",
            "description_tooltip": null,
            "layout": "IPY_MODEL_4a8d2869ce8f430ea502fc8a6ed05bcc",
            "placeholder": "​",
            "style": "IPY_MODEL_8d180dbffa344001a9e9af3109de9faf",
            "value": "100%"
          }
        },
        "6f70621d49e24a41bad834df8ef9d2d5": {
          "model_module": "@jupyter-widgets/controls",
          "model_name": "FloatProgressModel",
          "model_module_version": "1.5.0",
          "state": {
            "_dom_classes": [],
            "_model_module": "@jupyter-widgets/controls",
            "_model_module_version": "1.5.0",
            "_model_name": "FloatProgressModel",
            "_view_count": null,
            "_view_module": "@jupyter-widgets/controls",
            "_view_module_version": "1.5.0",
            "_view_name": "ProgressView",
            "bar_style": "success",
            "description": "",
            "description_tooltip": null,
            "layout": "IPY_MODEL_03a5f30aba4c422ca5e442d5eef3b204",
            "max": 1,
            "min": 0,
            "orientation": "horizontal",
            "style": "IPY_MODEL_7764b7423f3e48ed88174aa19e5dab88",
            "value": 1
          }
        },
        "07cf52264c5a45e8b86f1252a2e4628c": {
          "model_module": "@jupyter-widgets/controls",
          "model_name": "HTMLModel",
          "model_module_version": "1.5.0",
          "state": {
            "_dom_classes": [],
            "_model_module": "@jupyter-widgets/controls",
            "_model_module_version": "1.5.0",
            "_model_name": "HTMLModel",
            "_view_count": null,
            "_view_module": "@jupyter-widgets/controls",
            "_view_module_version": "1.5.0",
            "_view_name": "HTMLView",
            "description": "",
            "description_tooltip": null,
            "layout": "IPY_MODEL_2b6f91a5d4e94ed1af3e35a06d9c8d4d",
            "placeholder": "​",
            "style": "IPY_MODEL_e2614fd4d22b4373a53ae45ab8e7d992",
            "value": " 1/1 [00:00&lt;00:00, 56.33it/s]"
          }
        },
        "e78421462d844d4ea3f75631ab4501af": {
          "model_module": "@jupyter-widgets/base",
          "model_name": "LayoutModel",
          "model_module_version": "1.2.0",
          "state": {
            "_model_module": "@jupyter-widgets/base",
            "_model_module_version": "1.2.0",
            "_model_name": "LayoutModel",
            "_view_count": null,
            "_view_module": "@jupyter-widgets/base",
            "_view_module_version": "1.2.0",
            "_view_name": "LayoutView",
            "align_content": null,
            "align_items": null,
            "align_self": null,
            "border": null,
            "bottom": null,
            "display": null,
            "flex": null,
            "flex_flow": null,
            "grid_area": null,
            "grid_auto_columns": null,
            "grid_auto_flow": null,
            "grid_auto_rows": null,
            "grid_column": null,
            "grid_gap": null,
            "grid_row": null,
            "grid_template_areas": null,
            "grid_template_columns": null,
            "grid_template_rows": null,
            "height": null,
            "justify_content": null,
            "justify_items": null,
            "left": null,
            "margin": null,
            "max_height": null,
            "max_width": null,
            "min_height": null,
            "min_width": null,
            "object_fit": null,
            "object_position": null,
            "order": null,
            "overflow": null,
            "overflow_x": null,
            "overflow_y": null,
            "padding": null,
            "right": null,
            "top": null,
            "visibility": null,
            "width": null
          }
        },
        "4a8d2869ce8f430ea502fc8a6ed05bcc": {
          "model_module": "@jupyter-widgets/base",
          "model_name": "LayoutModel",
          "model_module_version": "1.2.0",
          "state": {
            "_model_module": "@jupyter-widgets/base",
            "_model_module_version": "1.2.0",
            "_model_name": "LayoutModel",
            "_view_count": null,
            "_view_module": "@jupyter-widgets/base",
            "_view_module_version": "1.2.0",
            "_view_name": "LayoutView",
            "align_content": null,
            "align_items": null,
            "align_self": null,
            "border": null,
            "bottom": null,
            "display": null,
            "flex": null,
            "flex_flow": null,
            "grid_area": null,
            "grid_auto_columns": null,
            "grid_auto_flow": null,
            "grid_auto_rows": null,
            "grid_column": null,
            "grid_gap": null,
            "grid_row": null,
            "grid_template_areas": null,
            "grid_template_columns": null,
            "grid_template_rows": null,
            "height": null,
            "justify_content": null,
            "justify_items": null,
            "left": null,
            "margin": null,
            "max_height": null,
            "max_width": null,
            "min_height": null,
            "min_width": null,
            "object_fit": null,
            "object_position": null,
            "order": null,
            "overflow": null,
            "overflow_x": null,
            "overflow_y": null,
            "padding": null,
            "right": null,
            "top": null,
            "visibility": null,
            "width": null
          }
        },
        "8d180dbffa344001a9e9af3109de9faf": {
          "model_module": "@jupyter-widgets/controls",
          "model_name": "DescriptionStyleModel",
          "model_module_version": "1.5.0",
          "state": {
            "_model_module": "@jupyter-widgets/controls",
            "_model_module_version": "1.5.0",
            "_model_name": "DescriptionStyleModel",
            "_view_count": null,
            "_view_module": "@jupyter-widgets/base",
            "_view_module_version": "1.2.0",
            "_view_name": "StyleView",
            "description_width": ""
          }
        },
        "03a5f30aba4c422ca5e442d5eef3b204": {
          "model_module": "@jupyter-widgets/base",
          "model_name": "LayoutModel",
          "model_module_version": "1.2.0",
          "state": {
            "_model_module": "@jupyter-widgets/base",
            "_model_module_version": "1.2.0",
            "_model_name": "LayoutModel",
            "_view_count": null,
            "_view_module": "@jupyter-widgets/base",
            "_view_module_version": "1.2.0",
            "_view_name": "LayoutView",
            "align_content": null,
            "align_items": null,
            "align_self": null,
            "border": null,
            "bottom": null,
            "display": null,
            "flex": null,
            "flex_flow": null,
            "grid_area": null,
            "grid_auto_columns": null,
            "grid_auto_flow": null,
            "grid_auto_rows": null,
            "grid_column": null,
            "grid_gap": null,
            "grid_row": null,
            "grid_template_areas": null,
            "grid_template_columns": null,
            "grid_template_rows": null,
            "height": null,
            "justify_content": null,
            "justify_items": null,
            "left": null,
            "margin": null,
            "max_height": null,
            "max_width": null,
            "min_height": null,
            "min_width": null,
            "object_fit": null,
            "object_position": null,
            "order": null,
            "overflow": null,
            "overflow_x": null,
            "overflow_y": null,
            "padding": null,
            "right": null,
            "top": null,
            "visibility": null,
            "width": null
          }
        },
        "7764b7423f3e48ed88174aa19e5dab88": {
          "model_module": "@jupyter-widgets/controls",
          "model_name": "ProgressStyleModel",
          "model_module_version": "1.5.0",
          "state": {
            "_model_module": "@jupyter-widgets/controls",
            "_model_module_version": "1.5.0",
            "_model_name": "ProgressStyleModel",
            "_view_count": null,
            "_view_module": "@jupyter-widgets/base",
            "_view_module_version": "1.2.0",
            "_view_name": "StyleView",
            "bar_color": null,
            "description_width": ""
          }
        },
        "2b6f91a5d4e94ed1af3e35a06d9c8d4d": {
          "model_module": "@jupyter-widgets/base",
          "model_name": "LayoutModel",
          "model_module_version": "1.2.0",
          "state": {
            "_model_module": "@jupyter-widgets/base",
            "_model_module_version": "1.2.0",
            "_model_name": "LayoutModel",
            "_view_count": null,
            "_view_module": "@jupyter-widgets/base",
            "_view_module_version": "1.2.0",
            "_view_name": "LayoutView",
            "align_content": null,
            "align_items": null,
            "align_self": null,
            "border": null,
            "bottom": null,
            "display": null,
            "flex": null,
            "flex_flow": null,
            "grid_area": null,
            "grid_auto_columns": null,
            "grid_auto_flow": null,
            "grid_auto_rows": null,
            "grid_column": null,
            "grid_gap": null,
            "grid_row": null,
            "grid_template_areas": null,
            "grid_template_columns": null,
            "grid_template_rows": null,
            "height": null,
            "justify_content": null,
            "justify_items": null,
            "left": null,
            "margin": null,
            "max_height": null,
            "max_width": null,
            "min_height": null,
            "min_width": null,
            "object_fit": null,
            "object_position": null,
            "order": null,
            "overflow": null,
            "overflow_x": null,
            "overflow_y": null,
            "padding": null,
            "right": null,
            "top": null,
            "visibility": null,
            "width": null
          }
        },
        "e2614fd4d22b4373a53ae45ab8e7d992": {
          "model_module": "@jupyter-widgets/controls",
          "model_name": "DescriptionStyleModel",
          "model_module_version": "1.5.0",
          "state": {
            "_model_module": "@jupyter-widgets/controls",
            "_model_module_version": "1.5.0",
            "_model_name": "DescriptionStyleModel",
            "_view_count": null,
            "_view_module": "@jupyter-widgets/base",
            "_view_module_version": "1.2.0",
            "_view_name": "StyleView",
            "description_width": ""
          }
        },
        "a68dcfd921a34fc199ebe5c6593a63ae": {
          "model_module": "@jupyter-widgets/controls",
          "model_name": "HBoxModel",
          "model_module_version": "1.5.0",
          "state": {
            "_dom_classes": [],
            "_model_module": "@jupyter-widgets/controls",
            "_model_module_version": "1.5.0",
            "_model_name": "HBoxModel",
            "_view_count": null,
            "_view_module": "@jupyter-widgets/controls",
            "_view_module_version": "1.5.0",
            "_view_name": "HBoxView",
            "box_style": "",
            "children": [
              "IPY_MODEL_77100463184d467cbbb8417fc127cbae",
              "IPY_MODEL_f09317c25b934f8b8193f95b5de1cb71",
              "IPY_MODEL_d515f2fd331e47189d22314b54908a5b"
            ],
            "layout": "IPY_MODEL_a8202dfd2c164824bee53fa451a7b4b4"
          }
        },
        "77100463184d467cbbb8417fc127cbae": {
          "model_module": "@jupyter-widgets/controls",
          "model_name": "HTMLModel",
          "model_module_version": "1.5.0",
          "state": {
            "_dom_classes": [],
            "_model_module": "@jupyter-widgets/controls",
            "_model_module_version": "1.5.0",
            "_model_name": "HTMLModel",
            "_view_count": null,
            "_view_module": "@jupyter-widgets/controls",
            "_view_module_version": "1.5.0",
            "_view_name": "HTMLView",
            "description": "",
            "description_tooltip": null,
            "layout": "IPY_MODEL_aa5de923b84a451abc0f6adc94d9970b",
            "placeholder": "​",
            "style": "IPY_MODEL_f9f32ffb328847eca9c005128ea05c93",
            "value": "Map:  85%"
          }
        },
        "f09317c25b934f8b8193f95b5de1cb71": {
          "model_module": "@jupyter-widgets/controls",
          "model_name": "FloatProgressModel",
          "model_module_version": "1.5.0",
          "state": {
            "_dom_classes": [],
            "_model_module": "@jupyter-widgets/controls",
            "_model_module_version": "1.5.0",
            "_model_name": "FloatProgressModel",
            "_view_count": null,
            "_view_module": "@jupyter-widgets/controls",
            "_view_module_version": "1.5.0",
            "_view_name": "ProgressView",
            "bar_style": "",
            "description": "",
            "description_tooltip": null,
            "layout": "IPY_MODEL_85f8b0162fff4a3f988c588fb8bf80c2",
            "max": 1178,
            "min": 0,
            "orientation": "horizontal",
            "style": "IPY_MODEL_3afb5151ebd0499889630d907e545cdd",
            "value": 1178
          }
        },
        "d515f2fd331e47189d22314b54908a5b": {
          "model_module": "@jupyter-widgets/controls",
          "model_name": "HTMLModel",
          "model_module_version": "1.5.0",
          "state": {
            "_dom_classes": [],
            "_model_module": "@jupyter-widgets/controls",
            "_model_module_version": "1.5.0",
            "_model_name": "HTMLModel",
            "_view_count": null,
            "_view_module": "@jupyter-widgets/controls",
            "_view_module_version": "1.5.0",
            "_view_name": "HTMLView",
            "description": "",
            "description_tooltip": null,
            "layout": "IPY_MODEL_638e715812b34872a36fd9928986dd81",
            "placeholder": "​",
            "style": "IPY_MODEL_ba8bc8a98dfc4e2ba82eeaed4fdaf1e8",
            "value": " 1000/1178 [00:00&lt;00:00, 3232.44 examples/s]"
          }
        },
        "a8202dfd2c164824bee53fa451a7b4b4": {
          "model_module": "@jupyter-widgets/base",
          "model_name": "LayoutModel",
          "model_module_version": "1.2.0",
          "state": {
            "_model_module": "@jupyter-widgets/base",
            "_model_module_version": "1.2.0",
            "_model_name": "LayoutModel",
            "_view_count": null,
            "_view_module": "@jupyter-widgets/base",
            "_view_module_version": "1.2.0",
            "_view_name": "LayoutView",
            "align_content": null,
            "align_items": null,
            "align_self": null,
            "border": null,
            "bottom": null,
            "display": null,
            "flex": null,
            "flex_flow": null,
            "grid_area": null,
            "grid_auto_columns": null,
            "grid_auto_flow": null,
            "grid_auto_rows": null,
            "grid_column": null,
            "grid_gap": null,
            "grid_row": null,
            "grid_template_areas": null,
            "grid_template_columns": null,
            "grid_template_rows": null,
            "height": null,
            "justify_content": null,
            "justify_items": null,
            "left": null,
            "margin": null,
            "max_height": null,
            "max_width": null,
            "min_height": null,
            "min_width": null,
            "object_fit": null,
            "object_position": null,
            "order": null,
            "overflow": null,
            "overflow_x": null,
            "overflow_y": null,
            "padding": null,
            "right": null,
            "top": null,
            "visibility": "hidden",
            "width": null
          }
        },
        "aa5de923b84a451abc0f6adc94d9970b": {
          "model_module": "@jupyter-widgets/base",
          "model_name": "LayoutModel",
          "model_module_version": "1.2.0",
          "state": {
            "_model_module": "@jupyter-widgets/base",
            "_model_module_version": "1.2.0",
            "_model_name": "LayoutModel",
            "_view_count": null,
            "_view_module": "@jupyter-widgets/base",
            "_view_module_version": "1.2.0",
            "_view_name": "LayoutView",
            "align_content": null,
            "align_items": null,
            "align_self": null,
            "border": null,
            "bottom": null,
            "display": null,
            "flex": null,
            "flex_flow": null,
            "grid_area": null,
            "grid_auto_columns": null,
            "grid_auto_flow": null,
            "grid_auto_rows": null,
            "grid_column": null,
            "grid_gap": null,
            "grid_row": null,
            "grid_template_areas": null,
            "grid_template_columns": null,
            "grid_template_rows": null,
            "height": null,
            "justify_content": null,
            "justify_items": null,
            "left": null,
            "margin": null,
            "max_height": null,
            "max_width": null,
            "min_height": null,
            "min_width": null,
            "object_fit": null,
            "object_position": null,
            "order": null,
            "overflow": null,
            "overflow_x": null,
            "overflow_y": null,
            "padding": null,
            "right": null,
            "top": null,
            "visibility": null,
            "width": null
          }
        },
        "f9f32ffb328847eca9c005128ea05c93": {
          "model_module": "@jupyter-widgets/controls",
          "model_name": "DescriptionStyleModel",
          "model_module_version": "1.5.0",
          "state": {
            "_model_module": "@jupyter-widgets/controls",
            "_model_module_version": "1.5.0",
            "_model_name": "DescriptionStyleModel",
            "_view_count": null,
            "_view_module": "@jupyter-widgets/base",
            "_view_module_version": "1.2.0",
            "_view_name": "StyleView",
            "description_width": ""
          }
        },
        "85f8b0162fff4a3f988c588fb8bf80c2": {
          "model_module": "@jupyter-widgets/base",
          "model_name": "LayoutModel",
          "model_module_version": "1.2.0",
          "state": {
            "_model_module": "@jupyter-widgets/base",
            "_model_module_version": "1.2.0",
            "_model_name": "LayoutModel",
            "_view_count": null,
            "_view_module": "@jupyter-widgets/base",
            "_view_module_version": "1.2.0",
            "_view_name": "LayoutView",
            "align_content": null,
            "align_items": null,
            "align_self": null,
            "border": null,
            "bottom": null,
            "display": null,
            "flex": null,
            "flex_flow": null,
            "grid_area": null,
            "grid_auto_columns": null,
            "grid_auto_flow": null,
            "grid_auto_rows": null,
            "grid_column": null,
            "grid_gap": null,
            "grid_row": null,
            "grid_template_areas": null,
            "grid_template_columns": null,
            "grid_template_rows": null,
            "height": null,
            "justify_content": null,
            "justify_items": null,
            "left": null,
            "margin": null,
            "max_height": null,
            "max_width": null,
            "min_height": null,
            "min_width": null,
            "object_fit": null,
            "object_position": null,
            "order": null,
            "overflow": null,
            "overflow_x": null,
            "overflow_y": null,
            "padding": null,
            "right": null,
            "top": null,
            "visibility": null,
            "width": null
          }
        },
        "3afb5151ebd0499889630d907e545cdd": {
          "model_module": "@jupyter-widgets/controls",
          "model_name": "ProgressStyleModel",
          "model_module_version": "1.5.0",
          "state": {
            "_model_module": "@jupyter-widgets/controls",
            "_model_module_version": "1.5.0",
            "_model_name": "ProgressStyleModel",
            "_view_count": null,
            "_view_module": "@jupyter-widgets/base",
            "_view_module_version": "1.2.0",
            "_view_name": "StyleView",
            "bar_color": null,
            "description_width": ""
          }
        },
        "638e715812b34872a36fd9928986dd81": {
          "model_module": "@jupyter-widgets/base",
          "model_name": "LayoutModel",
          "model_module_version": "1.2.0",
          "state": {
            "_model_module": "@jupyter-widgets/base",
            "_model_module_version": "1.2.0",
            "_model_name": "LayoutModel",
            "_view_count": null,
            "_view_module": "@jupyter-widgets/base",
            "_view_module_version": "1.2.0",
            "_view_name": "LayoutView",
            "align_content": null,
            "align_items": null,
            "align_self": null,
            "border": null,
            "bottom": null,
            "display": null,
            "flex": null,
            "flex_flow": null,
            "grid_area": null,
            "grid_auto_columns": null,
            "grid_auto_flow": null,
            "grid_auto_rows": null,
            "grid_column": null,
            "grid_gap": null,
            "grid_row": null,
            "grid_template_areas": null,
            "grid_template_columns": null,
            "grid_template_rows": null,
            "height": null,
            "justify_content": null,
            "justify_items": null,
            "left": null,
            "margin": null,
            "max_height": null,
            "max_width": null,
            "min_height": null,
            "min_width": null,
            "object_fit": null,
            "object_position": null,
            "order": null,
            "overflow": null,
            "overflow_x": null,
            "overflow_y": null,
            "padding": null,
            "right": null,
            "top": null,
            "visibility": null,
            "width": null
          }
        },
        "ba8bc8a98dfc4e2ba82eeaed4fdaf1e8": {
          "model_module": "@jupyter-widgets/controls",
          "model_name": "DescriptionStyleModel",
          "model_module_version": "1.5.0",
          "state": {
            "_model_module": "@jupyter-widgets/controls",
            "_model_module_version": "1.5.0",
            "_model_name": "DescriptionStyleModel",
            "_view_count": null,
            "_view_module": "@jupyter-widgets/base",
            "_view_module_version": "1.2.0",
            "_view_name": "StyleView",
            "description_width": ""
          }
        },
        "66834b758247457792142e06cb8c0051": {
          "model_module": "@jupyter-widgets/controls",
          "model_name": "HBoxModel",
          "model_module_version": "1.5.0",
          "state": {
            "_dom_classes": [],
            "_model_module": "@jupyter-widgets/controls",
            "_model_module_version": "1.5.0",
            "_model_name": "HBoxModel",
            "_view_count": null,
            "_view_module": "@jupyter-widgets/controls",
            "_view_module_version": "1.5.0",
            "_view_name": "HBoxView",
            "box_style": "",
            "children": [
              "IPY_MODEL_ff69b704419246ebb4d4426678bde0c7",
              "IPY_MODEL_16cbd275650b41c992c1fece6dc12f4a",
              "IPY_MODEL_773df498ae5d4cd8952aad57cd63f406"
            ],
            "layout": "IPY_MODEL_5265d91715954acf9bb4a811c6ca221a"
          }
        },
        "ff69b704419246ebb4d4426678bde0c7": {
          "model_module": "@jupyter-widgets/controls",
          "model_name": "HTMLModel",
          "model_module_version": "1.5.0",
          "state": {
            "_dom_classes": [],
            "_model_module": "@jupyter-widgets/controls",
            "_model_module_version": "1.5.0",
            "_model_name": "HTMLModel",
            "_view_count": null,
            "_view_module": "@jupyter-widgets/controls",
            "_view_module_version": "1.5.0",
            "_view_name": "HTMLView",
            "description": "",
            "description_tooltip": null,
            "layout": "IPY_MODEL_7a814ca65c8549639023c21c64367425",
            "placeholder": "​",
            "style": "IPY_MODEL_9a514740c7b54ec78dc1efc1c934529c",
            "value": "Map: 100%"
          }
        },
        "16cbd275650b41c992c1fece6dc12f4a": {
          "model_module": "@jupyter-widgets/controls",
          "model_name": "FloatProgressModel",
          "model_module_version": "1.5.0",
          "state": {
            "_dom_classes": [],
            "_model_module": "@jupyter-widgets/controls",
            "_model_module_version": "1.5.0",
            "_model_name": "FloatProgressModel",
            "_view_count": null,
            "_view_module": "@jupyter-widgets/controls",
            "_view_module_version": "1.5.0",
            "_view_name": "ProgressView",
            "bar_style": "",
            "description": "",
            "description_tooltip": null,
            "layout": "IPY_MODEL_1726acce00ba49d8a6b6727bd936e3bb",
            "max": 606,
            "min": 0,
            "orientation": "horizontal",
            "style": "IPY_MODEL_e1144d8d968c4d0092a0e93c34bee775",
            "value": 606
          }
        },
        "773df498ae5d4cd8952aad57cd63f406": {
          "model_module": "@jupyter-widgets/controls",
          "model_name": "HTMLModel",
          "model_module_version": "1.5.0",
          "state": {
            "_dom_classes": [],
            "_model_module": "@jupyter-widgets/controls",
            "_model_module_version": "1.5.0",
            "_model_name": "HTMLModel",
            "_view_count": null,
            "_view_module": "@jupyter-widgets/controls",
            "_view_module_version": "1.5.0",
            "_view_name": "HTMLView",
            "description": "",
            "description_tooltip": null,
            "layout": "IPY_MODEL_2d8af7b56c10445f81881b7a5206bda5",
            "placeholder": "​",
            "style": "IPY_MODEL_9f01255998e04737b557868d47a768ee",
            "value": " 606/606 [00:00&lt;00:00, 3672.24 examples/s]"
          }
        },
        "5265d91715954acf9bb4a811c6ca221a": {
          "model_module": "@jupyter-widgets/base",
          "model_name": "LayoutModel",
          "model_module_version": "1.2.0",
          "state": {
            "_model_module": "@jupyter-widgets/base",
            "_model_module_version": "1.2.0",
            "_model_name": "LayoutModel",
            "_view_count": null,
            "_view_module": "@jupyter-widgets/base",
            "_view_module_version": "1.2.0",
            "_view_name": "LayoutView",
            "align_content": null,
            "align_items": null,
            "align_self": null,
            "border": null,
            "bottom": null,
            "display": null,
            "flex": null,
            "flex_flow": null,
            "grid_area": null,
            "grid_auto_columns": null,
            "grid_auto_flow": null,
            "grid_auto_rows": null,
            "grid_column": null,
            "grid_gap": null,
            "grid_row": null,
            "grid_template_areas": null,
            "grid_template_columns": null,
            "grid_template_rows": null,
            "height": null,
            "justify_content": null,
            "justify_items": null,
            "left": null,
            "margin": null,
            "max_height": null,
            "max_width": null,
            "min_height": null,
            "min_width": null,
            "object_fit": null,
            "object_position": null,
            "order": null,
            "overflow": null,
            "overflow_x": null,
            "overflow_y": null,
            "padding": null,
            "right": null,
            "top": null,
            "visibility": "hidden",
            "width": null
          }
        },
        "7a814ca65c8549639023c21c64367425": {
          "model_module": "@jupyter-widgets/base",
          "model_name": "LayoutModel",
          "model_module_version": "1.2.0",
          "state": {
            "_model_module": "@jupyter-widgets/base",
            "_model_module_version": "1.2.0",
            "_model_name": "LayoutModel",
            "_view_count": null,
            "_view_module": "@jupyter-widgets/base",
            "_view_module_version": "1.2.0",
            "_view_name": "LayoutView",
            "align_content": null,
            "align_items": null,
            "align_self": null,
            "border": null,
            "bottom": null,
            "display": null,
            "flex": null,
            "flex_flow": null,
            "grid_area": null,
            "grid_auto_columns": null,
            "grid_auto_flow": null,
            "grid_auto_rows": null,
            "grid_column": null,
            "grid_gap": null,
            "grid_row": null,
            "grid_template_areas": null,
            "grid_template_columns": null,
            "grid_template_rows": null,
            "height": null,
            "justify_content": null,
            "justify_items": null,
            "left": null,
            "margin": null,
            "max_height": null,
            "max_width": null,
            "min_height": null,
            "min_width": null,
            "object_fit": null,
            "object_position": null,
            "order": null,
            "overflow": null,
            "overflow_x": null,
            "overflow_y": null,
            "padding": null,
            "right": null,
            "top": null,
            "visibility": null,
            "width": null
          }
        },
        "9a514740c7b54ec78dc1efc1c934529c": {
          "model_module": "@jupyter-widgets/controls",
          "model_name": "DescriptionStyleModel",
          "model_module_version": "1.5.0",
          "state": {
            "_model_module": "@jupyter-widgets/controls",
            "_model_module_version": "1.5.0",
            "_model_name": "DescriptionStyleModel",
            "_view_count": null,
            "_view_module": "@jupyter-widgets/base",
            "_view_module_version": "1.2.0",
            "_view_name": "StyleView",
            "description_width": ""
          }
        },
        "1726acce00ba49d8a6b6727bd936e3bb": {
          "model_module": "@jupyter-widgets/base",
          "model_name": "LayoutModel",
          "model_module_version": "1.2.0",
          "state": {
            "_model_module": "@jupyter-widgets/base",
            "_model_module_version": "1.2.0",
            "_model_name": "LayoutModel",
            "_view_count": null,
            "_view_module": "@jupyter-widgets/base",
            "_view_module_version": "1.2.0",
            "_view_name": "LayoutView",
            "align_content": null,
            "align_items": null,
            "align_self": null,
            "border": null,
            "bottom": null,
            "display": null,
            "flex": null,
            "flex_flow": null,
            "grid_area": null,
            "grid_auto_columns": null,
            "grid_auto_flow": null,
            "grid_auto_rows": null,
            "grid_column": null,
            "grid_gap": null,
            "grid_row": null,
            "grid_template_areas": null,
            "grid_template_columns": null,
            "grid_template_rows": null,
            "height": null,
            "justify_content": null,
            "justify_items": null,
            "left": null,
            "margin": null,
            "max_height": null,
            "max_width": null,
            "min_height": null,
            "min_width": null,
            "object_fit": null,
            "object_position": null,
            "order": null,
            "overflow": null,
            "overflow_x": null,
            "overflow_y": null,
            "padding": null,
            "right": null,
            "top": null,
            "visibility": null,
            "width": null
          }
        },
        "e1144d8d968c4d0092a0e93c34bee775": {
          "model_module": "@jupyter-widgets/controls",
          "model_name": "ProgressStyleModel",
          "model_module_version": "1.5.0",
          "state": {
            "_model_module": "@jupyter-widgets/controls",
            "_model_module_version": "1.5.0",
            "_model_name": "ProgressStyleModel",
            "_view_count": null,
            "_view_module": "@jupyter-widgets/base",
            "_view_module_version": "1.2.0",
            "_view_name": "StyleView",
            "bar_color": null,
            "description_width": ""
          }
        },
        "2d8af7b56c10445f81881b7a5206bda5": {
          "model_module": "@jupyter-widgets/base",
          "model_name": "LayoutModel",
          "model_module_version": "1.2.0",
          "state": {
            "_model_module": "@jupyter-widgets/base",
            "_model_module_version": "1.2.0",
            "_model_name": "LayoutModel",
            "_view_count": null,
            "_view_module": "@jupyter-widgets/base",
            "_view_module_version": "1.2.0",
            "_view_name": "LayoutView",
            "align_content": null,
            "align_items": null,
            "align_self": null,
            "border": null,
            "bottom": null,
            "display": null,
            "flex": null,
            "flex_flow": null,
            "grid_area": null,
            "grid_auto_columns": null,
            "grid_auto_flow": null,
            "grid_auto_rows": null,
            "grid_column": null,
            "grid_gap": null,
            "grid_row": null,
            "grid_template_areas": null,
            "grid_template_columns": null,
            "grid_template_rows": null,
            "height": null,
            "justify_content": null,
            "justify_items": null,
            "left": null,
            "margin": null,
            "max_height": null,
            "max_width": null,
            "min_height": null,
            "min_width": null,
            "object_fit": null,
            "object_position": null,
            "order": null,
            "overflow": null,
            "overflow_x": null,
            "overflow_y": null,
            "padding": null,
            "right": null,
            "top": null,
            "visibility": null,
            "width": null
          }
        },
        "9f01255998e04737b557868d47a768ee": {
          "model_module": "@jupyter-widgets/controls",
          "model_name": "DescriptionStyleModel",
          "model_module_version": "1.5.0",
          "state": {
            "_model_module": "@jupyter-widgets/controls",
            "_model_module_version": "1.5.0",
            "_model_name": "DescriptionStyleModel",
            "_view_count": null,
            "_view_module": "@jupyter-widgets/base",
            "_view_module_version": "1.2.0",
            "_view_name": "StyleView",
            "description_width": ""
          }
        },
        "d83eaaccd95e40fcb49d5eee01c2af58": {
          "model_module": "@jupyter-widgets/controls",
          "model_name": "HBoxModel",
          "model_module_version": "1.5.0",
          "state": {
            "_dom_classes": [],
            "_model_module": "@jupyter-widgets/controls",
            "_model_module_version": "1.5.0",
            "_model_name": "HBoxModel",
            "_view_count": null,
            "_view_module": "@jupyter-widgets/controls",
            "_view_module_version": "1.5.0",
            "_view_name": "HBoxView",
            "box_style": "",
            "children": [
              "IPY_MODEL_8d4a2b1dd1da450697857b5b7c4a229f",
              "IPY_MODEL_909b0d079a514c87a19396f6576aaf98",
              "IPY_MODEL_95eab323b67d498184c6dfe3630d9a7b"
            ],
            "layout": "IPY_MODEL_c12f430c519042ad838e5ed14ac665b0"
          }
        },
        "8d4a2b1dd1da450697857b5b7c4a229f": {
          "model_module": "@jupyter-widgets/controls",
          "model_name": "HTMLModel",
          "model_module_version": "1.5.0",
          "state": {
            "_dom_classes": [],
            "_model_module": "@jupyter-widgets/controls",
            "_model_module_version": "1.5.0",
            "_model_name": "HTMLModel",
            "_view_count": null,
            "_view_module": "@jupyter-widgets/controls",
            "_view_module_version": "1.5.0",
            "_view_name": "HTMLView",
            "description": "",
            "description_tooltip": null,
            "layout": "IPY_MODEL_40e1c3ea89dc42a592b267b042eff76e",
            "placeholder": "​",
            "style": "IPY_MODEL_d060410b2c1e448abc0975fd2db13534",
            "value": "Map:  81%"
          }
        },
        "909b0d079a514c87a19396f6576aaf98": {
          "model_module": "@jupyter-widgets/controls",
          "model_name": "FloatProgressModel",
          "model_module_version": "1.5.0",
          "state": {
            "_dom_classes": [],
            "_model_module": "@jupyter-widgets/controls",
            "_model_module_version": "1.5.0",
            "_model_name": "FloatProgressModel",
            "_view_count": null,
            "_view_module": "@jupyter-widgets/controls",
            "_view_module_version": "1.5.0",
            "_view_name": "ProgressView",
            "bar_style": "",
            "description": "",
            "description_tooltip": null,
            "layout": "IPY_MODEL_82df681f7f7c4e179f0b4bde76f0bc3d",
            "max": 1178,
            "min": 0,
            "orientation": "horizontal",
            "style": "IPY_MODEL_6273455f7d324f03bef3422f144b4e3e",
            "value": 1178
          }
        },
        "95eab323b67d498184c6dfe3630d9a7b": {
          "model_module": "@jupyter-widgets/controls",
          "model_name": "HTMLModel",
          "model_module_version": "1.5.0",
          "state": {
            "_dom_classes": [],
            "_model_module": "@jupyter-widgets/controls",
            "_model_module_version": "1.5.0",
            "_model_name": "HTMLModel",
            "_view_count": null,
            "_view_module": "@jupyter-widgets/controls",
            "_view_module_version": "1.5.0",
            "_view_name": "HTMLView",
            "description": "",
            "description_tooltip": null,
            "layout": "IPY_MODEL_c2edfe5476b14bba9cf1229e65c38e9c",
            "placeholder": "​",
            "style": "IPY_MODEL_da26715d442e4565bba6d7f811ab25b1",
            "value": " 951/1178 [00:00&lt;00:00, 3071.02 examples/s]"
          }
        },
        "c12f430c519042ad838e5ed14ac665b0": {
          "model_module": "@jupyter-widgets/base",
          "model_name": "LayoutModel",
          "model_module_version": "1.2.0",
          "state": {
            "_model_module": "@jupyter-widgets/base",
            "_model_module_version": "1.2.0",
            "_model_name": "LayoutModel",
            "_view_count": null,
            "_view_module": "@jupyter-widgets/base",
            "_view_module_version": "1.2.0",
            "_view_name": "LayoutView",
            "align_content": null,
            "align_items": null,
            "align_self": null,
            "border": null,
            "bottom": null,
            "display": null,
            "flex": null,
            "flex_flow": null,
            "grid_area": null,
            "grid_auto_columns": null,
            "grid_auto_flow": null,
            "grid_auto_rows": null,
            "grid_column": null,
            "grid_gap": null,
            "grid_row": null,
            "grid_template_areas": null,
            "grid_template_columns": null,
            "grid_template_rows": null,
            "height": null,
            "justify_content": null,
            "justify_items": null,
            "left": null,
            "margin": null,
            "max_height": null,
            "max_width": null,
            "min_height": null,
            "min_width": null,
            "object_fit": null,
            "object_position": null,
            "order": null,
            "overflow": null,
            "overflow_x": null,
            "overflow_y": null,
            "padding": null,
            "right": null,
            "top": null,
            "visibility": "hidden",
            "width": null
          }
        },
        "40e1c3ea89dc42a592b267b042eff76e": {
          "model_module": "@jupyter-widgets/base",
          "model_name": "LayoutModel",
          "model_module_version": "1.2.0",
          "state": {
            "_model_module": "@jupyter-widgets/base",
            "_model_module_version": "1.2.0",
            "_model_name": "LayoutModel",
            "_view_count": null,
            "_view_module": "@jupyter-widgets/base",
            "_view_module_version": "1.2.0",
            "_view_name": "LayoutView",
            "align_content": null,
            "align_items": null,
            "align_self": null,
            "border": null,
            "bottom": null,
            "display": null,
            "flex": null,
            "flex_flow": null,
            "grid_area": null,
            "grid_auto_columns": null,
            "grid_auto_flow": null,
            "grid_auto_rows": null,
            "grid_column": null,
            "grid_gap": null,
            "grid_row": null,
            "grid_template_areas": null,
            "grid_template_columns": null,
            "grid_template_rows": null,
            "height": null,
            "justify_content": null,
            "justify_items": null,
            "left": null,
            "margin": null,
            "max_height": null,
            "max_width": null,
            "min_height": null,
            "min_width": null,
            "object_fit": null,
            "object_position": null,
            "order": null,
            "overflow": null,
            "overflow_x": null,
            "overflow_y": null,
            "padding": null,
            "right": null,
            "top": null,
            "visibility": null,
            "width": null
          }
        },
        "d060410b2c1e448abc0975fd2db13534": {
          "model_module": "@jupyter-widgets/controls",
          "model_name": "DescriptionStyleModel",
          "model_module_version": "1.5.0",
          "state": {
            "_model_module": "@jupyter-widgets/controls",
            "_model_module_version": "1.5.0",
            "_model_name": "DescriptionStyleModel",
            "_view_count": null,
            "_view_module": "@jupyter-widgets/base",
            "_view_module_version": "1.2.0",
            "_view_name": "StyleView",
            "description_width": ""
          }
        },
        "82df681f7f7c4e179f0b4bde76f0bc3d": {
          "model_module": "@jupyter-widgets/base",
          "model_name": "LayoutModel",
          "model_module_version": "1.2.0",
          "state": {
            "_model_module": "@jupyter-widgets/base",
            "_model_module_version": "1.2.0",
            "_model_name": "LayoutModel",
            "_view_count": null,
            "_view_module": "@jupyter-widgets/base",
            "_view_module_version": "1.2.0",
            "_view_name": "LayoutView",
            "align_content": null,
            "align_items": null,
            "align_self": null,
            "border": null,
            "bottom": null,
            "display": null,
            "flex": null,
            "flex_flow": null,
            "grid_area": null,
            "grid_auto_columns": null,
            "grid_auto_flow": null,
            "grid_auto_rows": null,
            "grid_column": null,
            "grid_gap": null,
            "grid_row": null,
            "grid_template_areas": null,
            "grid_template_columns": null,
            "grid_template_rows": null,
            "height": null,
            "justify_content": null,
            "justify_items": null,
            "left": null,
            "margin": null,
            "max_height": null,
            "max_width": null,
            "min_height": null,
            "min_width": null,
            "object_fit": null,
            "object_position": null,
            "order": null,
            "overflow": null,
            "overflow_x": null,
            "overflow_y": null,
            "padding": null,
            "right": null,
            "top": null,
            "visibility": null,
            "width": null
          }
        },
        "6273455f7d324f03bef3422f144b4e3e": {
          "model_module": "@jupyter-widgets/controls",
          "model_name": "ProgressStyleModel",
          "model_module_version": "1.5.0",
          "state": {
            "_model_module": "@jupyter-widgets/controls",
            "_model_module_version": "1.5.0",
            "_model_name": "ProgressStyleModel",
            "_view_count": null,
            "_view_module": "@jupyter-widgets/base",
            "_view_module_version": "1.2.0",
            "_view_name": "StyleView",
            "bar_color": null,
            "description_width": ""
          }
        },
        "c2edfe5476b14bba9cf1229e65c38e9c": {
          "model_module": "@jupyter-widgets/base",
          "model_name": "LayoutModel",
          "model_module_version": "1.2.0",
          "state": {
            "_model_module": "@jupyter-widgets/base",
            "_model_module_version": "1.2.0",
            "_model_name": "LayoutModel",
            "_view_count": null,
            "_view_module": "@jupyter-widgets/base",
            "_view_module_version": "1.2.0",
            "_view_name": "LayoutView",
            "align_content": null,
            "align_items": null,
            "align_self": null,
            "border": null,
            "bottom": null,
            "display": null,
            "flex": null,
            "flex_flow": null,
            "grid_area": null,
            "grid_auto_columns": null,
            "grid_auto_flow": null,
            "grid_auto_rows": null,
            "grid_column": null,
            "grid_gap": null,
            "grid_row": null,
            "grid_template_areas": null,
            "grid_template_columns": null,
            "grid_template_rows": null,
            "height": null,
            "justify_content": null,
            "justify_items": null,
            "left": null,
            "margin": null,
            "max_height": null,
            "max_width": null,
            "min_height": null,
            "min_width": null,
            "object_fit": null,
            "object_position": null,
            "order": null,
            "overflow": null,
            "overflow_x": null,
            "overflow_y": null,
            "padding": null,
            "right": null,
            "top": null,
            "visibility": null,
            "width": null
          }
        },
        "da26715d442e4565bba6d7f811ab25b1": {
          "model_module": "@jupyter-widgets/controls",
          "model_name": "DescriptionStyleModel",
          "model_module_version": "1.5.0",
          "state": {
            "_model_module": "@jupyter-widgets/controls",
            "_model_module_version": "1.5.0",
            "_model_name": "DescriptionStyleModel",
            "_view_count": null,
            "_view_module": "@jupyter-widgets/base",
            "_view_module_version": "1.2.0",
            "_view_name": "StyleView",
            "description_width": ""
          }
        },
        "fa909fc82dcb4c5a962e0073af97d269": {
          "model_module": "@jupyter-widgets/controls",
          "model_name": "HBoxModel",
          "model_module_version": "1.5.0",
          "state": {
            "_dom_classes": [],
            "_model_module": "@jupyter-widgets/controls",
            "_model_module_version": "1.5.0",
            "_model_name": "HBoxModel",
            "_view_count": null,
            "_view_module": "@jupyter-widgets/controls",
            "_view_module_version": "1.5.0",
            "_view_name": "HBoxView",
            "box_style": "",
            "children": [
              "IPY_MODEL_1ee619d33d324c62b7189058bada6eba",
              "IPY_MODEL_54334e18ed1b4a7fb3e166d11aefb2c1",
              "IPY_MODEL_724bf75e0a894278a8d63f974c649786"
            ],
            "layout": "IPY_MODEL_b8c9caad92fe4f59b8af5adcd85aa8cc"
          }
        },
        "1ee619d33d324c62b7189058bada6eba": {
          "model_module": "@jupyter-widgets/controls",
          "model_name": "HTMLModel",
          "model_module_version": "1.5.0",
          "state": {
            "_dom_classes": [],
            "_model_module": "@jupyter-widgets/controls",
            "_model_module_version": "1.5.0",
            "_model_name": "HTMLModel",
            "_view_count": null,
            "_view_module": "@jupyter-widgets/controls",
            "_view_module_version": "1.5.0",
            "_view_name": "HTMLView",
            "description": "",
            "description_tooltip": null,
            "layout": "IPY_MODEL_eadc0dc29a9d411dac10ba499c1bcebd",
            "placeholder": "​",
            "style": "IPY_MODEL_8e67e4cffb82454cad020521f9f6a7ce",
            "value": "Map: 100%"
          }
        },
        "54334e18ed1b4a7fb3e166d11aefb2c1": {
          "model_module": "@jupyter-widgets/controls",
          "model_name": "FloatProgressModel",
          "model_module_version": "1.5.0",
          "state": {
            "_dom_classes": [],
            "_model_module": "@jupyter-widgets/controls",
            "_model_module_version": "1.5.0",
            "_model_name": "FloatProgressModel",
            "_view_count": null,
            "_view_module": "@jupyter-widgets/controls",
            "_view_module_version": "1.5.0",
            "_view_name": "ProgressView",
            "bar_style": "",
            "description": "",
            "description_tooltip": null,
            "layout": "IPY_MODEL_ffe5e8fe68154f88a48f13e5724618df",
            "max": 606,
            "min": 0,
            "orientation": "horizontal",
            "style": "IPY_MODEL_145d951dd7da42c8acdd8da23983b35e",
            "value": 606
          }
        },
        "724bf75e0a894278a8d63f974c649786": {
          "model_module": "@jupyter-widgets/controls",
          "model_name": "HTMLModel",
          "model_module_version": "1.5.0",
          "state": {
            "_dom_classes": [],
            "_model_module": "@jupyter-widgets/controls",
            "_model_module_version": "1.5.0",
            "_model_name": "HTMLModel",
            "_view_count": null,
            "_view_module": "@jupyter-widgets/controls",
            "_view_module_version": "1.5.0",
            "_view_name": "HTMLView",
            "description": "",
            "description_tooltip": null,
            "layout": "IPY_MODEL_70889f6bba1a4776a9e42cda456e6cdb",
            "placeholder": "​",
            "style": "IPY_MODEL_aba17536643c43159d66bd60303a3683",
            "value": " 606/606 [00:00&lt;00:00, 2715.22 examples/s]"
          }
        },
        "b8c9caad92fe4f59b8af5adcd85aa8cc": {
          "model_module": "@jupyter-widgets/base",
          "model_name": "LayoutModel",
          "model_module_version": "1.2.0",
          "state": {
            "_model_module": "@jupyter-widgets/base",
            "_model_module_version": "1.2.0",
            "_model_name": "LayoutModel",
            "_view_count": null,
            "_view_module": "@jupyter-widgets/base",
            "_view_module_version": "1.2.0",
            "_view_name": "LayoutView",
            "align_content": null,
            "align_items": null,
            "align_self": null,
            "border": null,
            "bottom": null,
            "display": null,
            "flex": null,
            "flex_flow": null,
            "grid_area": null,
            "grid_auto_columns": null,
            "grid_auto_flow": null,
            "grid_auto_rows": null,
            "grid_column": null,
            "grid_gap": null,
            "grid_row": null,
            "grid_template_areas": null,
            "grid_template_columns": null,
            "grid_template_rows": null,
            "height": null,
            "justify_content": null,
            "justify_items": null,
            "left": null,
            "margin": null,
            "max_height": null,
            "max_width": null,
            "min_height": null,
            "min_width": null,
            "object_fit": null,
            "object_position": null,
            "order": null,
            "overflow": null,
            "overflow_x": null,
            "overflow_y": null,
            "padding": null,
            "right": null,
            "top": null,
            "visibility": "hidden",
            "width": null
          }
        },
        "eadc0dc29a9d411dac10ba499c1bcebd": {
          "model_module": "@jupyter-widgets/base",
          "model_name": "LayoutModel",
          "model_module_version": "1.2.0",
          "state": {
            "_model_module": "@jupyter-widgets/base",
            "_model_module_version": "1.2.0",
            "_model_name": "LayoutModel",
            "_view_count": null,
            "_view_module": "@jupyter-widgets/base",
            "_view_module_version": "1.2.0",
            "_view_name": "LayoutView",
            "align_content": null,
            "align_items": null,
            "align_self": null,
            "border": null,
            "bottom": null,
            "display": null,
            "flex": null,
            "flex_flow": null,
            "grid_area": null,
            "grid_auto_columns": null,
            "grid_auto_flow": null,
            "grid_auto_rows": null,
            "grid_column": null,
            "grid_gap": null,
            "grid_row": null,
            "grid_template_areas": null,
            "grid_template_columns": null,
            "grid_template_rows": null,
            "height": null,
            "justify_content": null,
            "justify_items": null,
            "left": null,
            "margin": null,
            "max_height": null,
            "max_width": null,
            "min_height": null,
            "min_width": null,
            "object_fit": null,
            "object_position": null,
            "order": null,
            "overflow": null,
            "overflow_x": null,
            "overflow_y": null,
            "padding": null,
            "right": null,
            "top": null,
            "visibility": null,
            "width": null
          }
        },
        "8e67e4cffb82454cad020521f9f6a7ce": {
          "model_module": "@jupyter-widgets/controls",
          "model_name": "DescriptionStyleModel",
          "model_module_version": "1.5.0",
          "state": {
            "_model_module": "@jupyter-widgets/controls",
            "_model_module_version": "1.5.0",
            "_model_name": "DescriptionStyleModel",
            "_view_count": null,
            "_view_module": "@jupyter-widgets/base",
            "_view_module_version": "1.2.0",
            "_view_name": "StyleView",
            "description_width": ""
          }
        },
        "ffe5e8fe68154f88a48f13e5724618df": {
          "model_module": "@jupyter-widgets/base",
          "model_name": "LayoutModel",
          "model_module_version": "1.2.0",
          "state": {
            "_model_module": "@jupyter-widgets/base",
            "_model_module_version": "1.2.0",
            "_model_name": "LayoutModel",
            "_view_count": null,
            "_view_module": "@jupyter-widgets/base",
            "_view_module_version": "1.2.0",
            "_view_name": "LayoutView",
            "align_content": null,
            "align_items": null,
            "align_self": null,
            "border": null,
            "bottom": null,
            "display": null,
            "flex": null,
            "flex_flow": null,
            "grid_area": null,
            "grid_auto_columns": null,
            "grid_auto_flow": null,
            "grid_auto_rows": null,
            "grid_column": null,
            "grid_gap": null,
            "grid_row": null,
            "grid_template_areas": null,
            "grid_template_columns": null,
            "grid_template_rows": null,
            "height": null,
            "justify_content": null,
            "justify_items": null,
            "left": null,
            "margin": null,
            "max_height": null,
            "max_width": null,
            "min_height": null,
            "min_width": null,
            "object_fit": null,
            "object_position": null,
            "order": null,
            "overflow": null,
            "overflow_x": null,
            "overflow_y": null,
            "padding": null,
            "right": null,
            "top": null,
            "visibility": null,
            "width": null
          }
        },
        "145d951dd7da42c8acdd8da23983b35e": {
          "model_module": "@jupyter-widgets/controls",
          "model_name": "ProgressStyleModel",
          "model_module_version": "1.5.0",
          "state": {
            "_model_module": "@jupyter-widgets/controls",
            "_model_module_version": "1.5.0",
            "_model_name": "ProgressStyleModel",
            "_view_count": null,
            "_view_module": "@jupyter-widgets/base",
            "_view_module_version": "1.2.0",
            "_view_name": "StyleView",
            "bar_color": null,
            "description_width": ""
          }
        },
        "70889f6bba1a4776a9e42cda456e6cdb": {
          "model_module": "@jupyter-widgets/base",
          "model_name": "LayoutModel",
          "model_module_version": "1.2.0",
          "state": {
            "_model_module": "@jupyter-widgets/base",
            "_model_module_version": "1.2.0",
            "_model_name": "LayoutModel",
            "_view_count": null,
            "_view_module": "@jupyter-widgets/base",
            "_view_module_version": "1.2.0",
            "_view_name": "LayoutView",
            "align_content": null,
            "align_items": null,
            "align_self": null,
            "border": null,
            "bottom": null,
            "display": null,
            "flex": null,
            "flex_flow": null,
            "grid_area": null,
            "grid_auto_columns": null,
            "grid_auto_flow": null,
            "grid_auto_rows": null,
            "grid_column": null,
            "grid_gap": null,
            "grid_row": null,
            "grid_template_areas": null,
            "grid_template_columns": null,
            "grid_template_rows": null,
            "height": null,
            "justify_content": null,
            "justify_items": null,
            "left": null,
            "margin": null,
            "max_height": null,
            "max_width": null,
            "min_height": null,
            "min_width": null,
            "object_fit": null,
            "object_position": null,
            "order": null,
            "overflow": null,
            "overflow_x": null,
            "overflow_y": null,
            "padding": null,
            "right": null,
            "top": null,
            "visibility": null,
            "width": null
          }
        },
        "aba17536643c43159d66bd60303a3683": {
          "model_module": "@jupyter-widgets/controls",
          "model_name": "DescriptionStyleModel",
          "model_module_version": "1.5.0",
          "state": {
            "_model_module": "@jupyter-widgets/controls",
            "_model_module_version": "1.5.0",
            "_model_name": "DescriptionStyleModel",
            "_view_count": null,
            "_view_module": "@jupyter-widgets/base",
            "_view_module_version": "1.2.0",
            "_view_name": "StyleView",
            "description_width": ""
          }
        }
      }
    },
    "gpuClass": "standard",
    "accelerator": "GPU"
  },
  "nbformat": 4,
  "nbformat_minor": 0
}